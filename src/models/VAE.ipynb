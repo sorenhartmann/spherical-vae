{
 "metadata": {
  "language_info": {
   "codemirror_mode": {
    "name": "ipython",
    "version": 3
   },
   "file_extension": ".py",
   "mimetype": "text/x-python",
   "name": "python",
   "nbconvert_exporter": "python",
   "pygments_lexer": "ipython3",
   "version": "3.8.5-final"
  },
  "orig_nbformat": 2,
  "kernelspec": {
   "name": "python3",
   "display_name": "Python 3.8.5 64-bit ('anaconda3': virtualenv)",
   "metadata": {
    "interpreter": {
     "hash": "dca0ade3e726a953b501b15e8e990130d2b7799f14cfd9f4271676035ebe5511"
    }
   }
  }
 },
 "nbformat": 4,
 "nbformat_minor": 2,
 "cells": [
  {
   "cell_type": "code",
   "execution_count": 1,
   "metadata": {},
   "outputs": [],
   "source": [
    "import math\n",
    "import numpy as np\n",
    "import pandas as pd\n",
    "import torch\n",
    "from torch import nn, Tensor\n",
    "from torch.nn.functional import softplus\n",
    "from torch.distributions import Distribution"
   ]
  },
  {
   "source": [
    "## Gaussian Distribution"
   ],
   "cell_type": "markdown",
   "metadata": {}
  },
  {
   "cell_type": "code",
   "execution_count": 2,
   "metadata": {},
   "outputs": [],
   "source": [
    "# From Deep Learning course week 7\n",
    "class ReparameterizedDiagonalGaussian(Distribution):\n",
    "    \"\"\"\n",
    "    A distribution `N(y | mu, sigma I)` compatible with the reparameterization trick given `epsilon ~ N(0, 1)`.\n",
    "    \"\"\"\n",
    "\n",
    "    def __init__(self, mu: Tensor, log_sigma: Tensor):\n",
    "        assert (\n",
    "            mu.shape == log_sigma.shape\n",
    "        ), f\"Tensors `mu` : {mu.shape} and ` log_sigma` : {log_sigma.shape} must be of the same shape\"\n",
    "        self.mu = mu\n",
    "        self.sigma = log_sigma.exp()\n",
    "\n",
    "    def sample_epsilon(self) -> Tensor:\n",
    "        \"\"\"`\\eps ~ N(0, I)`\"\"\"\n",
    "        return torch.empty_like(self.mu).normal_()\n",
    "\n",
    "    def sample(self) -> Tensor:\n",
    "        \"\"\"sample `z ~ N(z | mu, sigma)` (without gradients)\"\"\"\n",
    "        with torch.no_grad():\n",
    "            return self.rsample()\n",
    "\n",
    "    def rsample(self) -> Tensor:\n",
    "        \"\"\"sample `z ~ N(z | mu, sigma)` (with the reparameterization trick) \"\"\"\n",
    "        return self.mu + self.sigma * self.sample_epsilon()\n",
    "\n",
    "    def log_prob(self, z: Tensor) -> Tensor:\n",
    "        \"\"\"return the log probability: log `p(z)`\"\"\"\n",
    "        return torch.distributions.normal.Normal(self.mu, self.sigma).log_prob(z)"
   ]
  },
  {
   "source": [
    "## Dataset: Titanic"
   ],
   "cell_type": "markdown",
   "metadata": {}
  },
  {
   "cell_type": "code",
   "execution_count": 3,
   "metadata": {},
   "outputs": [],
   "source": [
    "train = pd.read_csv('../data/titanic/train.csv')\n",
    "test = pd.read_csv('../data/titanic/test.csv')"
   ]
  },
  {
   "cell_type": "code",
   "execution_count": 10,
   "metadata": {},
   "outputs": [
    {
     "output_type": "error",
     "ename": "NameError",
     "evalue": "name 'stratified_sampler' is not defined",
     "traceback": [
      "\u001b[0;31m---------------------------------------------------------------------------\u001b[0m",
      "\u001b[0;31mNameError\u001b[0m                                 Traceback (most recent call last)",
      "\u001b[0;32m<ipython-input-10-276f1b67e394>\u001b[0m in \u001b[0;36m<module>\u001b[0;34m\u001b[0m\n\u001b[1;32m      8\u001b[0m \u001b[0;31m# The loaders perform the actual work\u001b[0m\u001b[0;34m\u001b[0m\u001b[0;34m\u001b[0m\u001b[0;34m\u001b[0m\u001b[0m\n\u001b[1;32m      9\u001b[0m train_loader = DataLoader(train, batch_size=batch_size,\n\u001b[0;32m---> 10\u001b[0;31m                           sampler=stratified_sampler(train.train_labels))\n\u001b[0m\u001b[1;32m     11\u001b[0m test_loader  = DataLoader(test, batch_size=eval_batch_size, \n\u001b[1;32m     12\u001b[0m                           sampler=stratified_sampler(test.test_labels))\n",
      "\u001b[0;31mNameError\u001b[0m: name 'stratified_sampler' is not defined"
     ]
    }
   ],
   "source": [
    "from torch.utils.data import DataLoader\n",
    "from torch.utils.data.sampler import SubsetRandomSampler\n",
    "from torchvision.transforms import ToTensor\n",
    "from functools import reduce\n",
    "\n",
    "batch_size = 64\n",
    "eval_batch_size = 100\n",
    "# The loaders perform the actual work\n",
    "train_loader = DataLoader(train, batch_size=batch_size,\n",
    "                          sampler=stratified_sampler(train.train_labels))\n",
    "test_loader  = DataLoader(test, batch_size=eval_batch_size, \n",
    "                          sampler=stratified_sampler(test.test_labels))"
   ]
  },
  {
   "source": [
    "## Building the model"
   ],
   "cell_type": "markdown",
   "metadata": {}
  },
  {
   "cell_type": "code",
   "execution_count": 5,
   "metadata": {},
   "outputs": [
    {
     "output_type": "stream",
     "name": "stdout",
     "text": [
      "VariationalAutoencoder(\n  (encoder): Sequential(\n    (0): Linear(in_features=10692, out_features=256, bias=True)\n    (1): ReLU()\n    (2): Linear(in_features=256, out_features=128, bias=True)\n    (3): ReLU()\n    (4): Linear(in_features=128, out_features=64, bias=True)\n    (5): ReLU()\n    (6): Linear(in_features=64, out_features=32, bias=True)\n    (7): ReLU()\n    (8): Linear(in_features=32, out_features=4, bias=True)\n  )\n  (decoder): Sequential(\n    (0): Linear(in_features=2, out_features=128, bias=True)\n    (1): ReLU()\n    (2): Linear(in_features=128, out_features=256, bias=True)\n    (3): ReLU()\n    (4): Linear(in_features=256, out_features=512, bias=True)\n    (5): ReLU()\n    (6): Linear(in_features=512, out_features=10692, bias=True)\n  )\n)\n"
     ]
    }
   ],
   "source": [
    "class VariationalAutoencoder(nn.Module):\n",
    "    \"\"\"A Variational Autoencoder with\n",
    "    * a Gaussian observation model `p(x|z)`\n",
    "    * a Gaussian prior `p(z) = N(z | 0, I)`\n",
    "    * a Gaussian posterior `q(z|x) = N(z | \\mu(x), \\sigma(x))`\n",
    "    \"\"\"\n",
    "    def __init__(self, input_dimension, latent_features, output_dimension = None):\n",
    "\n",
    "        super().__init__()\n",
    "\n",
    "        self.input_dimension = input_dimension\n",
    "        self.latent_features = latent_features\n",
    "        self.observation_features = np.prod(input_dimension)\n",
    "\n",
    "        if output_dimension is None:\n",
    "            self.output_dimension = input_dimension\n",
    "        else:\n",
    "            self.output_dimension = output_dimension\n",
    "        \n",
    "        # Encode the observation `x` into the parameters of the posterior distribution\n",
    "        self.encoder = nn.Sequential(\n",
    "            nn.Linear(in_features=self.observation_features, out_features=256),\n",
    "            nn.ReLU(),\n",
    "            nn.Linear(in_features=256, out_features=128),\n",
    "            nn.ReLU(),\n",
    "            nn.Linear(in_features=128, out_features=64), \n",
    "            nn.ReLU(),\n",
    "            nn.Linear(in_features=64, out_features=32), \n",
    "            nn.ReLU(),\n",
    "            # A Gaussian is fully characterised by its mean \\mu and variance \\sigma**2\n",
    "            nn.Linear(in_features=32, out_features=2*latent_features) # <- note the 2*latent_features\n",
    "        )\n",
    "\n",
    "        # Decode the latent sample `z` into the parameters of the observation model\n",
    "        self.decoder = nn.Sequential(\n",
    "            nn.Linear(in_features=latent_features, out_features=128),\n",
    "            nn.ReLU(),\n",
    "            nn.Linear(in_features=128, out_features=256),\n",
    "            nn.ReLU(),\n",
    "            nn.Linear(in_features=256, out_features=512), \n",
    "            nn.ReLU(),\n",
    "            nn.Linear(in_features=512, out_features=self.observation_features)\n",
    "        )\n",
    "\n",
    "        # Define the parameters of the prior, chosen as p(z) = N(0, I)\n",
    "        self.register_buffer('prior_params', torch.zeros(torch.Size([1, 2*latent_features])))\n",
    "\n",
    "        def posterior(self, x: Tensor) -> Distribution:\n",
    "            \"\"\"return the distribution `q(z|x) = N(z | \\mu(x), \\sigma(x))`\"\"\"\n",
    "            # Compute the parameters of the posterior\n",
    "            h_x = self.encoder(x)\n",
    "            mu, log_sigma = h_x.chunk(2, dim=-1)\n",
    "\n",
    "            # Return a distribution `q(z|x) = N(z | \\mu(x), \\sigma(x))`\n",
    "            return ReparameterizedDiagonalGaussian(mu, log_sigma)\n",
    "        \n",
    "        def prior(self, batch_size: int=1) -> Distribution:\n",
    "            \"\"\"return the distribution `p(z)`\"\"\"\n",
    "            prior_params = self.prior_params.expand(batch_size, *self.prior_params.shape[-1:])\n",
    "            mu, log_sigma = prior_params.chunk(2, dim=-1)\n",
    "\n",
    "            # return the distribution `p(z)`\n",
    "            return ReparameterizedDiagonalGaussian(mu, log_sigma)\n",
    "        \n",
    "        def observation_model(self, z: Tensor) -> Distribution:\n",
    "            \"\"\"return the distribution `p(x|z)`\"\"\"\n",
    "            h_z = self.decoder(z, batch_sizes)\n",
    "            mu, log_sigma = h_z.data.chunk(2, dim=-1)\n",
    "\n",
    "            return ReparameterizedDiagonalGaussian(mu, log_sigma)\n",
    "\n",
    "        def forward(self, x):\n",
    "            # define the posterior q(z|x) / encode x into q(z|x)\n",
    "            qz = self.posterior(x)\n",
    "        \n",
    "            # define the prior p(z)\n",
    "            pz = self.prior(batch_size=x.size(0))\n",
    "        \n",
    "            # sample the posterior using the reparameterization trick: z ~ q(z | x)\n",
    "            z = qz.rsample()\n",
    "        \n",
    "            # define the observation model p(x|z) = B(x | g(z))\n",
    "            px = self.observation_model(z)\n",
    "        \n",
    "            return {'px': px, 'pz': pz, 'qz': qz, 'z': z}\n",
    "\n",
    "latent_features = 2\n",
    "vae = VariationalAutoencoder(train.shape, latent_features)\n",
    "print(vae)"
   ]
  },
  {
   "source": [
    "## Training and evaluation"
   ],
   "cell_type": "markdown",
   "metadata": {}
  },
  {
   "cell_type": "code",
   "execution_count": 7,
   "metadata": {},
   "outputs": [],
   "source": [
    "from collections import defaultdict\n",
    "\n",
    "latent_features = 2\n",
    "vae = VariationalAutoencoder(train.shape, latent_features)\n",
    "\n",
    "# The Adam optimizer works really well with VAEs.\n",
    "optimizer = torch.optim.Adam(vae.parameters(), lr=1e-3)\n",
    "\n",
    "# define dictionary to store the training curves\n",
    "training_data = defaultdict(list)\n",
    "validation_data = defaultdict(list)\n",
    "\n",
    "epoch = 0"
   ]
  },
  {
   "cell_type": "code",
   "execution_count": null,
   "metadata": {},
   "outputs": [],
   "source": []
  }
 ]
}