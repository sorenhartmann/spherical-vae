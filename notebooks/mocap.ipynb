{
 "cells": [
  {
   "cell_type": "code",
   "execution_count": null,
   "metadata": {},
   "outputs": [],
   "source": [
    "%load_ext autoreload\n",
    "%autoreload 2\n",
    "\n",
    "from src.data.mocap import MotionCaptureDataset\n",
    "from src.models.mocap import SphericalVAE, VariationalAutoencoder\n",
    "from sklearn.decomposition import PCA\n",
    "from src.utils import plot_3d\n",
    "import optuna\n",
    "import torch"
   ]
  },
  {
   "cell_type": "code",
   "execution_count": null,
   "metadata": {},
   "outputs": [],
   "source": [
    "vae_study = optuna.load_study(\n",
    "    study_name=\"mocap-07-vae\",\n",
    "    storage=\"sqlite:///../runs/mocap-07-vae/optuna-storage.db\"\n",
    ")\n",
    "best_vae_trial = vae_study.best_trial\n",
    "svae_study = optuna.load_study(\n",
    "    study_name=\"mocap-07-svae\",\n",
    "    storage=\"sqlite:///../runs/mocap-07-svae/optuna-storage.db\"\n",
    ")\n",
    "best_svae_trial = svae_study.best_trial"
   ]
  },
  {
   "cell_type": "code",
   "execution_count": null,
   "metadata": {},
   "outputs": [],
   "source": [
    "dataset = MotionCaptureDataset(\"07\")\n",
    "n_features = dataset.n_features\n",
    "X = dataset.X"
   ]
  },
  {
   "cell_type": "code",
   "execution_count": null,
   "metadata": {},
   "outputs": [],
   "source": [
    "vae_params = vae_study.best_trial.params\n",
    "vae_layer_sizes = [vae_params[f\"layer_size_{i+1}\"] for i in range(vae_params[\"n_layers\"])]\n",
    "vae_dropout = vae_study.best_trial.params[\"dropout\"]\n",
    "vae_number = vae_study.best_trial.number\n",
    "\n",
    "svae_params = svae_study.best_trial.params\n",
    "svae_layer_sizes = [svae_params[f\"layer_size_{i+1}\"] for i in range(svae_params[\"n_layers\"])]\n",
    "svae_dropout = svae_study.best_trial.params[\"dropout\"]\n",
    "svae_number = svae_study.best_trial.number"
   ]
  },
  {
   "cell_type": "code",
   "execution_count": null,
   "metadata": {},
   "outputs": [],
   "source": [
    "svae = SphericalVAE(\n",
    "    feature_dim=n_features,\n",
    "    latent_dim=3,\n",
    "    encoder_params={\n",
    "        \"layer_sizes\" : svae_layer_sizes,\n",
    "        \"dropout\": svae_dropout,\n",
    "        \"activation_function\" : \"Tanh\"\n",
    "    },\n",
    "    decoder_params={\n",
    "        \"layer_sizes\" : svae_layer_sizes[::-1],\n",
    "        \"dropout\": svae_dropout,\n",
    "        \"activation_function\" : \"Tanh\"\n",
    "    },\n",
    ")\n",
    "svae_state_dict = torch.load(f\"../runs/mocap-07-svae/checkpoints/{svae_number:03}.pt\")\n",
    "svae.load_state_dict(svae_state_dict)"
   ]
  },
  {
   "cell_type": "code",
   "execution_count": null,
   "metadata": {},
   "outputs": [],
   "source": [
    "vae = VariationalAutoencoder(\n",
    "    feature_dim=n_features,\n",
    "    latent_dim=3,\n",
    "    encoder_params={\n",
    "        \"layer_sizes\" : vae_layer_sizes,\n",
    "        \"dropout\": vae_dropout,\n",
    "        \"activation_function\" : \"Tanh\"\n",
    "    },\n",
    "    decoder_params={\n",
    "        \"layer_sizes\" : vae_layer_sizes[::-1],\n",
    "        \"dropout\": vae_dropout,\n",
    "        \"activation_function\" : \"Tanh\"\n",
    "    },\n",
    ")\n",
    "vae_state_dict = torch.load(f\"../runs/mocap-07-vae/checkpoints/{vae_number:03}.pt\")\n",
    "vae.load_state_dict(vae_state_dict)"
   ]
  },
  {
   "cell_type": "code",
   "execution_count": null,
   "metadata": {},
   "outputs": [],
   "source": [
    "import re\n",
    "pattern = re.compile(\"_(\\d+):\")\n",
    "classes = [int(pattern.search(s).group(1)) for s in dataset.labels]"
   ]
  },
  {
   "cell_type": "code",
   "execution_count": null,
   "metadata": {},
   "outputs": [],
   "source": [
    "x, y, z = PCA(n_components=3).fit_transform(X).T\n",
    "fig = plot_3d(x, y, z, classes = classes)\n",
    "fig.show()"
   ]
  },
  {
   "cell_type": "code",
   "execution_count": null,
   "metadata": {},
   "outputs": [],
   "source": [
    "output = vae(X)\n",
    "plot_3d( *output[\"z\"].T.detach().numpy(), classes)"
   ]
  },
  {
   "cell_type": "code",
   "execution_count": null,
   "metadata": {},
   "outputs": [],
   "source": [
    "output = svae(X)\n",
    "plot_3d( *output[\"z\"].T.detach().numpy(), classes)"
   ]
  }
 ],
 "metadata": {
  "kernelspec": {
   "display_name": "Python 3.7.7 64-bit ('spherical-vae': conda)",
   "name": "python377jvsc74a57bd0655ab5e98cfd1c434f76cb171fbd09e46bd40e25e7cc42505bd9bc3a9c4b997b"
  },
  "language_info": {
   "codemirror_mode": {
    "name": "ipython",
    "version": 3
   },
   "file_extension": ".py",
   "mimetype": "text/x-python",
   "name": "python",
   "nbconvert_exporter": "python",
   "pygments_lexer": "ipython3",
   "version": "3.7.7"
  },
  "orig_nbformat": 2
 },
 "nbformat": 4,
 "nbformat_minor": 2
}