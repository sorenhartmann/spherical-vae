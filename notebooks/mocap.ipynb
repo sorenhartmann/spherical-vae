{
 "cells": [
  {
   "cell_type": "code",
   "execution_count": null,
   "metadata": {},
   "outputs": [],
   "source": [
    "%load_ext autoreload\n",
    "%autoreload 2\n",
    "\n",
    "from src.data.mocap import MotionCaptureDataset\n",
    "from src.models.mocap import SphericalVAE, VariationalAutoencoder\n",
    "from sklearn.decomposition import PCA\n",
    "from src.utils import plot_3d\n",
    "import torch"
   ]
  },
  {
   "cell_type": "code",
   "execution_count": null,
   "metadata": {},
   "outputs": [],
   "source": [
    "dataset = MotionCaptureDataset(\"07\") ## Salsa\n",
    "X = dataset.X"
   ]
  },
  {
   "cell_type": "code",
   "execution_count": null,
   "metadata": {},
   "outputs": [],
   "source": [
    "import re\n",
    "pattern = re.compile(\"_(\\d+):\")\n",
    "classes = [int(pattern.search(s).group(1)) for s in dataset.labels]"
   ]
  },
  {
   "cell_type": "code",
   "execution_count": null,
   "metadata": {},
   "outputs": [],
   "source": [
    "x, y, z = PCA(n_components=3).fit_transform(X).T\n",
    "fig = plot_3d(x, y, z, classes = classes)\n",
    "fig.show()\n"
   ]
  },
  {
   "cell_type": "code",
   "execution_count": null,
   "metadata": {},
   "outputs": [],
   "source": [
    "feature_dim = X.shape[-1]\n",
    "\n",
    "svae = SphericalVAE(feature_dim=feature_dim, latent_dim=3)\n",
    "svae.to(torch.double)\n",
    "svae_state_dict = torch.load('../models/mocap/svae.pt')\n",
    "svae.load_state_dict(svae_state_dict)\n",
    "\n",
    "vae = VariationalAutoencoder(feature_dim, 3)\n",
    "vae.to(torch.double)\n",
    "vae_state_dict = torch.load('../models/mocap/vae.pt')\n",
    "vae.load_state_dict(vae_state_dict)"
   ]
  },
  {
   "cell_type": "code",
   "execution_count": null,
   "metadata": {},
   "outputs": [],
   "source": [
    "output = vae(X)\n",
    "plot_3d( *output[\"z\"].T.detach().numpy(), classes)"
   ]
  },
  {
   "cell_type": "code",
   "execution_count": null,
   "metadata": {},
   "outputs": [],
   "source": [
    "output = svae(X)\n",
    "plot_3d( *output[\"z\"].T.detach().numpy(), classes)"
   ]
  }
 ],
 "metadata": {
  "kernelspec": {
   "display_name": "Python 3.7.7 64-bit ('spherical-vae': conda)",
   "name": "python377jvsc74a57bd0655ab5e98cfd1c434f76cb171fbd09e46bd40e25e7cc42505bd9bc3a9c4b997b"
  },
  "language_info": {
   "codemirror_mode": {
    "name": "ipython",
    "version": 3
   },
   "file_extension": ".py",
   "mimetype": "text/x-python",
   "name": "python",
   "nbconvert_exporter": "python",
   "pygments_lexer": "ipython3",
   "version": "3.7.7"
  },
  "orig_nbformat": 2
 },
 "nbformat": 4,
 "nbformat_minor": 2
}