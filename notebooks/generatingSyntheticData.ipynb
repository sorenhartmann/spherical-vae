{
 "metadata": {
  "language_info": {
   "codemirror_mode": {
    "name": "ipython",
    "version": 3
   },
   "file_extension": ".py",
   "mimetype": "text/x-python",
   "name": "python",
   "nbconvert_exporter": "python",
   "pygments_lexer": "ipython3",
   "version": "3.8.8-final"
  },
  "orig_nbformat": 2,
  "kernelspec": {
   "name": "python3",
   "display_name": "Python 3",
   "language": "python"
  }
 },
 "nbformat": 4,
 "nbformat_minor": 2,
 "cells": [
  {
   "cell_type": "code",
   "execution_count": null,
   "metadata": {},
   "outputs": [],
   "source": [
    "from src.data.genSynthData import genSynthDataS1"
   ]
  },
  {
   "cell_type": "code",
   "execution_count": null,
   "metadata": {},
   "outputs": [],
   "source": [
    "# Importations \n",
    "import numpy as np  \n",
    "import matplotlib.pyplot as plt\n",
    "import seaborn as snb\n",
    "import torch\n",
    "import random\n",
    "# style stuff\n",
    "snb.set(font_scale=1.5)\n",
    "snb.set_style('darkgrid')\n",
    "colors = ['r', 'g', 'b', 'y']"
   ]
  },
  {
   "cell_type": "code",
   "execution_count": null,
   "metadata": {},
   "outputs": [],
   "source": [
    "# Generate Spherical Data on S1 \n",
    "\n",
    "# Draw theta from three gaussians\n",
    "gr1 = np.random.normal(scale = 0.4, size = 100)\n",
    "gr2 = np.random.normal(scale = 0.6, loc = -np.pi/1.5, size = 100)\n",
    "gr3 = np.random.normal(scale= 0.5, loc = np.pi/1.5, size = 100)\n",
    "\n",
    "plt.figure(figsize = (10,5))\n",
    "plt.hist(gr1, alpha = 0.75)\n",
    "plt.hist(gr2, alpha = 0.75)\n",
    "plt.hist(gr3, alpha = 0.75)"
   ]
  },
  {
   "cell_type": "code",
   "execution_count": null,
   "metadata": {},
   "outputs": [],
   "source": [
    "plt.figure(figsize = (5,5))\n",
    "plt.plot(np.cos(gr1), np.sin(gr1), '*')\n",
    "plt.plot(np.cos(gr2), np.sin(gr2), '*')\n",
    "plt.plot(np.cos(gr3), np.sin(gr3), '*')\n",
    "plt.xlim(-1.1, 1.1)\n",
    "plt.ylim(-1.1, 1.1)"
   ]
  },
  {
   "cell_type": "code",
   "execution_count": 78,
   "metadata": {},
   "outputs": [],
   "source": [
    "# Seeting seed for reproducability\n",
    "np.random.seed(60220)\n",
    "Nclasses = 2\n",
    "Nsamples = 50\n",
    "#Drawing means between -pi and pi\n",
    "means = np.random.uniform(low = -np.pi, high = np.pi, size = Nclasses)\n",
    "scales = np.random.uniform(low = 0.1, high = 1, size = Nclasses)\n",
    "\n",
    "# Drawing angles from normal distribution \n",
    "thetas = [np.random.normal(loc = means[i], scale = scales[i], size = Nsamples) for i in range(Nclasses)]\n",
    "\n",
    "# Changing to polar coordinates \n",
    "samplesCartesian = np.array(np.transpose([[np.cos(thetas[i]), np.sin(thetas[i]), np.ones(len(thetas[0]))*i] for i in range(Nclasses)])) # Size: (Nsamples, 3, Nclasses)\n",
    "samplesCartesian = np.transpose(np.hstack(samplesCartesian))"
   ]
  },
  {
   "cell_type": "code",
   "execution_count": null,
   "metadata": {},
   "outputs": [],
   "source": [
    "# Blowing up the dimension of the synthetic data \n",
    "\n",
    "# Drawing random samples to multiply on each coordinate \n",
    "newDim = 20\n",
    "noisyData = [dataS1[:,:,i]@np.random.normal(size = [np.shape(dataS1)[1],newDim]) for i in range(np.shape(dataS1)[2])]\n",
    "noisyData = [noisyData[i] + np.random.normal(size = np.shape(noisyData[i])) for i in range(np.shape(dataS1)[2])]\n",
    "noisyData = [noisyData[i] + np.random.normal(size = np.shape(noisyData[i])) for i in range(np.shape(dataS1)[2])]\n"
   ]
  }
 ]
}