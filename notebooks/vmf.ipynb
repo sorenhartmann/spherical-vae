{
 "metadata": {
  "language_info": {
   "codemirror_mode": {
    "name": "ipython",
    "version": 3
   },
   "file_extension": ".py",
   "mimetype": "text/x-python",
   "name": "python",
   "nbconvert_exporter": "python",
   "pygments_lexer": "ipython3",
   "version": "3.7.7-final"
  },
  "orig_nbformat": 2,
  "kernelspec": {
   "name": "python3",
   "display_name": "Python 3.7.7 64-bit ('spherical-vae': conda)",
   "metadata": {
    "interpreter": {
     "hash": "655ab5e98cfd1c434f76cb171fbd09e46bd40e25e7cc42505bd9bc3a9c4b997b"
    }
   }
  }
 },
 "nbformat": 4,
 "nbformat_minor": 2,
 "cells": [
  {
   "cell_type": "code",
   "execution_count": 1,
   "metadata": {},
   "outputs": [],
   "source": [
    "%load_ext autoreload\n",
    "%autoreload 2\n",
    "\n",
    "from src.distributions import VonMisesFisher, SphereUniform\n",
    "import torch"
   ]
  },
  {
   "cell_type": "code",
   "execution_count": 4,
   "metadata": {},
   "outputs": [],
   "source": [
    "su = SphereUniform(1)"
   ]
  },
  {
   "cell_type": "code",
   "execution_count": 5,
   "metadata": {},
   "outputs": [
    {
     "output_type": "execute_result",
     "data": {
      "text/plain": [
       "<matplotlib.collections.PathCollection at 0x7fbac63b1d10>"
      ]
     },
     "metadata": {},
     "execution_count": 5
    },
    {
     "output_type": "display_data",
     "data": {
      "text/plain": "<Figure size 432x288 with 1 Axes>",
      "image/svg+xml": "<?xml version=\"1.0\" encoding=\"utf-8\" standalone=\"no\"?>\n<!DOCTYPE svg PUBLIC \"-//W3C//DTD SVG 1.1//EN\"\n  \"http://www.w3.org/Graphics/SVG/1.1/DTD/svg11.dtd\">\n<!-- Created with matplotlib (https://matplotlib.org/) -->\n<svg height=\"248.518125pt\" version=\"1.1\" viewBox=\"0 0 386.845313 248.518125\" width=\"386.845313pt\" xmlns=\"http://www.w3.org/2000/svg\" xmlns:xlink=\"http://www.w3.org/1999/xlink\">\n <metadata>\n  <rdf:RDF xmlns:cc=\"http://creativecommons.org/ns#\" xmlns:dc=\"http://purl.org/dc/elements/1.1/\" xmlns:rdf=\"http://www.w3.org/1999/02/22-rdf-syntax-ns#\">\n   <cc:Work>\n    <dc:type rdf:resource=\"http://purl.org/dc/dcmitype/StillImage\"/>\n    <dc:date>2021-03-11T21:44:53.361305</dc:date>\n    <dc:format>image/svg+xml</dc:format>\n    <dc:creator>\n     <cc:Agent>\n      <dc:title>Matplotlib v3.3.4, https://matplotlib.org/</dc:title>\n     </cc:Agent>\n    </dc:creator>\n   </cc:Work>\n  </rdf:RDF>\n </metadata>\n <defs>\n  <style type=\"text/css\">*{stroke-linecap:butt;stroke-linejoin:round;}</style>\n </defs>\n <g id=\"figure_1\">\n  <g id=\"patch_1\">\n   <path d=\"M 0 248.518125 \nL 386.845313 248.518125 \nL 386.845313 0 \nL 0 0 \nz\n\" style=\"fill:none;\"/>\n  </g>\n  <g id=\"axes_1\">\n   <g id=\"patch_2\">\n    <path d=\"M 44.845313 224.64 \nL 379.645313 224.64 \nL 379.645313 7.2 \nL 44.845313 7.2 \nz\n\" style=\"fill:#ffffff;\"/>\n   </g>\n   <g id=\"PathCollection_1\">\n    <defs>\n     <path d=\"M 0 3 \nC 0.795609 3 1.55874 2.683901 2.12132 2.12132 \nC 2.683901 1.55874 3 0.795609 3 0 \nC 3 -0.795609 2.683901 -1.55874 2.12132 -2.12132 \nC 1.55874 -2.683901 0.795609 -3 0 -3 \nC -0.795609 -3 -1.55874 -2.683901 -2.12132 -2.12132 \nC -2.683901 -1.55874 -3 -0.795609 -3 0 \nC -3 0.795609 -2.683901 1.55874 -2.12132 2.12132 \nC -1.55874 2.683901 -0.795609 3 0 3 \nz\n\" id=\"m00e72b9bf7\" style=\"stroke:#1f77b4;\"/>\n    </defs>\n    <g clip-path=\"url(#p737c3e7052)\">\n     <use style=\"fill:#1f77b4;stroke:#1f77b4;\" x=\"364.404259\" xlink:href=\"#m00e72b9bf7\" y=\"112.988235\"/>\n     <use style=\"fill:#1f77b4;stroke:#1f77b4;\" x=\"341.652973\" xlink:href=\"#m00e72b9bf7\" y=\"63.655381\"/>\n     <use style=\"fill:#1f77b4;stroke:#1f77b4;\" x=\"344.968685\" xlink:href=\"#m00e72b9bf7\" y=\"67.310433\"/>\n     <use style=\"fill:#1f77b4;stroke:#1f77b4;\" x=\"78.897484\" xlink:href=\"#m00e72b9bf7\" y=\"163.529601\"/>\n     <use style=\"fill:#1f77b4;stroke:#1f77b4;\" x=\"243.374636\" xlink:href=\"#m00e72b9bf7\" y=\"18.869366\"/>\n     <use style=\"fill:#1f77b4;stroke:#1f77b4;\" x=\"111.636752\" xlink:href=\"#m00e72b9bf7\" y=\"190.095394\"/>\n     <use style=\"fill:#1f77b4;stroke:#1f77b4;\" x=\"295.089451\" xlink:href=\"#m00e72b9bf7\" y=\"198.869237\"/>\n     <use style=\"fill:#1f77b4;stroke:#1f77b4;\" x=\"313.277411\" xlink:href=\"#m00e72b9bf7\" y=\"189.863244\"/>\n     <use style=\"fill:#1f77b4;stroke:#1f77b4;\" x=\"361.196744\" xlink:href=\"#m00e72b9bf7\" y=\"136.207893\"/>\n     <use style=\"fill:#1f77b4;stroke:#1f77b4;\" x=\"344.570387\" xlink:href=\"#m00e72b9bf7\" y=\"66.851918\"/>\n     <use style=\"fill:#1f77b4;stroke:#1f77b4;\" x=\"362.633238\" xlink:href=\"#m00e72b9bf7\" y=\"100.479236\"/>\n     <use style=\"fill:#1f77b4;stroke:#1f77b4;\" x=\"85.406731\" xlink:href=\"#m00e72b9bf7\" y=\"61.068643\"/>\n     <use style=\"fill:#1f77b4;stroke:#1f77b4;\" x=\"362.206243\" xlink:href=\"#m00e72b9bf7\" y=\"98.799807\"/>\n     <use style=\"fill:#1f77b4;stroke:#1f77b4;\" x=\"194.036396\" xlink:href=\"#m00e72b9bf7\" y=\"214.10444\"/>\n     <use style=\"fill:#1f77b4;stroke:#1f77b4;\" x=\"200.301121\" xlink:href=\"#m00e72b9bf7\" y=\"17.083636\"/>\n     <use style=\"fill:#1f77b4;stroke:#1f77b4;\" x=\"62.576469\" xlink:href=\"#m00e72b9bf7\" y=\"97.813221\"/>\n     <use style=\"fill:#1f77b4;stroke:#1f77b4;\" x=\"357.508272\" xlink:href=\"#m00e72b9bf7\" y=\"145.391543\"/>\n     <use style=\"fill:#1f77b4;stroke:#1f77b4;\" x=\"352.554023\" xlink:href=\"#m00e72b9bf7\" y=\"77.397317\"/>\n     <use style=\"fill:#1f77b4;stroke:#1f77b4;\" x=\"358.386793\" xlink:href=\"#m00e72b9bf7\" y=\"143.500802\"/>\n     <use style=\"fill:#1f77b4;stroke:#1f77b4;\" x=\"285.371787\" xlink:href=\"#m00e72b9bf7\" y=\"202.643749\"/>\n     <use style=\"fill:#1f77b4;stroke:#1f77b4;\" x=\"94.785843\" xlink:href=\"#m00e72b9bf7\" y=\"52.829062\"/>\n     <use style=\"fill:#1f77b4;stroke:#1f77b4;\" x=\"256.185738\" xlink:href=\"#m00e72b9bf7\" y=\"20.991586\"/>\n     <use style=\"fill:#1f77b4;stroke:#1f77b4;\" x=\"188.801702\" xlink:href=\"#m00e72b9bf7\" y=\"17.960344\"/>\n     <use style=\"fill:#1f77b4;stroke:#1f77b4;\" x=\"87.637761\" xlink:href=\"#m00e72b9bf7\" y=\"172.653277\"/>\n     <use style=\"fill:#1f77b4;stroke:#1f77b4;\" x=\"132.514843\" xlink:href=\"#m00e72b9bf7\" y=\"200.140671\"/>\n     <use style=\"fill:#1f77b4;stroke:#1f77b4;\" x=\"190.653808\" xlink:href=\"#m00e72b9bf7\" y=\"213.81409\"/>\n     <use style=\"fill:#1f77b4;stroke:#1f77b4;\" x=\"352.68316\" xlink:href=\"#m00e72b9bf7\" y=\"153.996518\"/>\n     <use style=\"fill:#1f77b4;stroke:#1f77b4;\" x=\"326.971928\" xlink:href=\"#m00e72b9bf7\" y=\"50.716621\"/>\n     <use style=\"fill:#1f77b4;stroke:#1f77b4;\" x=\"343.025025\" xlink:href=\"#m00e72b9bf7\" y=\"166.469412\"/>\n     <use style=\"fill:#1f77b4;stroke:#1f77b4;\" x=\"349.19127\" xlink:href=\"#m00e72b9bf7\" y=\"72.564156\"/>\n     <use style=\"fill:#1f77b4;stroke:#1f77b4;\" x=\"249.759525\" xlink:href=\"#m00e72b9bf7\" y=\"19.830673\"/>\n     <use style=\"fill:#1f77b4;stroke:#1f77b4;\" x=\"284.120462\" xlink:href=\"#m00e72b9bf7\" y=\"28.509458\"/>\n     <use style=\"fill:#1f77b4;stroke:#1f77b4;\" x=\"179.44483\" xlink:href=\"#m00e72b9bf7\" y=\"19.10567\"/>\n     <use style=\"fill:#1f77b4;stroke:#1f77b4;\" x=\"129.919074\" xlink:href=\"#m00e72b9bf7\" y=\"199.078487\"/>\n     <use style=\"fill:#1f77b4;stroke:#1f77b4;\" x=\"201.597387\" xlink:href=\"#m00e72b9bf7\" y=\"214.573283\"/>\n     <use style=\"fill:#1f77b4;stroke:#1f77b4;\" x=\"192.143484\" xlink:href=\"#m00e72b9bf7\" y=\"17.645968\"/>\n     <use style=\"fill:#1f77b4;stroke:#1f77b4;\" x=\"361.197978\" xlink:href=\"#m00e72b9bf7\" y=\"136.204076\"/>\n     <use style=\"fill:#1f77b4;stroke:#1f77b4;\" x=\"68.056184\" xlink:href=\"#m00e72b9bf7\" y=\"147.497778\"/>\n     <use style=\"fill:#1f77b4;stroke:#1f77b4;\" x=\"89.175593\" xlink:href=\"#m00e72b9bf7\" y=\"57.540417\"/>\n     <use style=\"fill:#1f77b4;stroke:#1f77b4;\" x=\"149.375868\" xlink:href=\"#m00e72b9bf7\" y=\"205.972092\"/>\n     <use style=\"fill:#1f77b4;stroke:#1f77b4;\" x=\"61.222607\" xlink:href=\"#m00e72b9bf7\" y=\"128.090321\"/>\n     <use style=\"fill:#1f77b4;stroke:#1f77b4;\" x=\"147.598264\" xlink:href=\"#m00e72b9bf7\" y=\"26.155596\"/>\n     <use style=\"fill:#1f77b4;stroke:#1f77b4;\" x=\"338.006261\" xlink:href=\"#m00e72b9bf7\" y=\"171.587109\"/>\n     <use style=\"fill:#1f77b4;stroke:#1f77b4;\" x=\"334.097937\" xlink:href=\"#m00e72b9bf7\" y=\"56.45015\"/>\n     <use style=\"fill:#1f77b4;stroke:#1f77b4;\" x=\"307.484968\" xlink:href=\"#m00e72b9bf7\" y=\"193.042709\"/>\n     <use style=\"fill:#1f77b4;stroke:#1f77b4;\" x=\"233.039962\" xlink:href=\"#m00e72b9bf7\" y=\"17.705319\"/>\n     <use style=\"fill:#1f77b4;stroke:#1f77b4;\" x=\"330.728443\" xlink:href=\"#m00e72b9bf7\" y=\"177.964111\"/>\n     <use style=\"fill:#1f77b4;stroke:#1f77b4;\" x=\"186.130134\" xlink:href=\"#m00e72b9bf7\" y=\"18.247235\"/>\n     <use style=\"fill:#1f77b4;stroke:#1f77b4;\" x=\"363.841006\" xlink:href=\"#m00e72b9bf7\" y=\"124.757665\"/>\n     <use style=\"fill:#1f77b4;stroke:#1f77b4;\" x=\"358.654883\" xlink:href=\"#m00e72b9bf7\" y=\"88.69891\"/>\n     <use style=\"fill:#1f77b4;stroke:#1f77b4;\" x=\"162.630245\" xlink:href=\"#m00e72b9bf7\" y=\"22.188236\"/>\n     <use style=\"fill:#1f77b4;stroke:#1f77b4;\" x=\"260.227337\" xlink:href=\"#m00e72b9bf7\" y=\"209.769833\"/>\n     <use style=\"fill:#1f77b4;stroke:#1f77b4;\" x=\"172.522703\" xlink:href=\"#m00e72b9bf7\" y=\"20.210922\"/>\n     <use style=\"fill:#1f77b4;stroke:#1f77b4;\" x=\"60.082574\" xlink:href=\"#m00e72b9bf7\" y=\"117.996256\"/>\n     <use style=\"fill:#1f77b4;stroke:#1f77b4;\" x=\"337.636142\" xlink:href=\"#m00e72b9bf7\" y=\"59.655573\"/>\n     <use style=\"fill:#1f77b4;stroke:#1f77b4;\" x=\"361.242968\" xlink:href=\"#m00e72b9bf7\" y=\"136.064586\"/>\n     <use style=\"fill:#1f77b4;stroke:#1f77b4;\" x=\"228.384121\" xlink:href=\"#m00e72b9bf7\" y=\"214.258842\"/>\n     <use style=\"fill:#1f77b4;stroke:#1f77b4;\" x=\"91.772152\" xlink:href=\"#m00e72b9bf7\" y=\"55.286859\"/>\n     <use style=\"fill:#1f77b4;stroke:#1f77b4;\" x=\"133.512494\" xlink:href=\"#m00e72b9bf7\" y=\"200.536419\"/>\n     <use style=\"fill:#1f77b4;stroke:#1f77b4;\" x=\"164.009859\" xlink:href=\"#m00e72b9bf7\" y=\"21.883516\"/>\n     <use style=\"fill:#1f77b4;stroke:#1f77b4;\" x=\"135.571901\" xlink:href=\"#m00e72b9bf7\" y=\"30.262136\"/>\n     <use style=\"fill:#1f77b4;stroke:#1f77b4;\" x=\"283.054999\" xlink:href=\"#m00e72b9bf7\" y=\"28.141751\"/>\n     <use style=\"fill:#1f77b4;stroke:#1f77b4;\" x=\"160.987227\" xlink:href=\"#m00e72b9bf7\" y=\"209.0304\"/>\n     <use style=\"fill:#1f77b4;stroke:#1f77b4;\" x=\"60.063494\" xlink:href=\"#m00e72b9bf7\" y=\"114.254926\"/>\n     <use style=\"fill:#1f77b4;stroke:#1f77b4;\" x=\"64.097925\" xlink:href=\"#m00e72b9bf7\" y=\"138.494908\"/>\n     <use style=\"fill:#1f77b4;stroke:#1f77b4;\" x=\"72.35182\" xlink:href=\"#m00e72b9bf7\" y=\"76.791703\"/>\n     <use style=\"fill:#1f77b4;stroke:#1f77b4;\" x=\"343.723548\" xlink:href=\"#m00e72b9bf7\" y=\"65.895518\"/>\n     <use style=\"fill:#1f77b4;stroke:#1f77b4;\" x=\"62.661922\" xlink:href=\"#m00e72b9bf7\" y=\"97.514764\"/>\n     <use style=\"fill:#1f77b4;stroke:#1f77b4;\" x=\"206.959153\" xlink:href=\"#m00e72b9bf7\" y=\"214.756364\"/>\n     <use style=\"fill:#1f77b4;stroke:#1f77b4;\" x=\"363.297177\" xlink:href=\"#m00e72b9bf7\" y=\"128.042066\"/>\n     <use style=\"fill:#1f77b4;stroke:#1f77b4;\" x=\"254.049207\" xlink:href=\"#m00e72b9bf7\" y=\"20.583675\"/>\n     <use style=\"fill:#1f77b4;stroke:#1f77b4;\" x=\"93.694728\" xlink:href=\"#m00e72b9bf7\" y=\"177.893594\"/>\n     <use style=\"fill:#1f77b4;stroke:#1f77b4;\" x=\"282.903168\" xlink:href=\"#m00e72b9bf7\" y=\"203.504196\"/>\n     <use style=\"fill:#1f77b4;stroke:#1f77b4;\" x=\"364.427131\" xlink:href=\"#m00e72b9bf7\" y=\"113.573657\"/>\n     <use style=\"fill:#1f77b4;stroke:#1f77b4;\" x=\"182.494357\" xlink:href=\"#m00e72b9bf7\" y=\"212.905128\"/>\n     <use style=\"fill:#1f77b4;stroke:#1f77b4;\" x=\"165.420096\" xlink:href=\"#m00e72b9bf7\" y=\"21.581882\"/>\n     <use style=\"fill:#1f77b4;stroke:#1f77b4;\" x=\"285.599668\" xlink:href=\"#m00e72b9bf7\" y=\"202.562389\"/>\n     <use style=\"fill:#1f77b4;stroke:#1f77b4;\" x=\"61.9851\" xlink:href=\"#m00e72b9bf7\" y=\"100.037852\"/>\n     <use style=\"fill:#1f77b4;stroke:#1f77b4;\" x=\"272.13971\" xlink:href=\"#m00e72b9bf7\" y=\"24.763342\"/>\n     <use style=\"fill:#1f77b4;stroke:#1f77b4;\" x=\"262.107055\" xlink:href=\"#m00e72b9bf7\" y=\"209.354875\"/>\n     <use style=\"fill:#1f77b4;stroke:#1f77b4;\" x=\"360.364221\" xlink:href=\"#m00e72b9bf7\" y=\"92.965922\"/>\n     <use style=\"fill:#1f77b4;stroke:#1f77b4;\" x=\"92.642217\" xlink:href=\"#m00e72b9bf7\" y=\"54.560711\"/>\n     <use style=\"fill:#1f77b4;stroke:#1f77b4;\" x=\"60.345221\" xlink:href=\"#m00e72b9bf7\" y=\"122.012926\"/>\n     <use style=\"fill:#1f77b4;stroke:#1f77b4;\" x=\"254.300672\" xlink:href=\"#m00e72b9bf7\" y=\"20.630543\"/>\n     <use style=\"fill:#1f77b4;stroke:#1f77b4;\" x=\"312.948489\" xlink:href=\"#m00e72b9bf7\" y=\"190.052551\"/>\n     <use style=\"fill:#1f77b4;stroke:#1f77b4;\" x=\"134.830801\" xlink:href=\"#m00e72b9bf7\" y=\"201.048967\"/>\n     <use style=\"fill:#1f77b4;stroke:#1f77b4;\" x=\"118.967064\" xlink:href=\"#m00e72b9bf7\" y=\"37.555213\"/>\n     <use style=\"fill:#1f77b4;stroke:#1f77b4;\" x=\"67.327486\" xlink:href=\"#m00e72b9bf7\" y=\"146.058795\"/>\n     <use style=\"fill:#1f77b4;stroke:#1f77b4;\" x=\"178.648887\" xlink:href=\"#m00e72b9bf7\" y=\"212.372684\"/>\n     <use style=\"fill:#1f77b4;stroke:#1f77b4;\" x=\"203.706302\" xlink:href=\"#m00e72b9bf7\" y=\"214.660025\"/>\n     <use style=\"fill:#1f77b4;stroke:#1f77b4;\" x=\"321.572322\" xlink:href=\"#m00e72b9bf7\" y=\"46.895584\"/>\n     <use style=\"fill:#1f77b4;stroke:#1f77b4;\" x=\"333.760678\" xlink:href=\"#m00e72b9bf7\" y=\"175.435873\"/>\n     <use style=\"fill:#1f77b4;stroke:#1f77b4;\" x=\"116.854864\" xlink:href=\"#m00e72b9bf7\" y=\"38.640604\"/>\n     <use style=\"fill:#1f77b4;stroke:#1f77b4;\" x=\"350.138042\" xlink:href=\"#m00e72b9bf7\" y=\"73.856991\"/>\n     <use style=\"fill:#1f77b4;stroke:#1f77b4;\" x=\"321.314356\" xlink:href=\"#m00e72b9bf7\" y=\"46.722791\"/>\n     <use style=\"fill:#1f77b4;stroke:#1f77b4;\" x=\"254.974028\" xlink:href=\"#m00e72b9bf7\" y=\"20.757542\"/>\n     <use style=\"fill:#1f77b4;stroke:#1f77b4;\" x=\"354.169153\" xlink:href=\"#m00e72b9bf7\" y=\"79.997066\"/>\n     <use style=\"fill:#1f77b4;stroke:#1f77b4;\" x=\"67.02806\" xlink:href=\"#m00e72b9bf7\" y=\"86.149027\"/>\n     <use style=\"fill:#1f77b4;stroke:#1f77b4;\" x=\"78.595471\" xlink:href=\"#m00e72b9bf7\" y=\"68.423366\"/>\n     <use style=\"fill:#1f77b4;stroke:#1f77b4;\" x=\"161.200506\" xlink:href=\"#m00e72b9bf7\" y=\"22.514204\"/>\n    </g>\n   </g>\n   <g id=\"matplotlib.axis_1\">\n    <g id=\"xtick_1\">\n     <g id=\"line2d_1\">\n      <defs>\n       <path d=\"M 0 0 \nL 0 3.5 \n\" id=\"m9cf77d04b7\" style=\"stroke:#000000;stroke-width:0.8;\"/>\n      </defs>\n      <g>\n       <use style=\"stroke:#000000;stroke-width:0.8;\" x=\"60.045032\" xlink:href=\"#m9cf77d04b7\" y=\"224.64\"/>\n      </g>\n     </g>\n     <g id=\"text_1\">\n      <!-- −1.00 -->\n      <g transform=\"translate(44.722376 239.238437)scale(0.1 -0.1)\">\n       <defs>\n        <path d=\"M 10.59375 35.5 \nL 73.1875 35.5 \nL 73.1875 27.203125 \nL 10.59375 27.203125 \nz\n\" id=\"DejaVuSans-8722\"/>\n        <path d=\"M 12.40625 8.296875 \nL 28.515625 8.296875 \nL 28.515625 63.921875 \nL 10.984375 60.40625 \nL 10.984375 69.390625 \nL 28.421875 72.90625 \nL 38.28125 72.90625 \nL 38.28125 8.296875 \nL 54.390625 8.296875 \nL 54.390625 0 \nL 12.40625 0 \nz\n\" id=\"DejaVuSans-49\"/>\n        <path d=\"M 10.6875 12.40625 \nL 21 12.40625 \nL 21 0 \nL 10.6875 0 \nz\n\" id=\"DejaVuSans-46\"/>\n        <path d=\"M 31.78125 66.40625 \nQ 24.171875 66.40625 20.328125 58.90625 \nQ 16.5 51.421875 16.5 36.375 \nQ 16.5 21.390625 20.328125 13.890625 \nQ 24.171875 6.390625 31.78125 6.390625 \nQ 39.453125 6.390625 43.28125 13.890625 \nQ 47.125 21.390625 47.125 36.375 \nQ 47.125 51.421875 43.28125 58.90625 \nQ 39.453125 66.40625 31.78125 66.40625 \nz\nM 31.78125 74.21875 \nQ 44.046875 74.21875 50.515625 64.515625 \nQ 56.984375 54.828125 56.984375 36.375 \nQ 56.984375 17.96875 50.515625 8.265625 \nQ 44.046875 -1.421875 31.78125 -1.421875 \nQ 19.53125 -1.421875 13.0625 8.265625 \nQ 6.59375 17.96875 6.59375 36.375 \nQ 6.59375 54.828125 13.0625 64.515625 \nQ 19.53125 74.21875 31.78125 74.21875 \nz\n\" id=\"DejaVuSans-48\"/>\n       </defs>\n       <use xlink:href=\"#DejaVuSans-8722\"/>\n       <use x=\"83.789062\" xlink:href=\"#DejaVuSans-49\"/>\n       <use x=\"147.412109\" xlink:href=\"#DejaVuSans-46\"/>\n       <use x=\"179.199219\" xlink:href=\"#DejaVuSans-48\"/>\n       <use x=\"242.822266\" xlink:href=\"#DejaVuSans-48\"/>\n      </g>\n     </g>\n    </g>\n    <g id=\"xtick_2\">\n     <g id=\"line2d_2\">\n      <g>\n       <use style=\"stroke:#000000;stroke-width:0.8;\" x=\"98.097591\" xlink:href=\"#m9cf77d04b7\" y=\"224.64\"/>\n      </g>\n     </g>\n     <g id=\"text_2\">\n      <!-- −0.75 -->\n      <g transform=\"translate(82.774935 239.238437)scale(0.1 -0.1)\">\n       <defs>\n        <path d=\"M 8.203125 72.90625 \nL 55.078125 72.90625 \nL 55.078125 68.703125 \nL 28.609375 0 \nL 18.3125 0 \nL 43.21875 64.59375 \nL 8.203125 64.59375 \nz\n\" id=\"DejaVuSans-55\"/>\n        <path d=\"M 10.796875 72.90625 \nL 49.515625 72.90625 \nL 49.515625 64.59375 \nL 19.828125 64.59375 \nL 19.828125 46.734375 \nQ 21.96875 47.46875 24.109375 47.828125 \nQ 26.265625 48.1875 28.421875 48.1875 \nQ 40.625 48.1875 47.75 41.5 \nQ 54.890625 34.8125 54.890625 23.390625 \nQ 54.890625 11.625 47.5625 5.09375 \nQ 40.234375 -1.421875 26.90625 -1.421875 \nQ 22.3125 -1.421875 17.546875 -0.640625 \nQ 12.796875 0.140625 7.71875 1.703125 \nL 7.71875 11.625 \nQ 12.109375 9.234375 16.796875 8.0625 \nQ 21.484375 6.890625 26.703125 6.890625 \nQ 35.15625 6.890625 40.078125 11.328125 \nQ 45.015625 15.765625 45.015625 23.390625 \nQ 45.015625 31 40.078125 35.4375 \nQ 35.15625 39.890625 26.703125 39.890625 \nQ 22.75 39.890625 18.8125 39.015625 \nQ 14.890625 38.140625 10.796875 36.28125 \nz\n\" id=\"DejaVuSans-53\"/>\n       </defs>\n       <use xlink:href=\"#DejaVuSans-8722\"/>\n       <use x=\"83.789062\" xlink:href=\"#DejaVuSans-48\"/>\n       <use x=\"147.412109\" xlink:href=\"#DejaVuSans-46\"/>\n       <use x=\"179.199219\" xlink:href=\"#DejaVuSans-55\"/>\n       <use x=\"242.822266\" xlink:href=\"#DejaVuSans-53\"/>\n      </g>\n     </g>\n    </g>\n    <g id=\"xtick_3\">\n     <g id=\"line2d_3\">\n      <g>\n       <use style=\"stroke:#000000;stroke-width:0.8;\" x=\"136.150151\" xlink:href=\"#m9cf77d04b7\" y=\"224.64\"/>\n      </g>\n     </g>\n     <g id=\"text_3\">\n      <!-- −0.50 -->\n      <g transform=\"translate(120.827494 239.238437)scale(0.1 -0.1)\">\n       <use xlink:href=\"#DejaVuSans-8722\"/>\n       <use x=\"83.789062\" xlink:href=\"#DejaVuSans-48\"/>\n       <use x=\"147.412109\" xlink:href=\"#DejaVuSans-46\"/>\n       <use x=\"179.199219\" xlink:href=\"#DejaVuSans-53\"/>\n       <use x=\"242.822266\" xlink:href=\"#DejaVuSans-48\"/>\n      </g>\n     </g>\n    </g>\n    <g id=\"xtick_4\">\n     <g id=\"line2d_4\">\n      <g>\n       <use style=\"stroke:#000000;stroke-width:0.8;\" x=\"174.20271\" xlink:href=\"#m9cf77d04b7\" y=\"224.64\"/>\n      </g>\n     </g>\n     <g id=\"text_4\">\n      <!-- −0.25 -->\n      <g transform=\"translate(158.880054 239.238437)scale(0.1 -0.1)\">\n       <defs>\n        <path d=\"M 19.1875 8.296875 \nL 53.609375 8.296875 \nL 53.609375 0 \nL 7.328125 0 \nL 7.328125 8.296875 \nQ 12.9375 14.109375 22.625 23.890625 \nQ 32.328125 33.6875 34.8125 36.53125 \nQ 39.546875 41.84375 41.421875 45.53125 \nQ 43.3125 49.21875 43.3125 52.78125 \nQ 43.3125 58.59375 39.234375 62.25 \nQ 35.15625 65.921875 28.609375 65.921875 \nQ 23.96875 65.921875 18.8125 64.3125 \nQ 13.671875 62.703125 7.8125 59.421875 \nL 7.8125 69.390625 \nQ 13.765625 71.78125 18.9375 73 \nQ 24.125 74.21875 28.421875 74.21875 \nQ 39.75 74.21875 46.484375 68.546875 \nQ 53.21875 62.890625 53.21875 53.421875 \nQ 53.21875 48.921875 51.53125 44.890625 \nQ 49.859375 40.875 45.40625 35.40625 \nQ 44.1875 33.984375 37.640625 27.21875 \nQ 31.109375 20.453125 19.1875 8.296875 \nz\n\" id=\"DejaVuSans-50\"/>\n       </defs>\n       <use xlink:href=\"#DejaVuSans-8722\"/>\n       <use x=\"83.789062\" xlink:href=\"#DejaVuSans-48\"/>\n       <use x=\"147.412109\" xlink:href=\"#DejaVuSans-46\"/>\n       <use x=\"179.199219\" xlink:href=\"#DejaVuSans-50\"/>\n       <use x=\"242.822266\" xlink:href=\"#DejaVuSans-53\"/>\n      </g>\n     </g>\n    </g>\n    <g id=\"xtick_5\">\n     <g id=\"line2d_5\">\n      <g>\n       <use style=\"stroke:#000000;stroke-width:0.8;\" x=\"212.255269\" xlink:href=\"#m9cf77d04b7\" y=\"224.64\"/>\n      </g>\n     </g>\n     <g id=\"text_5\">\n      <!-- 0.00 -->\n      <g transform=\"translate(201.122457 239.238437)scale(0.1 -0.1)\">\n       <use xlink:href=\"#DejaVuSans-48\"/>\n       <use x=\"63.623047\" xlink:href=\"#DejaVuSans-46\"/>\n       <use x=\"95.410156\" xlink:href=\"#DejaVuSans-48\"/>\n       <use x=\"159.033203\" xlink:href=\"#DejaVuSans-48\"/>\n      </g>\n     </g>\n    </g>\n    <g id=\"xtick_6\">\n     <g id=\"line2d_6\">\n      <g>\n       <use style=\"stroke:#000000;stroke-width:0.8;\" x=\"250.307829\" xlink:href=\"#m9cf77d04b7\" y=\"224.64\"/>\n      </g>\n     </g>\n     <g id=\"text_6\">\n      <!-- 0.25 -->\n      <g transform=\"translate(239.175016 239.238437)scale(0.1 -0.1)\">\n       <use xlink:href=\"#DejaVuSans-48\"/>\n       <use x=\"63.623047\" xlink:href=\"#DejaVuSans-46\"/>\n       <use x=\"95.410156\" xlink:href=\"#DejaVuSans-50\"/>\n       <use x=\"159.033203\" xlink:href=\"#DejaVuSans-53\"/>\n      </g>\n     </g>\n    </g>\n    <g id=\"xtick_7\">\n     <g id=\"line2d_7\">\n      <g>\n       <use style=\"stroke:#000000;stroke-width:0.8;\" x=\"288.360388\" xlink:href=\"#m9cf77d04b7\" y=\"224.64\"/>\n      </g>\n     </g>\n     <g id=\"text_7\">\n      <!-- 0.50 -->\n      <g transform=\"translate(277.227576 239.238437)scale(0.1 -0.1)\">\n       <use xlink:href=\"#DejaVuSans-48\"/>\n       <use x=\"63.623047\" xlink:href=\"#DejaVuSans-46\"/>\n       <use x=\"95.410156\" xlink:href=\"#DejaVuSans-53\"/>\n       <use x=\"159.033203\" xlink:href=\"#DejaVuSans-48\"/>\n      </g>\n     </g>\n    </g>\n    <g id=\"xtick_8\">\n     <g id=\"line2d_8\">\n      <g>\n       <use style=\"stroke:#000000;stroke-width:0.8;\" x=\"326.412948\" xlink:href=\"#m9cf77d04b7\" y=\"224.64\"/>\n      </g>\n     </g>\n     <g id=\"text_8\">\n      <!-- 0.75 -->\n      <g transform=\"translate(315.280135 239.238437)scale(0.1 -0.1)\">\n       <use xlink:href=\"#DejaVuSans-48\"/>\n       <use x=\"63.623047\" xlink:href=\"#DejaVuSans-46\"/>\n       <use x=\"95.410156\" xlink:href=\"#DejaVuSans-55\"/>\n       <use x=\"159.033203\" xlink:href=\"#DejaVuSans-53\"/>\n      </g>\n     </g>\n    </g>\n    <g id=\"xtick_9\">\n     <g id=\"line2d_9\">\n      <g>\n       <use style=\"stroke:#000000;stroke-width:0.8;\" x=\"364.465507\" xlink:href=\"#m9cf77d04b7\" y=\"224.64\"/>\n      </g>\n     </g>\n     <g id=\"text_9\">\n      <!-- 1.00 -->\n      <g transform=\"translate(353.332695 239.238437)scale(0.1 -0.1)\">\n       <use xlink:href=\"#DejaVuSans-49\"/>\n       <use x=\"63.623047\" xlink:href=\"#DejaVuSans-46\"/>\n       <use x=\"95.410156\" xlink:href=\"#DejaVuSans-48\"/>\n       <use x=\"159.033203\" xlink:href=\"#DejaVuSans-48\"/>\n      </g>\n     </g>\n    </g>\n   </g>\n   <g id=\"matplotlib.axis_2\">\n    <g id=\"ytick_1\">\n     <g id=\"line2d_10\">\n      <defs>\n       <path d=\"M 0 0 \nL -3.5 0 \n\" id=\"m1fb7315d85\" style=\"stroke:#000000;stroke-width:0.8;\"/>\n      </defs>\n      <g>\n       <use style=\"stroke:#000000;stroke-width:0.8;\" x=\"44.845313\" xlink:href=\"#m1fb7315d85\" y=\"214.816328\"/>\n      </g>\n     </g>\n     <g id=\"text_10\">\n      <!-- −1.00 -->\n      <g transform=\"translate(7.2 218.615547)scale(0.1 -0.1)\">\n       <use xlink:href=\"#DejaVuSans-8722\"/>\n       <use x=\"83.789062\" xlink:href=\"#DejaVuSans-49\"/>\n       <use x=\"147.412109\" xlink:href=\"#DejaVuSans-46\"/>\n       <use x=\"179.199219\" xlink:href=\"#DejaVuSans-48\"/>\n       <use x=\"242.822266\" xlink:href=\"#DejaVuSans-48\"/>\n      </g>\n     </g>\n    </g>\n    <g id=\"ytick_2\">\n     <g id=\"line2d_11\">\n      <g>\n       <use style=\"stroke:#000000;stroke-width:0.8;\" x=\"44.845313\" xlink:href=\"#m1fb7315d85\" y=\"190.061511\"/>\n      </g>\n     </g>\n     <g id=\"text_11\">\n      <!-- −0.75 -->\n      <g transform=\"translate(7.2 193.860729)scale(0.1 -0.1)\">\n       <use xlink:href=\"#DejaVuSans-8722\"/>\n       <use x=\"83.789062\" xlink:href=\"#DejaVuSans-48\"/>\n       <use x=\"147.412109\" xlink:href=\"#DejaVuSans-46\"/>\n       <use x=\"179.199219\" xlink:href=\"#DejaVuSans-55\"/>\n       <use x=\"242.822266\" xlink:href=\"#DejaVuSans-53\"/>\n      </g>\n     </g>\n    </g>\n    <g id=\"ytick_3\">\n     <g id=\"line2d_12\">\n      <g>\n       <use style=\"stroke:#000000;stroke-width:0.8;\" x=\"44.845313\" xlink:href=\"#m1fb7315d85\" y=\"165.306693\"/>\n      </g>\n     </g>\n     <g id=\"text_12\">\n      <!-- −0.50 -->\n      <g transform=\"translate(7.2 169.105912)scale(0.1 -0.1)\">\n       <use xlink:href=\"#DejaVuSans-8722\"/>\n       <use x=\"83.789062\" xlink:href=\"#DejaVuSans-48\"/>\n       <use x=\"147.412109\" xlink:href=\"#DejaVuSans-46\"/>\n       <use x=\"179.199219\" xlink:href=\"#DejaVuSans-53\"/>\n       <use x=\"242.822266\" xlink:href=\"#DejaVuSans-48\"/>\n      </g>\n     </g>\n    </g>\n    <g id=\"ytick_4\">\n     <g id=\"line2d_13\">\n      <g>\n       <use style=\"stroke:#000000;stroke-width:0.8;\" x=\"44.845313\" xlink:href=\"#m1fb7315d85\" y=\"140.551876\"/>\n      </g>\n     </g>\n     <g id=\"text_13\">\n      <!-- −0.25 -->\n      <g transform=\"translate(7.2 144.351094)scale(0.1 -0.1)\">\n       <use xlink:href=\"#DejaVuSans-8722\"/>\n       <use x=\"83.789062\" xlink:href=\"#DejaVuSans-48\"/>\n       <use x=\"147.412109\" xlink:href=\"#DejaVuSans-46\"/>\n       <use x=\"179.199219\" xlink:href=\"#DejaVuSans-50\"/>\n       <use x=\"242.822266\" xlink:href=\"#DejaVuSans-53\"/>\n      </g>\n     </g>\n    </g>\n    <g id=\"ytick_5\">\n     <g id=\"line2d_14\">\n      <g>\n       <use style=\"stroke:#000000;stroke-width:0.8;\" x=\"44.845313\" xlink:href=\"#m1fb7315d85\" y=\"115.797058\"/>\n      </g>\n     </g>\n     <g id=\"text_14\">\n      <!-- 0.00 -->\n      <g transform=\"translate(15.579688 119.596277)scale(0.1 -0.1)\">\n       <use xlink:href=\"#DejaVuSans-48\"/>\n       <use x=\"63.623047\" xlink:href=\"#DejaVuSans-46\"/>\n       <use x=\"95.410156\" xlink:href=\"#DejaVuSans-48\"/>\n       <use x=\"159.033203\" xlink:href=\"#DejaVuSans-48\"/>\n      </g>\n     </g>\n    </g>\n    <g id=\"ytick_6\">\n     <g id=\"line2d_15\">\n      <g>\n       <use style=\"stroke:#000000;stroke-width:0.8;\" x=\"44.845313\" xlink:href=\"#m1fb7315d85\" y=\"91.042241\"/>\n      </g>\n     </g>\n     <g id=\"text_15\">\n      <!-- 0.25 -->\n      <g transform=\"translate(15.579688 94.84146)scale(0.1 -0.1)\">\n       <use xlink:href=\"#DejaVuSans-48\"/>\n       <use x=\"63.623047\" xlink:href=\"#DejaVuSans-46\"/>\n       <use x=\"95.410156\" xlink:href=\"#DejaVuSans-50\"/>\n       <use x=\"159.033203\" xlink:href=\"#DejaVuSans-53\"/>\n      </g>\n     </g>\n    </g>\n    <g id=\"ytick_7\">\n     <g id=\"line2d_16\">\n      <g>\n       <use style=\"stroke:#000000;stroke-width:0.8;\" x=\"44.845313\" xlink:href=\"#m1fb7315d85\" y=\"66.287423\"/>\n      </g>\n     </g>\n     <g id=\"text_16\">\n      <!-- 0.50 -->\n      <g transform=\"translate(15.579688 70.086642)scale(0.1 -0.1)\">\n       <use xlink:href=\"#DejaVuSans-48\"/>\n       <use x=\"63.623047\" xlink:href=\"#DejaVuSans-46\"/>\n       <use x=\"95.410156\" xlink:href=\"#DejaVuSans-53\"/>\n       <use x=\"159.033203\" xlink:href=\"#DejaVuSans-48\"/>\n      </g>\n     </g>\n    </g>\n    <g id=\"ytick_8\">\n     <g id=\"line2d_17\">\n      <g>\n       <use style=\"stroke:#000000;stroke-width:0.8;\" x=\"44.845313\" xlink:href=\"#m1fb7315d85\" y=\"41.532606\"/>\n      </g>\n     </g>\n     <g id=\"text_17\">\n      <!-- 0.75 -->\n      <g transform=\"translate(15.579688 45.331825)scale(0.1 -0.1)\">\n       <use xlink:href=\"#DejaVuSans-48\"/>\n       <use x=\"63.623047\" xlink:href=\"#DejaVuSans-46\"/>\n       <use x=\"95.410156\" xlink:href=\"#DejaVuSans-55\"/>\n       <use x=\"159.033203\" xlink:href=\"#DejaVuSans-53\"/>\n      </g>\n     </g>\n    </g>\n    <g id=\"ytick_9\">\n     <g id=\"line2d_18\">\n      <g>\n       <use style=\"stroke:#000000;stroke-width:0.8;\" x=\"44.845313\" xlink:href=\"#m1fb7315d85\" y=\"16.777788\"/>\n      </g>\n     </g>\n     <g id=\"text_18\">\n      <!-- 1.00 -->\n      <g transform=\"translate(15.579688 20.577007)scale(0.1 -0.1)\">\n       <use xlink:href=\"#DejaVuSans-49\"/>\n       <use x=\"63.623047\" xlink:href=\"#DejaVuSans-46\"/>\n       <use x=\"95.410156\" xlink:href=\"#DejaVuSans-48\"/>\n       <use x=\"159.033203\" xlink:href=\"#DejaVuSans-48\"/>\n      </g>\n     </g>\n    </g>\n   </g>\n   <g id=\"patch_3\">\n    <path d=\"M 44.845313 224.64 \nL 44.845313 7.2 \n\" style=\"fill:none;stroke:#000000;stroke-linecap:square;stroke-linejoin:miter;stroke-width:0.8;\"/>\n   </g>\n   <g id=\"patch_4\">\n    <path d=\"M 379.645313 224.64 \nL 379.645313 7.2 \n\" style=\"fill:none;stroke:#000000;stroke-linecap:square;stroke-linejoin:miter;stroke-width:0.8;\"/>\n   </g>\n   <g id=\"patch_5\">\n    <path d=\"M 44.845312 224.64 \nL 379.645313 224.64 \n\" style=\"fill:none;stroke:#000000;stroke-linecap:square;stroke-linejoin:miter;stroke-width:0.8;\"/>\n   </g>\n   <g id=\"patch_6\">\n    <path d=\"M 44.845312 7.2 \nL 379.645313 7.2 \n\" style=\"fill:none;stroke:#000000;stroke-linecap:square;stroke-linejoin:miter;stroke-width:0.8;\"/>\n   </g>\n  </g>\n </g>\n <defs>\n  <clipPath id=\"p737c3e7052\">\n   <rect height=\"217.44\" width=\"334.8\" x=\"44.845313\" y=\"7.2\"/>\n  </clipPath>\n </defs>\n</svg>\n",
      "image/png": "[encoded data removed]"
     },
     "metadata": {
      "needs_background": "light"
     }
    }
   ],
   "source": [
    "import matplotlib.pyplot as plt\n",
    "plt.scatter(*su.sample(torch.Size([100])).T)"
   ]
  },
  {
   "cell_type": "code",
   "execution_count": 9,
   "metadata": {},
   "outputs": [],
   "source": [
    "vmf = VonMisesFisher(\n",
    "    mu = torch.tensor([1,0,5,3]), \n",
    "    kappa = torch.tensor(1),\n",
    ")"
   ]
  },
  {
   "cell_type": "code",
   "execution_count": 10,
   "metadata": {},
   "outputs": [
    {
     "output_type": "execute_result",
     "data": {
      "text/plain": [
       "VonMisesFisher(mu: torch.Size([4]), kappa: 1)"
      ]
     },
     "metadata": {},
     "execution_count": 10
    }
   ],
   "source": [
    "vmf"
   ]
  },
  {
   "cell_type": "code",
   "execution_count": 11,
   "metadata": {},
   "outputs": [
    {
     "output_type": "execute_result",
     "data": {
      "text/plain": [
       "tensor([1.3087, 2.1076])"
      ]
     },
     "metadata": {},
     "execution_count": 11
    }
   ],
   "source": [
    "su.rsample()"
   ]
  },
  {
   "cell_type": "code",
   "execution_count": 18,
   "metadata": {},
   "outputs": [
    {
     "output_type": "execute_result",
     "data": {
      "text/plain": [
       "torch.Size([2, 2])"
      ]
     },
     "metadata": {},
     "execution_count": 18
    }
   ],
   "source": []
  },
  {
   "cell_type": "code",
   "execution_count": 5,
   "metadata": {},
   "outputs": [],
   "source": [
    "from torch.distributions import constraints"
   ]
  },
  {
   "cell_type": "code",
   "execution_count": 6,
   "metadata": {},
   "outputs": [
    {
     "output_type": "stream",
     "text": [
      "\u001b[0;31mType:\u001b[0m        module\n",
      "\u001b[0;31mString form:\u001b[0m <module 'torch.distributions.constraints' from '/usr/local/Caskroom/miniconda/base/envs/spherical-vae/lib/python3.7/site-packages/torch/distributions/constraints.py'>\n",
      "\u001b[0;31mFile:\u001b[0m        /usr/local/Caskroom/miniconda/base/envs/spherical-vae/lib/python3.7/site-packages/torch/distributions/constraints.py\n",
      "\u001b[0;31mDocstring:\u001b[0m  \n",
      "The following constraints are implemented:\n",
      "\n",
      "- ``constraints.boolean``\n",
      "- ``constraints.cat``\n",
      "- ``constraints.corr_cholesky``\n",
      "- ``constraints.dependent``\n",
      "- ``constraints.greater_than(lower_bound)``\n",
      "- ``constraints.greater_than_eq(lower_bound)``\n",
      "- ``constraints.independent(constraint, reinterpreted_batch_ndims)``\n",
      "- ``constraints.integer_interval(lower_bound, upper_bound)``\n",
      "- ``constraints.interval(lower_bound, upper_bound)``\n",
      "- ``constraints.less_than(upper_bound)``\n",
      "- ``constraints.lower_cholesky``\n",
      "- ``constraints.lower_triangular``\n",
      "- ``constraints.multinomial``\n",
      "- ``constraints.nonnegative_integer``\n",
      "- ``constraints.one_hot``\n",
      "- ``constraints.positive_definite``\n",
      "- ``constraints.positive_integer``\n",
      "- ``constraints.positive``\n",
      "- ``constraints.real_vector``\n",
      "- ``constraints.real``\n",
      "- ``constraints.simplex``\n",
      "- ``constraints.stack``\n",
      "- ``constraints.unit_interval``\n"
     ],
     "name": "stdout"
    }
   ],
   "source": [
    "?constraints"
   ]
  },
  {
   "cell_type": "code",
   "execution_count": 78,
   "metadata": {},
   "outputs": [
    {
     "output_type": "stream",
     "name": "stdout",
     "text": [
      "-0.26467788219451904 -5.405566692352295\nshiit\n"
     ]
    },
    {
     "output_type": "execute_result",
     "data": {
      "text/plain": [
       "tensor(0.8863)"
      ]
     },
     "metadata": {},
     "execution_count": 78
    }
   ],
   "source": [
    "vmf.rsample()"
   ]
  },
  {
   "cell_type": "code",
   "execution_count": 77,
   "metadata": {},
   "outputs": [
    {
     "output_type": "execute_result",
     "data": {
      "text/plain": [
       "tensor(True)"
      ]
     },
     "metadata": {},
     "execution_count": 77
    }
   ],
   "source": [
    "vmf.m == 2"
   ]
  },
  {
   "cell_type": "code",
   "execution_count": 51,
   "metadata": {},
   "outputs": [
    {
     "output_type": "execute_result",
     "data": {
      "text/plain": [
       "tensor([0.6271])"
      ]
     },
     "metadata": {},
     "execution_count": 51
    }
   ],
   "source": [
    "if m == 2:\n",
    "\n",
    "    do this\n",
    "\n",
    "elif m > 3:\n",
    "\n",
    "    do this\n"
   ]
  },
  {
   "cell_type": "code",
   "execution_count": 53,
   "metadata": {},
   "outputs": [
    {
     "output_type": "stream",
     "text": [
      "\u001b[0;31mDocstring:\u001b[0m\n",
      "rand(*size, *, out=None, dtype=None, layout=torch.strided, device=None, requires_grad=False) -> Tensor\n",
      "\n",
      "Returns a tensor filled with random numbers from a uniform distribution\n",
      "on the interval :math:`[0, 1)`\n",
      "\n",
      "The shape of the tensor is defined by the variable argument :attr:`size`.\n",
      "\n",
      "Args:\n",
      "    size (int...): a sequence of integers defining the shape of the output tensor.\n",
      "        Can be a variable number of arguments or a collection like a list or tuple.\n",
      "\n",
      "Keyword args:\n",
      "    out (Tensor, optional): the output tensor.\n",
      "    dtype (:class:`torch.dtype`, optional): the desired data type of returned tensor.\n",
      "        Default: if ``None``, uses a global default (see :func:`torch.set_default_tensor_type`).\n",
      "    layout (:class:`torch.layout`, optional): the desired layout of returned Tensor.\n",
      "        Default: ``torch.strided``.\n",
      "    device (:class:`torch.device`, optional): the desired device of returned tensor.\n",
      "        Default: if ``None``, uses the current device for the default tensor type\n",
      "        (see :func:`torch.set_default_tensor_type`). :attr:`device` will be the CPU\n",
      "        for CPU tensor types and the current CUDA device for CUDA tensor types.\n",
      "    requires_grad (bool, optional): If autograd should record operations on the\n",
      "        returned tensor. Default: ``False``.\n",
      "\n",
      "Example::\n",
      "\n",
      "    >>> torch.rand(4)\n",
      "    tensor([ 0.5204,  0.2503,  0.3525,  0.5673])\n",
      "    >>> torch.rand(2, 3)\n",
      "    tensor([[ 0.8237,  0.5781,  0.6879],\n",
      "            [ 0.3816,  0.7249,  0.0998]])\n",
      "\u001b[0;31mType:\u001b[0m      builtin_function_or_method\n"
     ],
     "name": "stdout"
    }
   ],
   "source": [
    "torch.rand?"
   ]
  },
  {
   "cell_type": "code",
   "execution_count": null,
   "metadata": {},
   "outputs": [],
   "source": []
  }
 ]
}