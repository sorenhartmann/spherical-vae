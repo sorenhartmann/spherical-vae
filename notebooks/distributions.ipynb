{
 "metadata": {
  "language_info": {
   "codemirror_mode": {
    "name": "ipython",
    "version": 3
   },
   "file_extension": ".py",
   "mimetype": "text/x-python",
   "name": "python",
   "nbconvert_exporter": "python",
   "pygments_lexer": "ipython3",
   "version": "3.7.7-final"
  },
  "orig_nbformat": 2,
  "kernelspec": {
   "name": "python3",
   "display_name": "Python 3.7.7 64-bit ('spherical-vae': conda)",
   "metadata": {
    "interpreter": {
     "hash": "655ab5e98cfd1c434f76cb171fbd09e46bd40e25e7cc42505bd9bc3a9c4b997b"
    }
   }
  }
 },
 "nbformat": 4,
 "nbformat_minor": 2,
 "cells": [
  {
   "cell_type": "code",
   "execution_count": null,
   "metadata": {},
   "outputs": [],
   "source": [
    "%load_ext autoreload\n",
    "%autoreload 2\n",
    "\n",
    "from src.distributions import VonMisesFisher, SphereUniform\n",
    "import matplotlib.pyplot as plt\n",
    "import torch\n",
    "import plotly.express as px\n",
    "import seaborn as sns\n",
    "import math"
   ]
  },
  {
   "source": [
    "# The uniform distribution\n",
    "The source code for the distributions can be seen in the `src/distributions.py` file. Below, the uniform distribution is tested. This distribution will be used in the vMF sampling."
   ],
   "cell_type": "markdown",
   "metadata": {}
  },
  {
   "cell_type": "code",
   "execution_count": null,
   "metadata": {},
   "outputs": [],
   "source": [
    "su = SphereUniform(2)\n",
    "x, y, z = su.sample(torch.Size([100])).T\n",
    "px.scatter_3d(x=x, y=y, z=z)"
   ]
  },
  {
   "source": [
    "# Von Mises Fisher"
   ],
   "cell_type": "markdown",
   "metadata": {}
  },
  {
   "source": [
    "Below, the sampling procedure is laid out for vMF. We are sampling from 4 different mean vectors, with different concentration parameters"
   ],
   "cell_type": "markdown",
   "metadata": {}
  },
  {
   "cell_type": "code",
   "execution_count": null,
   "metadata": {},
   "outputs": [],
   "source": [
    "mu = torch.tensor([\n",
    "    [0, 1, 0],\n",
    "    [-1, 0, 0],\n",
    "    [0, 1/math.sqrt(2), -1/math.sqrt(2)],\n",
    "    [1/math.sqrt(2), 0, 1/math.sqrt(2)],\n",
    "])\n",
    "k = torch.tensor([10, 50, 25, 10])\n",
    "m = torch.tensor( mu.shape[-1] )\n",
    "\n",
    "sample_shape = torch.Size([100]) # Lets sample a bunch of samples for each parameter \n",
    "batch_shape = torch.Size(mu.shape[:-1])\n",
    "event_shape = torch.Size([m])"
   ]
  },
  {
   "cell_type": "code",
   "execution_count": null,
   "metadata": {},
   "outputs": [],
   "source": [
    "vmf = VonMisesFisher(mu, k)\n",
    "z = vmf.rsample(sample_shape)"
   ]
  },
  {
   "cell_type": "code",
   "execution_count": null,
   "metadata": {},
   "outputs": [],
   "source": [
    "from plotly import graph_objects as go\n",
    "\n",
    "fig = go.Figure()\n",
    "for i in range(z.shape[-2]):\n",
    "    x, y, z_ = z[:, i, :].T\n",
    "    fig.add_trace((go.Scatter3d(\n",
    "        x=x, \n",
    "        y=y, \n",
    "        z=z_, \n",
    "        mode=\"markers\"\n",
    "    )))\n",
    "fig"
   ]
  }
 ]
}