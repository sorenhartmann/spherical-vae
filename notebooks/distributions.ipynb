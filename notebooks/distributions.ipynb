{
 "metadata": {
  "language_info": {
   "codemirror_mode": {
    "name": "ipython",
    "version": 3
   },
   "file_extension": ".py",
   "mimetype": "text/x-python",
   "name": "python",
   "nbconvert_exporter": "python",
   "pygments_lexer": "ipython3",
   "version": "3.7.7-final"
  },
  "orig_nbformat": 2,
  "kernelspec": {
   "name": "python3",
   "display_name": "Python 3.7.7 64-bit ('spherical-vae': conda)",
   "metadata": {
    "interpreter": {
     "hash": "655ab5e98cfd1c434f76cb171fbd09e46bd40e25e7cc42505bd9bc3a9c4b997b"
    }
   }
  }
 },
 "nbformat": 4,
 "nbformat_minor": 2,
 "cells": [
  {
   "cell_type": "code",
   "execution_count": 43,
   "metadata": {},
   "outputs": [
    {
     "output_type": "stream",
     "name": "stdout",
     "text": [
      "The autoreload extension is already loaded. To reload it, use:\n  %reload_ext autoreload\n"
     ]
    }
   ],
   "source": [
    "%load_ext autoreload\n",
    "%autoreload 2\n",
    "\n",
    "from src.distributions import VonMisesFisher, SphereUniform\n",
    "import matplotlib.pyplot as plt\n",
    "import torch\n",
    "import plotly.express as px\n",
    "import seaborn as sns\n",
    "import math"
   ]
  },
  {
   "source": [
    "# The uniform distribution\n",
    "The source code for the distributions can be seen in the `src/distributions.py` file. Below, the uniform distribution is tested. This distribution will be used in the vMF sampling."
   ],
   "cell_type": "markdown",
   "metadata": {}
  },
  {
   "cell_type": "code",
   "execution_count": 44,
   "metadata": {},
   "outputs": [
    {
     "output_type": "display_data",
     "data": {
      "application/vnd.plotly.v1+json": {
       "config": {
        "plotlyServerURL": "https://plot.ly"
       },
       "data": [
        {
         "hovertemplate": "x=%{x}<br>y=%{y}<br>z=%{z}<extra></extra>",
         "legendgroup": "",
         "marker": {
          "color": "#636efa",
          "symbol": "circle"
         },
         "mode": "markers",
         "name": "",
         "scene": "scene",
         "showlegend": false,
         "type": "scatter3d",
         "x": [
          0.7055778503417969,
          0.03902982547879219,
          -0.010885359719395638,
          0.5371786952018738,
          0.4671429991722107,
          -0.30735042691230774,
          0.2518663704395294,
          0.7123392224311829,
          -0.1014198586344719,
          -0.755404531955719,
          -0.26380884647369385,
          -0.6058377027511597,
          -0.4809238314628601,
          -0.21804919838905334,
          -0.6124138832092285,
          0.00666599627584219,
          -0.9255488514900208,
          -0.3942627012729645,
          0.8511528372764587,
          0.4053323566913605,
          -0.15018562972545624,
          0.0822262391448021,
          -0.47806891798973083,
          0.3022286593914032,
          0.6724864840507507,
          0.45730093121528625,
          -0.41481444239616394,
          0.9132289886474609,
          -0.7605122923851013,
          -0.16354717314243317,
          -0.2095646858215332,
          0.6065503358840942,
          0.26738667488098145,
          -0.13479939103126526,
          -0.8730488419532776,
          -0.4136805236339569,
          0.48789724707603455,
          -0.11214952170848846,
          0.6373327374458313,
          -0.8392133116722107,
          -0.2979043126106262,
          0.7879539728164673,
          -0.40614941716194153,
          -0.06984305381774902,
          0.7312636971473694,
          0.00020716416474897414,
          -0.10722853243350983,
          -0.6937512159347534,
          0.7278631925582886,
          -0.6792935132980347,
          0.24149496853351593,
          0.2887239456176758,
          -0.7429442405700684,
          -0.038900379091501236,
          0.12207785993814468,
          -0.5394871830940247,
          -0.607573390007019,
          -0.5606638193130493,
          0.7320089340209961,
          0.896506667137146,
          0.3922252058982849,
          0.4375309348106384,
          -0.18186494708061218,
          -0.9493678212165833,
          0.6875941753387451,
          0.7658610939979553,
          -0.11670379340648651,
          -0.765996515750885,
          -0.6157869696617126,
          -0.9308156967163086,
          -0.3228294253349304,
          0.3417070508003235,
          0.002045359928160906,
          -0.38796937465667725,
          -0.02117229253053665,
          -0.8195645213127136,
          -0.7384336590766907,
          -0.42245712876319885,
          0.6532862186431885,
          0.4462735652923584,
          -0.768136739730835,
          0.21875940263271332,
          0.8626570701599121,
          -0.3543672561645508,
          0.6647957563400269,
          -0.21831947565078735,
          0.4941331446170807,
          0.1525394320487976,
          0.40128782391548157,
          0.7226518392562866,
          -0.7207127213478088,
          -0.16376934945583344,
          0.6945337653160095,
          0.04620805010199547,
          -0.8918360471725464,
          0.7768754959106445,
          0.24780194461345673,
          -0.9986937642097473,
          0.6295066475868225,
          0.5958084464073181
         ],
         "y": [
          -0.679211437702179,
          -0.7851085662841797,
          0.21173717081546783,
          0.5078415274620056,
          -0.3976329267024994,
          -0.7548600435256958,
          -0.19647802412509918,
          -0.6780821084976196,
          -0.7720497250556946,
          0.2637517750263214,
          -0.3557477295398712,
          -0.6037082672119141,
          0.8568513989448547,
          0.45687833428382874,
          0.062083885073661804,
          -0.6979506611824036,
          -0.024789495393633842,
          -0.800531804561615,
          0.2665053904056549,
          0.3456072211265564,
          -0.10222668945789337,
          -0.6749236583709717,
          -0.7086278200149536,
          0.5904079675674438,
          -0.18945728242397308,
          -0.21111422777175903,
          0.8748871684074402,
          -0.31006860733032227,
          0.6481584906578064,
          -0.1740286499261856,
          -0.514860987663269,
          0.5696624517440796,
          0.7705351114273071,
          0.5772363543510437,
          0.11266531050205231,
          -0.7800021171569824,
          0.7371337413787842,
          -0.9731343388557434,
          -0.00625584926456213,
          -0.5404595136642456,
          0.20948345959186554,
          -0.5303343534469604,
          -0.8523641228675842,
          -0.7657268047332764,
          0.4161628782749176,
          0.9152467250823975,
          0.6381000876426697,
          -0.2499270737171173,
          -0.08626247942447662,
          0.6127687692642212,
          0.0869271457195282,
          0.9573765397071838,
          -0.6632141470909119,
          -0.9772074818611145,
          -0.9192126989364624,
          -0.27756401896476746,
          0.1479901373386383,
          0.5790659785270691,
          -0.47697436809539795,
          0.28737327456474304,
          -0.09217307716608047,
          0.6914947032928467,
          0.6800894737243652,
          0.029278015717864037,
          -0.7251794338226318,
          -0.3220996558666229,
          -0.40606728196144104,
          -0.5494678616523743,
          -0.7264981269836426,
          0.3598400950431824,
          -0.2234661728143692,
          0.47862809896469116,
          -0.7074864506721497,
          0.7223806977272034,
          -0.2931060492992401,
          0.5570493340492249,
          -0.537702202796936,
          -0.5850347280502319,
          -0.7049680352210999,
          0.6356357336044312,
          0.6158987283706665,
          0.8197765946388245,
          0.42685768008232117,
          -0.3092814087867737,
          -0.21914738416671753,
          -0.42784616351127625,
          -0.19928313791751862,
          0.426959365606308,
          -0.7961211800575256,
          0.029402190819382668,
          0.13807663321495056,
          -0.4437822699546814,
          0.6224634647369385,
          0.2810159921646118,
          -0.06337194889783859,
          0.34584835171699524,
          0.9653662443161011,
          -0.008594351820647717,
          -0.3617132306098938,
          -0.5619851350784302
         ],
         "z": [
          0.20206865668296814,
          0.6181270480155945,
          0.9772659540176392,
          -0.6734508872032166,
          0.7897248864173889,
          -0.5794152617454529,
          0.9476074576377869,
          -0.18104544281959534,
          -0.6274179220199585,
          0.5998325347900391,
          0.8965759873390198,
          -0.5181670188903809,
          -0.18579018115997314,
          -0.8623901009559631,
          -0.7880957126617432,
          -0.7161147594451904,
          0.377815842628479,
          -0.4513378143310547,
          -0.45223182439804077,
          0.8463221788406372,
          0.9833585619926453,
          -0.733291745185852,
          -0.5189381241798401,
          -0.7483825087547302,
          -0.715449333190918,
          -0.8638903498649597,
          0.2500029504299164,
          -0.2643299996852875,
          -0.03888024389743805,
          -0.971064567565918,
          0.8312645554542542,
          0.554600179195404,
          0.5786018371582031,
          -0.8053739666938782,
          -0.4744388461112976,
          -0.4695371091365814,
          0.4675362706184387,
          -0.20107732713222504,
          0.7705633640289307,
          0.06020420044660568,
          0.9313268661499023,
          0.31284812092781067,
          -0.329420804977417,
          -0.6393625736236572,
          -0.5404275059700012,
          -0.40289390087127686,
          -0.7624502182006836,
          0.6754597425460815,
          -0.6802749037742615,
          -0.40382516384124756,
          -0.9665008187294006,
          0.00827747117727995,
          -0.09044787287712097,
          -0.20869193971157074,
          0.37435945868492126,
          -0.794928789138794,
          -0.7803547382354736,
          -0.5918941497802734,
          -0.48647552728652954,
          -0.33718302845954895,
          0.9152395725250244,
          0.5748058557510376,
          -0.7102136611938477,
          -0.3127994239330292,
          0.03645746782422066,
          0.5565146803855896,
          0.9063605666160583,
          0.33366820216178894,
          -0.3049701154232025,
          -0.06400982290506363,
          -0.9196978211402893,
          -0.808796226978302,
          0.7067239284515381,
          0.5724036693572998,
          -0.9558455348014832,
          -0.1342018097639084,
          -0.4069300889968872,
          -0.6922892332077026,
          -0.27611082792282104,
          -0.629926323890686,
          -0.17502747476100922,
          -0.5292548537254333,
          0.271321564912796,
          -0.8824788331985474,
          -0.7141575217247009,
          -0.8770885467529297,
          -0.8462379574775696,
          0.8913121223449707,
          0.452944815158844,
          0.6905865669250488,
          0.6793437600135803,
          0.8810431361198425,
          0.3607798218727112,
          0.9585899710655212,
          -0.4478980600833893,
          0.526168704032898,
          -0.08162268251180649,
          -0.050368234515190125,
          -0.6876662969589233,
          0.573746383190155
         ]
        }
       ],
       "layout": {
        "legend": {
         "tracegroupgap": 0
        },
        "margin": {
         "t": 60
        },
        "scene": {
         "domain": {
          "x": [
           0,
           1
          ],
          "y": [
           0,
           1
          ]
         },
         "xaxis": {
          "title": {
           "text": "x"
          }
         },
         "yaxis": {
          "title": {
           "text": "y"
          }
         },
         "zaxis": {
          "title": {
           "text": "z"
          }
         }
        },
        "template": {
         "data": {
          "bar": [
           {
            "error_x": {
             "color": "#2a3f5f"
            },
            "error_y": {
             "color": "#2a3f5f"
            },
            "marker": {
             "line": {
              "color": "#E5ECF6",
              "width": 0.5
             }
            },
            "type": "bar"
           }
          ],
          "barpolar": [
           {
            "marker": {
             "line": {
              "color": "#E5ECF6",
              "width": 0.5
             }
            },
            "type": "barpolar"
           }
          ],
          "carpet": [
           {
            "aaxis": {
             "endlinecolor": "#2a3f5f",
             "gridcolor": "white",
             "linecolor": "white",
             "minorgridcolor": "white",
             "startlinecolor": "#2a3f5f"
            },
            "baxis": {
             "endlinecolor": "#2a3f5f",
             "gridcolor": "white",
             "linecolor": "white",
             "minorgridcolor": "white",
             "startlinecolor": "#2a3f5f"
            },
            "type": "carpet"
           }
          ],
          "choropleth": [
           {
            "colorbar": {
             "outlinewidth": 0,
             "ticks": ""
            },
            "type": "choropleth"
           }
          ],
          "contour": [
           {
            "colorbar": {
             "outlinewidth": 0,
             "ticks": ""
            },
            "colorscale": [
             [
              0,
              "#0d0887"
             ],
             [
              0.1111111111111111,
              "#46039f"
             ],
             [
              0.2222222222222222,
              "#7201a8"
             ],
             [
              0.3333333333333333,
              "#9c179e"
             ],
             [
              0.4444444444444444,
              "#bd3786"
             ],
             [
              0.5555555555555556,
              "#d8576b"
             ],
             [
              0.6666666666666666,
              "#ed7953"
             ],
             [
              0.7777777777777778,
              "#fb9f3a"
             ],
             [
              0.8888888888888888,
              "#fdca26"
             ],
             [
              1,
              "#f0f921"
             ]
            ],
            "type": "contour"
           }
          ],
          "contourcarpet": [
           {
            "colorbar": {
             "outlinewidth": 0,
             "ticks": ""
            },
            "type": "contourcarpet"
           }
          ],
          "heatmap": [
           {
            "colorbar": {
             "outlinewidth": 0,
             "ticks": ""
            },
            "colorscale": [
             [
              0,
              "#0d0887"
             ],
             [
              0.1111111111111111,
              "#46039f"
             ],
             [
              0.2222222222222222,
              "#7201a8"
             ],
             [
              0.3333333333333333,
              "#9c179e"
             ],
             [
              0.4444444444444444,
              "#bd3786"
             ],
             [
              0.5555555555555556,
              "#d8576b"
             ],
             [
              0.6666666666666666,
              "#ed7953"
             ],
             [
              0.7777777777777778,
              "#fb9f3a"
             ],
             [
              0.8888888888888888,
              "#fdca26"
             ],
             [
              1,
              "#f0f921"
             ]
            ],
            "type": "heatmap"
           }
          ],
          "heatmapgl": [
           {
            "colorbar": {
             "outlinewidth": 0,
             "ticks": ""
            },
            "colorscale": [
             [
              0,
              "#0d0887"
             ],
             [
              0.1111111111111111,
              "#46039f"
             ],
             [
              0.2222222222222222,
              "#7201a8"
             ],
             [
              0.3333333333333333,
              "#9c179e"
             ],
             [
              0.4444444444444444,
              "#bd3786"
             ],
             [
              0.5555555555555556,
              "#d8576b"
             ],
             [
              0.6666666666666666,
              "#ed7953"
             ],
             [
              0.7777777777777778,
              "#fb9f3a"
             ],
             [
              0.8888888888888888,
              "#fdca26"
             ],
             [
              1,
              "#f0f921"
             ]
            ],
            "type": "heatmapgl"
           }
          ],
          "histogram": [
           {
            "marker": {
             "colorbar": {
              "outlinewidth": 0,
              "ticks": ""
             }
            },
            "type": "histogram"
           }
          ],
          "histogram2d": [
           {
            "colorbar": {
             "outlinewidth": 0,
             "ticks": ""
            },
            "colorscale": [
             [
              0,
              "#0d0887"
             ],
             [
              0.1111111111111111,
              "#46039f"
             ],
             [
              0.2222222222222222,
              "#7201a8"
             ],
             [
              0.3333333333333333,
              "#9c179e"
             ],
             [
              0.4444444444444444,
              "#bd3786"
             ],
             [
              0.5555555555555556,
              "#d8576b"
             ],
             [
              0.6666666666666666,
              "#ed7953"
             ],
             [
              0.7777777777777778,
              "#fb9f3a"
             ],
             [
              0.8888888888888888,
              "#fdca26"
             ],
             [
              1,
              "#f0f921"
             ]
            ],
            "type": "histogram2d"
           }
          ],
          "histogram2dcontour": [
           {
            "colorbar": {
             "outlinewidth": 0,
             "ticks": ""
            },
            "colorscale": [
             [
              0,
              "#0d0887"
             ],
             [
              0.1111111111111111,
              "#46039f"
             ],
             [
              0.2222222222222222,
              "#7201a8"
             ],
             [
              0.3333333333333333,
              "#9c179e"
             ],
             [
              0.4444444444444444,
              "#bd3786"
             ],
             [
              0.5555555555555556,
              "#d8576b"
             ],
             [
              0.6666666666666666,
              "#ed7953"
             ],
             [
              0.7777777777777778,
              "#fb9f3a"
             ],
             [
              0.8888888888888888,
              "#fdca26"
             ],
             [
              1,
              "#f0f921"
             ]
            ],
            "type": "histogram2dcontour"
           }
          ],
          "mesh3d": [
           {
            "colorbar": {
             "outlinewidth": 0,
             "ticks": ""
            },
            "type": "mesh3d"
           }
          ],
          "parcoords": [
           {
            "line": {
             "colorbar": {
              "outlinewidth": 0,
              "ticks": ""
             }
            },
            "type": "parcoords"
           }
          ],
          "pie": [
           {
            "automargin": true,
            "type": "pie"
           }
          ],
          "scatter": [
           {
            "marker": {
             "colorbar": {
              "outlinewidth": 0,
              "ticks": ""
             }
            },
            "type": "scatter"
           }
          ],
          "scatter3d": [
           {
            "line": {
             "colorbar": {
              "outlinewidth": 0,
              "ticks": ""
             }
            },
            "marker": {
             "colorbar": {
              "outlinewidth": 0,
              "ticks": ""
             }
            },
            "type": "scatter3d"
           }
          ],
          "scattercarpet": [
           {
            "marker": {
             "colorbar": {
              "outlinewidth": 0,
              "ticks": ""
             }
            },
            "type": "scattercarpet"
           }
          ],
          "scattergeo": [
           {
            "marker": {
             "colorbar": {
              "outlinewidth": 0,
              "ticks": ""
             }
            },
            "type": "scattergeo"
           }
          ],
          "scattergl": [
           {
            "marker": {
             "colorbar": {
              "outlinewidth": 0,
              "ticks": ""
             }
            },
            "type": "scattergl"
           }
          ],
          "scattermapbox": [
           {
            "marker": {
             "colorbar": {
              "outlinewidth": 0,
              "ticks": ""
             }
            },
            "type": "scattermapbox"
           }
          ],
          "scatterpolar": [
           {
            "marker": {
             "colorbar": {
              "outlinewidth": 0,
              "ticks": ""
             }
            },
            "type": "scatterpolar"
           }
          ],
          "scatterpolargl": [
           {
            "marker": {
             "colorbar": {
              "outlinewidth": 0,
              "ticks": ""
             }
            },
            "type": "scatterpolargl"
           }
          ],
          "scatterternary": [
           {
            "marker": {
             "colorbar": {
              "outlinewidth": 0,
              "ticks": ""
             }
            },
            "type": "scatterternary"
           }
          ],
          "surface": [
           {
            "colorbar": {
             "outlinewidth": 0,
             "ticks": ""
            },
            "colorscale": [
             [
              0,
              "#0d0887"
             ],
             [
              0.1111111111111111,
              "#46039f"
             ],
             [
              0.2222222222222222,
              "#7201a8"
             ],
             [
              0.3333333333333333,
              "#9c179e"
             ],
             [
              0.4444444444444444,
              "#bd3786"
             ],
             [
              0.5555555555555556,
              "#d8576b"
             ],
             [
              0.6666666666666666,
              "#ed7953"
             ],
             [
              0.7777777777777778,
              "#fb9f3a"
             ],
             [
              0.8888888888888888,
              "#fdca26"
             ],
             [
              1,
              "#f0f921"
             ]
            ],
            "type": "surface"
           }
          ],
          "table": [
           {
            "cells": {
             "fill": {
              "color": "#EBF0F8"
             },
             "line": {
              "color": "white"
             }
            },
            "header": {
             "fill": {
              "color": "#C8D4E3"
             },
             "line": {
              "color": "white"
             }
            },
            "type": "table"
           }
          ]
         },
         "layout": {
          "annotationdefaults": {
           "arrowcolor": "#2a3f5f",
           "arrowhead": 0,
           "arrowwidth": 1
          },
          "autotypenumbers": "strict",
          "coloraxis": {
           "colorbar": {
            "outlinewidth": 0,
            "ticks": ""
           }
          },
          "colorscale": {
           "diverging": [
            [
             0,
             "#8e0152"
            ],
            [
             0.1,
             "#c51b7d"
            ],
            [
             0.2,
             "#de77ae"
            ],
            [
             0.3,
             "#f1b6da"
            ],
            [
             0.4,
             "#fde0ef"
            ],
            [
             0.5,
             "#f7f7f7"
            ],
            [
             0.6,
             "#e6f5d0"
            ],
            [
             0.7,
             "#b8e186"
            ],
            [
             0.8,
             "#7fbc41"
            ],
            [
             0.9,
             "#4d9221"
            ],
            [
             1,
             "#276419"
            ]
           ],
           "sequential": [
            [
             0,
             "#0d0887"
            ],
            [
             0.1111111111111111,
             "#46039f"
            ],
            [
             0.2222222222222222,
             "#7201a8"
            ],
            [
             0.3333333333333333,
             "#9c179e"
            ],
            [
             0.4444444444444444,
             "#bd3786"
            ],
            [
             0.5555555555555556,
             "#d8576b"
            ],
            [
             0.6666666666666666,
             "#ed7953"
            ],
            [
             0.7777777777777778,
             "#fb9f3a"
            ],
            [
             0.8888888888888888,
             "#fdca26"
            ],
            [
             1,
             "#f0f921"
            ]
           ],
           "sequentialminus": [
            [
             0,
             "#0d0887"
            ],
            [
             0.1111111111111111,
             "#46039f"
            ],
            [
             0.2222222222222222,
             "#7201a8"
            ],
            [
             0.3333333333333333,
             "#9c179e"
            ],
            [
             0.4444444444444444,
             "#bd3786"
            ],
            [
             0.5555555555555556,
             "#d8576b"
            ],
            [
             0.6666666666666666,
             "#ed7953"
            ],
            [
             0.7777777777777778,
             "#fb9f3a"
            ],
            [
             0.8888888888888888,
             "#fdca26"
            ],
            [
             1,
             "#f0f921"
            ]
           ]
          },
          "colorway": [
           "#636efa",
           "#EF553B",
           "#00cc96",
           "#ab63fa",
           "#FFA15A",
           "#19d3f3",
           "#FF6692",
           "#B6E880",
           "#FF97FF",
           "#FECB52"
          ],
          "font": {
           "color": "#2a3f5f"
          },
          "geo": {
           "bgcolor": "white",
           "lakecolor": "white",
           "landcolor": "#E5ECF6",
           "showlakes": true,
           "showland": true,
           "subunitcolor": "white"
          },
          "hoverlabel": {
           "align": "left"
          },
          "hovermode": "closest",
          "mapbox": {
           "style": "light"
          },
          "paper_bgcolor": "white",
          "plot_bgcolor": "#E5ECF6",
          "polar": {
           "angularaxis": {
            "gridcolor": "white",
            "linecolor": "white",
            "ticks": ""
           },
           "bgcolor": "#E5ECF6",
           "radialaxis": {
            "gridcolor": "white",
            "linecolor": "white",
            "ticks": ""
           }
          },
          "scene": {
           "xaxis": {
            "backgroundcolor": "#E5ECF6",
            "gridcolor": "white",
            "gridwidth": 2,
            "linecolor": "white",
            "showbackground": true,
            "ticks": "",
            "zerolinecolor": "white"
           },
           "yaxis": {
            "backgroundcolor": "#E5ECF6",
            "gridcolor": "white",
            "gridwidth": 2,
            "linecolor": "white",
            "showbackground": true,
            "ticks": "",
            "zerolinecolor": "white"
           },
           "zaxis": {
            "backgroundcolor": "#E5ECF6",
            "gridcolor": "white",
            "gridwidth": 2,
            "linecolor": "white",
            "showbackground": true,
            "ticks": "",
            "zerolinecolor": "white"
           }
          },
          "shapedefaults": {
           "line": {
            "color": "#2a3f5f"
           }
          },
          "ternary": {
           "aaxis": {
            "gridcolor": "white",
            "linecolor": "white",
            "ticks": ""
           },
           "baxis": {
            "gridcolor": "white",
            "linecolor": "white",
            "ticks": ""
           },
           "bgcolor": "#E5ECF6",
           "caxis": {
            "gridcolor": "white",
            "linecolor": "white",
            "ticks": ""
           }
          },
          "title": {
           "x": 0.05
          },
          "xaxis": {
           "automargin": true,
           "gridcolor": "white",
           "linecolor": "white",
           "ticks": "",
           "title": {
            "standoff": 15
           },
           "zerolinecolor": "white",
           "zerolinewidth": 2
          },
          "yaxis": {
           "automargin": true,
           "gridcolor": "white",
           "linecolor": "white",
           "ticks": "",
           "title": {
            "standoff": 15
           },
           "zerolinecolor": "white",
           "zerolinewidth": 2
          }
         }
        }
       }
      }
     },
     "metadata": {}
    }
   ],
   "source": [
    "su = SphereUniform(2)\n",
    "x, y, z = su.sample(torch.Size([100])).T\n",
    "px.scatter_3d(x=x, y=y, z=z)"
   ]
  },
  {
   "source": [
    "# Von Mises Fisher"
   ],
   "cell_type": "markdown",
   "metadata": {}
  },
  {
   "source": [
    "Below, the sampling procedure is laid out for vMF. We are sampling from 4 different mean vectors, with different concentration parameters"
   ],
   "cell_type": "markdown",
   "metadata": {}
  },
  {
   "cell_type": "code",
   "execution_count": 45,
   "metadata": {},
   "outputs": [],
   "source": [
    "mu = torch.tensor([\n",
    "    [0, 1, 0],\n",
    "    [-1, 0, 0],\n",
    "    [0, 0, 1],\n",
    "    [0, -1/math.sqrt(2), 1/math.sqrt(2)],\n",
    "])\n",
    "k = torch.tensor([5, 10, 50, 10])\n",
    "m = torch.tensor( mu.shape[-1] )\n",
    "\n",
    "\n",
    "sample_shape = torch.Size([100]) # Lets sample a bunch of samples for each parameter set\n",
    "batch_shape = torch.Size(mu.shape[:-1])\n",
    "event_shape = torch.Size([m])"
   ]
  },
  {
   "source": [
    "The sampling algorithm defines the following parameters and distributions"
   ],
   "cell_type": "markdown",
   "metadata": {}
  },
  {
   "source": [
    "b = ( -2 * k + torch.sqrt( 4 * k**2 + (m - 1)**2 )) / (m - 1) \n",
    "a = ( (m - 1) + 2 * k + torch.sqrt( 4 * k**2 + (m - 1)**2 ) ) / 4\n",
    "d = (4 * a * b) / (1 + b) - (m - 1) * torch.log(m - 1)\n",
    "\n",
    "print(f\"b:{b}\")\n",
    "print(f\"a:{a}\")\n",
    "print(f\"d:{d}\")\n",
    "beta_dist = torch.distributions.Beta((m-1)/2, (m-1)/2)\n",
    "uniform_subsphere_dist = SphereUniform(m-2)\n",
    "\n",
    "print(f\"beta_dist:{beta_dist}\")\n",
    "print(f\"uniform_subsphere_dist:{uniform_subsphere_dist}\")\n",
    "\n",
    "modal = torch.tensor([1, 0, 0])\n",
    "u_prime = modal - mu\n",
    "u = u_prime / u_prime.norm(dim=-1, keepdim=True)\n",
    "U = torch.eye(m) - 2 * u.view(-1, m, 1) @ u.view(-1, 1, m)\n",
    "print(f\"Householder:{U}\")"
   ],
   "cell_type": "code",
   "metadata": {},
   "execution_count": 46,
   "outputs": [
    {
     "output_type": "stream",
     "name": "stdout",
     "text": [
      "b:tensor([0.0990, 0.0499, 0.0100, 0.0499])\na:tensor([ 5.5495, 10.5249, 50.5050, 10.5249])\nd:tensor([0.6137, 0.6137, 0.6136, 0.6137])\nbeta_dist:Beta()\nuniform_subsphere_dist:SphereUniform()\nHouseholder:tensor([[[ 5.9605e-08,  1.0000e+00,  0.0000e+00],\n         [ 1.0000e+00,  5.9605e-08,  0.0000e+00],\n         [ 0.0000e+00,  0.0000e+00,  1.0000e+00]],\n\n        [[-1.0000e+00,  0.0000e+00,  0.0000e+00],\n         [ 0.0000e+00,  1.0000e+00,  0.0000e+00],\n         [ 0.0000e+00,  0.0000e+00,  1.0000e+00]],\n\n        [[ 5.9605e-08,  0.0000e+00,  1.0000e+00],\n         [ 0.0000e+00,  1.0000e+00,  0.0000e+00],\n         [ 1.0000e+00,  0.0000e+00,  5.9605e-08]],\n\n        [[ 5.9605e-08, -7.0711e-01,  7.0711e-01],\n         [-7.0711e-01,  5.0000e-01,  5.0000e-01],\n         [ 7.0711e-01,  5.0000e-01,  5.0000e-01]]])\n"
     ]
    }
   ]
  },
  {
   "source": [
    "The code below samples the $\\omega$ values"
   ],
   "cell_type": "markdown",
   "metadata": {}
  },
  {
   "cell_type": "code",
   "execution_count": 53,
   "metadata": {},
   "outputs": [],
   "source": [
    "done = torch.zeros( sample_shape + batch_shape, dtype=bool)\n",
    "w = torch.zeros(sample_shape + batch_shape, dtype=torch.float)\n",
    "\n",
    "# Proper vectorizing?\n",
    "while True:\n",
    "\n",
    "    mask = ~done\n",
    "    n_left = mask.sum()\n",
    "    if n_left == 0:\n",
    "        break\n",
    "\n",
    "    a_ = torch.masked_select(a, mask)\n",
    "    b_ = torch.masked_select(b, mask)\n",
    "    d_ = torch.masked_select(d, mask)\n",
    "\n",
    "    epsilon = beta_dist.sample( (n_left,) )\n",
    "    \n",
    "    w_proposal = (1 - (1 + b_) * epsilon) / (1 - (1 - b_) * epsilon)\n",
    "    t = 2 * a_ * b_ / (1 - (1 - b_) * epsilon)\n",
    "\n",
    "    u = torch.rand( n_left )\n",
    "    accepted = (m - 1) * torch.log(t) - t + d_ >= torch.log(u)\n",
    "\n",
    "    torch.masked_select(w_proposal, accepted)\n",
    "\n",
    "    # Find values of \n",
    "    mask[mask.clone()] &= accepted\n",
    "    w[mask] = w_proposal[accepted]\n",
    "    done[mask] = True\n",
    " "
   ]
  },
  {
   "cell_type": "code",
   "execution_count": 48,
   "metadata": {},
   "outputs": [
    {
     "output_type": "display_data",
     "data": {
      "text/plain": "<Figure size 407.875x360 with 1 Axes>",
      "image/svg+xml": "<?xml version=\"1.0\" encoding=\"utf-8\" standalone=\"no\"?>\n<!DOCTYPE svg PUBLIC \"-//W3C//DTD SVG 1.1//EN\"\n  \"http://www.w3.org/Graphics/SVG/1.1/DTD/svg11.dtd\">\n<!-- Created with matplotlib (https://matplotlib.org/) -->\n<svg height=\"352.478125pt\" version=\"1.1\" viewBox=\"0 0 406.140625 352.478125\" width=\"406.140625pt\" xmlns=\"http://www.w3.org/2000/svg\" xmlns:xlink=\"http://www.w3.org/1999/xlink\">\n <metadata>\n  <rdf:RDF xmlns:cc=\"http://creativecommons.org/ns#\" xmlns:dc=\"http://purl.org/dc/elements/1.1/\" xmlns:rdf=\"http://www.w3.org/1999/02/22-rdf-syntax-ns#\">\n   <cc:Work>\n    <dc:type rdf:resource=\"http://purl.org/dc/dcmitype/StillImage\"/>\n    <dc:date>2021-03-14T12:05:01.405838</dc:date>\n    <dc:format>image/svg+xml</dc:format>\n    <dc:creator>\n     <cc:Agent>\n      <dc:title>Matplotlib v3.3.4, https://matplotlib.org/</dc:title>\n     </cc:Agent>\n    </dc:creator>\n   </cc:Work>\n  </rdf:RDF>\n </metadata>\n <defs>\n  <style type=\"text/css\">*{stroke-linecap:butt;stroke-linejoin:round;}</style>\n </defs>\n <g id=\"figure_1\">\n  <g id=\"patch_1\">\n   <path d=\"M 0 352.478125 \nL 406.140625 352.478125 \nL 406.140625 0 \nL 0 0 \nz\n\" style=\"fill:none;\"/>\n  </g>\n  <g id=\"axes_1\">\n   <g id=\"patch_2\">\n    <path d=\"M 34.240625 328.6 \nL 341.186875 328.6 \nL 341.186875 7.2 \nL 34.240625 7.2 \nz\n\" style=\"fill:#ffffff;\"/>\n   </g>\n   <g id=\"matplotlib.axis_1\">\n    <g id=\"xtick_1\">\n     <g id=\"line2d_1\">\n      <defs>\n       <path d=\"M 0 0 \nL 0 3.5 \n\" id=\"mf5f5fd6589\" style=\"stroke:#000000;stroke-width:0.8;\"/>\n      </defs>\n      <g>\n       <use style=\"stroke:#000000;stroke-width:0.8;\" x=\"70.287334\" xlink:href=\"#mf5f5fd6589\" y=\"328.6\"/>\n      </g>\n     </g>\n     <g id=\"text_1\">\n      <!-- 0.0 -->\n      <g transform=\"translate(62.335772 343.198437)scale(0.1 -0.1)\">\n       <defs>\n        <path d=\"M 31.78125 66.40625 \nQ 24.171875 66.40625 20.328125 58.90625 \nQ 16.5 51.421875 16.5 36.375 \nQ 16.5 21.390625 20.328125 13.890625 \nQ 24.171875 6.390625 31.78125 6.390625 \nQ 39.453125 6.390625 43.28125 13.890625 \nQ 47.125 21.390625 47.125 36.375 \nQ 47.125 51.421875 43.28125 58.90625 \nQ 39.453125 66.40625 31.78125 66.40625 \nz\nM 31.78125 74.21875 \nQ 44.046875 74.21875 50.515625 64.515625 \nQ 56.984375 54.828125 56.984375 36.375 \nQ 56.984375 17.96875 50.515625 8.265625 \nQ 44.046875 -1.421875 31.78125 -1.421875 \nQ 19.53125 -1.421875 13.0625 8.265625 \nQ 6.59375 17.96875 6.59375 36.375 \nQ 6.59375 54.828125 13.0625 64.515625 \nQ 19.53125 74.21875 31.78125 74.21875 \nz\n\" id=\"DejaVuSans-48\"/>\n        <path d=\"M 10.6875 12.40625 \nL 21 12.40625 \nL 21 0 \nL 10.6875 0 \nz\n\" id=\"DejaVuSans-46\"/>\n       </defs>\n       <use xlink:href=\"#DejaVuSans-48\"/>\n       <use x=\"63.623047\" xlink:href=\"#DejaVuSans-46\"/>\n       <use x=\"95.410156\" xlink:href=\"#DejaVuSans-48\"/>\n      </g>\n     </g>\n    </g>\n    <g id=\"xtick_2\">\n     <g id=\"line2d_2\">\n      <g>\n       <use style=\"stroke:#000000;stroke-width:0.8;\" x=\"112.319305\" xlink:href=\"#mf5f5fd6589\" y=\"328.6\"/>\n      </g>\n     </g>\n     <g id=\"text_2\">\n      <!-- 0.2 -->\n      <g transform=\"translate(104.367743 343.198437)scale(0.1 -0.1)\">\n       <defs>\n        <path d=\"M 19.1875 8.296875 \nL 53.609375 8.296875 \nL 53.609375 0 \nL 7.328125 0 \nL 7.328125 8.296875 \nQ 12.9375 14.109375 22.625 23.890625 \nQ 32.328125 33.6875 34.8125 36.53125 \nQ 39.546875 41.84375 41.421875 45.53125 \nQ 43.3125 49.21875 43.3125 52.78125 \nQ 43.3125 58.59375 39.234375 62.25 \nQ 35.15625 65.921875 28.609375 65.921875 \nQ 23.96875 65.921875 18.8125 64.3125 \nQ 13.671875 62.703125 7.8125 59.421875 \nL 7.8125 69.390625 \nQ 13.765625 71.78125 18.9375 73 \nQ 24.125 74.21875 28.421875 74.21875 \nQ 39.75 74.21875 46.484375 68.546875 \nQ 53.21875 62.890625 53.21875 53.421875 \nQ 53.21875 48.921875 51.53125 44.890625 \nQ 49.859375 40.875 45.40625 35.40625 \nQ 44.1875 33.984375 37.640625 27.21875 \nQ 31.109375 20.453125 19.1875 8.296875 \nz\n\" id=\"DejaVuSans-50\"/>\n       </defs>\n       <use xlink:href=\"#DejaVuSans-48\"/>\n       <use x=\"63.623047\" xlink:href=\"#DejaVuSans-46\"/>\n       <use x=\"95.410156\" xlink:href=\"#DejaVuSans-50\"/>\n      </g>\n     </g>\n    </g>\n    <g id=\"xtick_3\">\n     <g id=\"line2d_3\">\n      <g>\n       <use style=\"stroke:#000000;stroke-width:0.8;\" x=\"154.351276\" xlink:href=\"#mf5f5fd6589\" y=\"328.6\"/>\n      </g>\n     </g>\n     <g id=\"text_3\">\n      <!-- 0.4 -->\n      <g transform=\"translate(146.399713 343.198437)scale(0.1 -0.1)\">\n       <defs>\n        <path d=\"M 37.796875 64.3125 \nL 12.890625 25.390625 \nL 37.796875 25.390625 \nz\nM 35.203125 72.90625 \nL 47.609375 72.90625 \nL 47.609375 25.390625 \nL 58.015625 25.390625 \nL 58.015625 17.1875 \nL 47.609375 17.1875 \nL 47.609375 0 \nL 37.796875 0 \nL 37.796875 17.1875 \nL 4.890625 17.1875 \nL 4.890625 26.703125 \nz\n\" id=\"DejaVuSans-52\"/>\n       </defs>\n       <use xlink:href=\"#DejaVuSans-48\"/>\n       <use x=\"63.623047\" xlink:href=\"#DejaVuSans-46\"/>\n       <use x=\"95.410156\" xlink:href=\"#DejaVuSans-52\"/>\n      </g>\n     </g>\n    </g>\n    <g id=\"xtick_4\">\n     <g id=\"line2d_4\">\n      <g>\n       <use style=\"stroke:#000000;stroke-width:0.8;\" x=\"196.383246\" xlink:href=\"#mf5f5fd6589\" y=\"328.6\"/>\n      </g>\n     </g>\n     <g id=\"text_4\">\n      <!-- 0.6 -->\n      <g transform=\"translate(188.431684 343.198437)scale(0.1 -0.1)\">\n       <defs>\n        <path d=\"M 33.015625 40.375 \nQ 26.375 40.375 22.484375 35.828125 \nQ 18.609375 31.296875 18.609375 23.390625 \nQ 18.609375 15.53125 22.484375 10.953125 \nQ 26.375 6.390625 33.015625 6.390625 \nQ 39.65625 6.390625 43.53125 10.953125 \nQ 47.40625 15.53125 47.40625 23.390625 \nQ 47.40625 31.296875 43.53125 35.828125 \nQ 39.65625 40.375 33.015625 40.375 \nz\nM 52.59375 71.296875 \nL 52.59375 62.3125 \nQ 48.875 64.0625 45.09375 64.984375 \nQ 41.3125 65.921875 37.59375 65.921875 \nQ 27.828125 65.921875 22.671875 59.328125 \nQ 17.53125 52.734375 16.796875 39.40625 \nQ 19.671875 43.65625 24.015625 45.921875 \nQ 28.375 48.1875 33.59375 48.1875 \nQ 44.578125 48.1875 50.953125 41.515625 \nQ 57.328125 34.859375 57.328125 23.390625 \nQ 57.328125 12.15625 50.6875 5.359375 \nQ 44.046875 -1.421875 33.015625 -1.421875 \nQ 20.359375 -1.421875 13.671875 8.265625 \nQ 6.984375 17.96875 6.984375 36.375 \nQ 6.984375 53.65625 15.1875 63.9375 \nQ 23.390625 74.21875 37.203125 74.21875 \nQ 40.921875 74.21875 44.703125 73.484375 \nQ 48.484375 72.75 52.59375 71.296875 \nz\n\" id=\"DejaVuSans-54\"/>\n       </defs>\n       <use xlink:href=\"#DejaVuSans-48\"/>\n       <use x=\"63.623047\" xlink:href=\"#DejaVuSans-46\"/>\n       <use x=\"95.410156\" xlink:href=\"#DejaVuSans-54\"/>\n      </g>\n     </g>\n    </g>\n    <g id=\"xtick_5\">\n     <g id=\"line2d_5\">\n      <g>\n       <use style=\"stroke:#000000;stroke-width:0.8;\" x=\"238.415217\" xlink:href=\"#mf5f5fd6589\" y=\"328.6\"/>\n      </g>\n     </g>\n     <g id=\"text_5\">\n      <!-- 0.8 -->\n      <g transform=\"translate(230.463655 343.198437)scale(0.1 -0.1)\">\n       <defs>\n        <path d=\"M 31.78125 34.625 \nQ 24.75 34.625 20.71875 30.859375 \nQ 16.703125 27.09375 16.703125 20.515625 \nQ 16.703125 13.921875 20.71875 10.15625 \nQ 24.75 6.390625 31.78125 6.390625 \nQ 38.8125 6.390625 42.859375 10.171875 \nQ 46.921875 13.96875 46.921875 20.515625 \nQ 46.921875 27.09375 42.890625 30.859375 \nQ 38.875 34.625 31.78125 34.625 \nz\nM 21.921875 38.8125 \nQ 15.578125 40.375 12.03125 44.71875 \nQ 8.5 49.078125 8.5 55.328125 \nQ 8.5 64.0625 14.71875 69.140625 \nQ 20.953125 74.21875 31.78125 74.21875 \nQ 42.671875 74.21875 48.875 69.140625 \nQ 55.078125 64.0625 55.078125 55.328125 \nQ 55.078125 49.078125 51.53125 44.71875 \nQ 48 40.375 41.703125 38.8125 \nQ 48.828125 37.15625 52.796875 32.3125 \nQ 56.78125 27.484375 56.78125 20.515625 \nQ 56.78125 9.90625 50.3125 4.234375 \nQ 43.84375 -1.421875 31.78125 -1.421875 \nQ 19.734375 -1.421875 13.25 4.234375 \nQ 6.78125 9.90625 6.78125 20.515625 \nQ 6.78125 27.484375 10.78125 32.3125 \nQ 14.796875 37.15625 21.921875 38.8125 \nz\nM 18.3125 54.390625 \nQ 18.3125 48.734375 21.84375 45.5625 \nQ 25.390625 42.390625 31.78125 42.390625 \nQ 38.140625 42.390625 41.71875 45.5625 \nQ 45.3125 48.734375 45.3125 54.390625 \nQ 45.3125 60.0625 41.71875 63.234375 \nQ 38.140625 66.40625 31.78125 66.40625 \nQ 25.390625 66.40625 21.84375 63.234375 \nQ 18.3125 60.0625 18.3125 54.390625 \nz\n\" id=\"DejaVuSans-56\"/>\n       </defs>\n       <use xlink:href=\"#DejaVuSans-48\"/>\n       <use x=\"63.623047\" xlink:href=\"#DejaVuSans-46\"/>\n       <use x=\"95.410156\" xlink:href=\"#DejaVuSans-56\"/>\n      </g>\n     </g>\n    </g>\n    <g id=\"xtick_6\">\n     <g id=\"line2d_6\">\n      <g>\n       <use style=\"stroke:#000000;stroke-width:0.8;\" x=\"280.447188\" xlink:href=\"#mf5f5fd6589\" y=\"328.6\"/>\n      </g>\n     </g>\n     <g id=\"text_6\">\n      <!-- 1.0 -->\n      <g transform=\"translate(272.495625 343.198437)scale(0.1 -0.1)\">\n       <defs>\n        <path d=\"M 12.40625 8.296875 \nL 28.515625 8.296875 \nL 28.515625 63.921875 \nL 10.984375 60.40625 \nL 10.984375 69.390625 \nL 28.421875 72.90625 \nL 38.28125 72.90625 \nL 38.28125 8.296875 \nL 54.390625 8.296875 \nL 54.390625 0 \nL 12.40625 0 \nz\n\" id=\"DejaVuSans-49\"/>\n       </defs>\n       <use xlink:href=\"#DejaVuSans-49\"/>\n       <use x=\"63.623047\" xlink:href=\"#DejaVuSans-46\"/>\n       <use x=\"95.410156\" xlink:href=\"#DejaVuSans-48\"/>\n      </g>\n     </g>\n    </g>\n    <g id=\"xtick_7\">\n     <g id=\"line2d_7\">\n      <g>\n       <use style=\"stroke:#000000;stroke-width:0.8;\" x=\"322.479158\" xlink:href=\"#mf5f5fd6589\" y=\"328.6\"/>\n      </g>\n     </g>\n     <g id=\"text_7\">\n      <!-- 1.2 -->\n      <g transform=\"translate(314.527596 343.198437)scale(0.1 -0.1)\">\n       <use xlink:href=\"#DejaVuSans-49\"/>\n       <use x=\"63.623047\" xlink:href=\"#DejaVuSans-46\"/>\n       <use x=\"95.410156\" xlink:href=\"#DejaVuSans-50\"/>\n      </g>\n     </g>\n    </g>\n   </g>\n   <g id=\"matplotlib.axis_2\">\n    <g id=\"ytick_1\">\n     <g id=\"line2d_8\">\n      <defs>\n       <path d=\"M 0 0 \nL -3.5 0 \n\" id=\"m85e442da30\" style=\"stroke:#000000;stroke-width:0.8;\"/>\n      </defs>\n      <g>\n       <use style=\"stroke:#000000;stroke-width:0.8;\" x=\"34.240625\" xlink:href=\"#m85e442da30\" y=\"328.6\"/>\n      </g>\n     </g>\n     <g id=\"text_8\">\n      <!-- 0 -->\n      <g transform=\"translate(20.878125 332.399219)scale(0.1 -0.1)\">\n       <use xlink:href=\"#DejaVuSans-48\"/>\n      </g>\n     </g>\n    </g>\n    <g id=\"ytick_2\">\n     <g id=\"line2d_9\">\n      <g>\n       <use style=\"stroke:#000000;stroke-width:0.8;\" x=\"34.240625\" xlink:href=\"#m85e442da30\" y=\"283.926054\"/>\n      </g>\n     </g>\n     <g id=\"text_9\">\n      <!-- 1 -->\n      <g transform=\"translate(20.878125 287.725272)scale(0.1 -0.1)\">\n       <use xlink:href=\"#DejaVuSans-49\"/>\n      </g>\n     </g>\n    </g>\n    <g id=\"ytick_3\">\n     <g id=\"line2d_10\">\n      <g>\n       <use style=\"stroke:#000000;stroke-width:0.8;\" x=\"34.240625\" xlink:href=\"#m85e442da30\" y=\"239.252107\"/>\n      </g>\n     </g>\n     <g id=\"text_10\">\n      <!-- 2 -->\n      <g transform=\"translate(20.878125 243.051326)scale(0.1 -0.1)\">\n       <use xlink:href=\"#DejaVuSans-50\"/>\n      </g>\n     </g>\n    </g>\n    <g id=\"ytick_4\">\n     <g id=\"line2d_11\">\n      <g>\n       <use style=\"stroke:#000000;stroke-width:0.8;\" x=\"34.240625\" xlink:href=\"#m85e442da30\" y=\"194.578161\"/>\n      </g>\n     </g>\n     <g id=\"text_11\">\n      <!-- 3 -->\n      <g transform=\"translate(20.878125 198.37738)scale(0.1 -0.1)\">\n       <defs>\n        <path d=\"M 40.578125 39.3125 \nQ 47.65625 37.796875 51.625 33 \nQ 55.609375 28.21875 55.609375 21.1875 \nQ 55.609375 10.40625 48.1875 4.484375 \nQ 40.765625 -1.421875 27.09375 -1.421875 \nQ 22.515625 -1.421875 17.65625 -0.515625 \nQ 12.796875 0.390625 7.625 2.203125 \nL 7.625 11.71875 \nQ 11.71875 9.328125 16.59375 8.109375 \nQ 21.484375 6.890625 26.8125 6.890625 \nQ 36.078125 6.890625 40.9375 10.546875 \nQ 45.796875 14.203125 45.796875 21.1875 \nQ 45.796875 27.640625 41.28125 31.265625 \nQ 36.765625 34.90625 28.71875 34.90625 \nL 20.21875 34.90625 \nL 20.21875 43.015625 \nL 29.109375 43.015625 \nQ 36.375 43.015625 40.234375 45.921875 \nQ 44.09375 48.828125 44.09375 54.296875 \nQ 44.09375 59.90625 40.109375 62.90625 \nQ 36.140625 65.921875 28.71875 65.921875 \nQ 24.65625 65.921875 20.015625 65.03125 \nQ 15.375 64.15625 9.8125 62.3125 \nL 9.8125 71.09375 \nQ 15.4375 72.65625 20.34375 73.4375 \nQ 25.25 74.21875 29.59375 74.21875 \nQ 40.828125 74.21875 47.359375 69.109375 \nQ 53.90625 64.015625 53.90625 55.328125 \nQ 53.90625 49.265625 50.4375 45.09375 \nQ 46.96875 40.921875 40.578125 39.3125 \nz\n\" id=\"DejaVuSans-51\"/>\n       </defs>\n       <use xlink:href=\"#DejaVuSans-51\"/>\n      </g>\n     </g>\n    </g>\n    <g id=\"ytick_5\">\n     <g id=\"line2d_12\">\n      <g>\n       <use style=\"stroke:#000000;stroke-width:0.8;\" x=\"34.240625\" xlink:href=\"#m85e442da30\" y=\"149.904215\"/>\n      </g>\n     </g>\n     <g id=\"text_12\">\n      <!-- 4 -->\n      <g transform=\"translate(20.878125 153.703433)scale(0.1 -0.1)\">\n       <use xlink:href=\"#DejaVuSans-52\"/>\n      </g>\n     </g>\n    </g>\n    <g id=\"ytick_6\">\n     <g id=\"line2d_13\">\n      <g>\n       <use style=\"stroke:#000000;stroke-width:0.8;\" x=\"34.240625\" xlink:href=\"#m85e442da30\" y=\"105.230268\"/>\n      </g>\n     </g>\n     <g id=\"text_13\">\n      <!-- 5 -->\n      <g transform=\"translate(20.878125 109.029487)scale(0.1 -0.1)\">\n       <defs>\n        <path d=\"M 10.796875 72.90625 \nL 49.515625 72.90625 \nL 49.515625 64.59375 \nL 19.828125 64.59375 \nL 19.828125 46.734375 \nQ 21.96875 47.46875 24.109375 47.828125 \nQ 26.265625 48.1875 28.421875 48.1875 \nQ 40.625 48.1875 47.75 41.5 \nQ 54.890625 34.8125 54.890625 23.390625 \nQ 54.890625 11.625 47.5625 5.09375 \nQ 40.234375 -1.421875 26.90625 -1.421875 \nQ 22.3125 -1.421875 17.546875 -0.640625 \nQ 12.796875 0.140625 7.71875 1.703125 \nL 7.71875 11.625 \nQ 12.109375 9.234375 16.796875 8.0625 \nQ 21.484375 6.890625 26.703125 6.890625 \nQ 35.15625 6.890625 40.078125 11.328125 \nQ 45.015625 15.765625 45.015625 23.390625 \nQ 45.015625 31 40.078125 35.4375 \nQ 35.15625 39.890625 26.703125 39.890625 \nQ 22.75 39.890625 18.8125 39.015625 \nQ 14.890625 38.140625 10.796875 36.28125 \nz\n\" id=\"DejaVuSans-53\"/>\n       </defs>\n       <use xlink:href=\"#DejaVuSans-53\"/>\n      </g>\n     </g>\n    </g>\n    <g id=\"ytick_7\">\n     <g id=\"line2d_14\">\n      <g>\n       <use style=\"stroke:#000000;stroke-width:0.8;\" x=\"34.240625\" xlink:href=\"#m85e442da30\" y=\"60.556322\"/>\n      </g>\n     </g>\n     <g id=\"text_14\">\n      <!-- 6 -->\n      <g transform=\"translate(20.878125 64.355541)scale(0.1 -0.1)\">\n       <use xlink:href=\"#DejaVuSans-54\"/>\n      </g>\n     </g>\n    </g>\n    <g id=\"ytick_8\">\n     <g id=\"line2d_15\">\n      <g>\n       <use style=\"stroke:#000000;stroke-width:0.8;\" x=\"34.240625\" xlink:href=\"#m85e442da30\" y=\"15.882376\"/>\n      </g>\n     </g>\n     <g id=\"text_15\">\n      <!-- 7 -->\n      <g transform=\"translate(20.878125 19.681594)scale(0.1 -0.1)\">\n       <defs>\n        <path d=\"M 8.203125 72.90625 \nL 55.078125 72.90625 \nL 55.078125 68.703125 \nL 28.609375 0 \nL 18.3125 0 \nL 43.21875 64.59375 \nL 8.203125 64.59375 \nz\n\" id=\"DejaVuSans-55\"/>\n       </defs>\n       <use xlink:href=\"#DejaVuSans-55\"/>\n      </g>\n     </g>\n    </g>\n    <g id=\"text_16\">\n     <!-- Density -->\n     <g transform=\"translate(14.798438 186.908594)rotate(-90)scale(0.1 -0.1)\">\n      <defs>\n       <path d=\"M 19.671875 64.796875 \nL 19.671875 8.109375 \nL 31.59375 8.109375 \nQ 46.6875 8.109375 53.6875 14.9375 \nQ 60.6875 21.78125 60.6875 36.53125 \nQ 60.6875 51.171875 53.6875 57.984375 \nQ 46.6875 64.796875 31.59375 64.796875 \nz\nM 9.8125 72.90625 \nL 30.078125 72.90625 \nQ 51.265625 72.90625 61.171875 64.09375 \nQ 71.09375 55.28125 71.09375 36.53125 \nQ 71.09375 17.671875 61.125 8.828125 \nQ 51.171875 0 30.078125 0 \nL 9.8125 0 \nz\n\" id=\"DejaVuSans-68\"/>\n       <path d=\"M 56.203125 29.59375 \nL 56.203125 25.203125 \nL 14.890625 25.203125 \nQ 15.484375 15.921875 20.484375 11.0625 \nQ 25.484375 6.203125 34.421875 6.203125 \nQ 39.59375 6.203125 44.453125 7.46875 \nQ 49.3125 8.734375 54.109375 11.28125 \nL 54.109375 2.78125 \nQ 49.265625 0.734375 44.1875 -0.34375 \nQ 39.109375 -1.421875 33.890625 -1.421875 \nQ 20.796875 -1.421875 13.15625 6.1875 \nQ 5.515625 13.8125 5.515625 26.8125 \nQ 5.515625 40.234375 12.765625 48.109375 \nQ 20.015625 56 32.328125 56 \nQ 43.359375 56 49.78125 48.890625 \nQ 56.203125 41.796875 56.203125 29.59375 \nz\nM 47.21875 32.234375 \nQ 47.125 39.59375 43.09375 43.984375 \nQ 39.0625 48.390625 32.421875 48.390625 \nQ 24.90625 48.390625 20.390625 44.140625 \nQ 15.875 39.890625 15.1875 32.171875 \nz\n\" id=\"DejaVuSans-101\"/>\n       <path d=\"M 54.890625 33.015625 \nL 54.890625 0 \nL 45.90625 0 \nL 45.90625 32.71875 \nQ 45.90625 40.484375 42.875 44.328125 \nQ 39.84375 48.1875 33.796875 48.1875 \nQ 26.515625 48.1875 22.3125 43.546875 \nQ 18.109375 38.921875 18.109375 30.90625 \nL 18.109375 0 \nL 9.078125 0 \nL 9.078125 54.6875 \nL 18.109375 54.6875 \nL 18.109375 46.1875 \nQ 21.34375 51.125 25.703125 53.5625 \nQ 30.078125 56 35.796875 56 \nQ 45.21875 56 50.046875 50.171875 \nQ 54.890625 44.34375 54.890625 33.015625 \nz\n\" id=\"DejaVuSans-110\"/>\n       <path d=\"M 44.28125 53.078125 \nL 44.28125 44.578125 \nQ 40.484375 46.53125 36.375 47.5 \nQ 32.28125 48.484375 27.875 48.484375 \nQ 21.1875 48.484375 17.84375 46.4375 \nQ 14.5 44.390625 14.5 40.28125 \nQ 14.5 37.15625 16.890625 35.375 \nQ 19.28125 33.59375 26.515625 31.984375 \nL 29.59375 31.296875 \nQ 39.15625 29.25 43.1875 25.515625 \nQ 47.21875 21.78125 47.21875 15.09375 \nQ 47.21875 7.46875 41.1875 3.015625 \nQ 35.15625 -1.421875 24.609375 -1.421875 \nQ 20.21875 -1.421875 15.453125 -0.5625 \nQ 10.6875 0.296875 5.421875 2 \nL 5.421875 11.28125 \nQ 10.40625 8.6875 15.234375 7.390625 \nQ 20.0625 6.109375 24.8125 6.109375 \nQ 31.15625 6.109375 34.5625 8.28125 \nQ 37.984375 10.453125 37.984375 14.40625 \nQ 37.984375 18.0625 35.515625 20.015625 \nQ 33.0625 21.96875 24.703125 23.78125 \nL 21.578125 24.515625 \nQ 13.234375 26.265625 9.515625 29.90625 \nQ 5.8125 33.546875 5.8125 39.890625 \nQ 5.8125 47.609375 11.28125 51.796875 \nQ 16.75 56 26.8125 56 \nQ 31.78125 56 36.171875 55.265625 \nQ 40.578125 54.546875 44.28125 53.078125 \nz\n\" id=\"DejaVuSans-115\"/>\n       <path d=\"M 9.421875 54.6875 \nL 18.40625 54.6875 \nL 18.40625 0 \nL 9.421875 0 \nz\nM 9.421875 75.984375 \nL 18.40625 75.984375 \nL 18.40625 64.59375 \nL 9.421875 64.59375 \nz\n\" id=\"DejaVuSans-105\"/>\n       <path d=\"M 18.3125 70.21875 \nL 18.3125 54.6875 \nL 36.8125 54.6875 \nL 36.8125 47.703125 \nL 18.3125 47.703125 \nL 18.3125 18.015625 \nQ 18.3125 11.328125 20.140625 9.421875 \nQ 21.96875 7.515625 27.59375 7.515625 \nL 36.8125 7.515625 \nL 36.8125 0 \nL 27.59375 0 \nQ 17.1875 0 13.234375 3.875 \nQ 9.28125 7.765625 9.28125 18.015625 \nL 9.28125 47.703125 \nL 2.6875 47.703125 \nL 2.6875 54.6875 \nL 9.28125 54.6875 \nL 9.28125 70.21875 \nz\n\" id=\"DejaVuSans-116\"/>\n       <path d=\"M 32.171875 -5.078125 \nQ 28.375 -14.84375 24.75 -17.8125 \nQ 21.140625 -20.796875 15.09375 -20.796875 \nL 7.90625 -20.796875 \nL 7.90625 -13.28125 \nL 13.1875 -13.28125 \nQ 16.890625 -13.28125 18.9375 -11.515625 \nQ 21 -9.765625 23.484375 -3.21875 \nL 25.09375 0.875 \nL 2.984375 54.6875 \nL 12.5 54.6875 \nL 29.59375 11.921875 \nL 46.6875 54.6875 \nL 56.203125 54.6875 \nz\n\" id=\"DejaVuSans-121\"/>\n      </defs>\n      <use xlink:href=\"#DejaVuSans-68\"/>\n      <use x=\"77.001953\" xlink:href=\"#DejaVuSans-101\"/>\n      <use x=\"138.525391\" xlink:href=\"#DejaVuSans-110\"/>\n      <use x=\"201.904297\" xlink:href=\"#DejaVuSans-115\"/>\n      <use x=\"254.003906\" xlink:href=\"#DejaVuSans-105\"/>\n      <use x=\"281.787109\" xlink:href=\"#DejaVuSans-116\"/>\n      <use x=\"320.996094\" xlink:href=\"#DejaVuSans-121\"/>\n     </g>\n    </g>\n   </g>\n   <g id=\"line2d_16\">\n    <path clip-path=\"url(#pb4b6c28377)\" d=\"M 172.653199 328.585054 \nL 179.185166 328.448558 \nL 183.104346 328.167978 \nL 186.370329 327.740474 \nL 190.289509 327.006199 \nL 197.474672 325.607049 \nL 201.393852 325.123547 \nL 211.191802 324.095724 \nL 224.255736 322.089661 \nL 226.868523 321.360674 \nL 228.828113 320.577919 \nL 230.787703 319.558466 \nL 232.747293 318.299262 \nL 235.360079 316.286266 \nL 237.972866 313.975434 \nL 241.892046 310.156956 \nL 246.464423 305.391077 \nL 249.730406 301.717676 \nL 252.343193 298.416353 \nL 254.302783 295.593087 \nL 256.262373 292.384832 \nL 258.221963 288.753937 \nL 260.834749 283.308386 \nL 266.713519 270.385252 \nL 268.019913 267.988367 \nL 269.326306 266.029853 \nL 270.632699 264.651256 \nL 271.285896 264.222991 \nL 271.939093 263.99044 \nL 272.592289 263.968125 \nL 273.245486 264.1686 \nL 273.898683 264.601974 \nL 274.551879 265.275462 \nL 275.205076 266.19298 \nL 275.858273 267.354811 \nL 277.164666 270.392995 \nL 278.47106 274.313039 \nL 279.777453 278.976272 \nL 281.737043 286.937483 \nL 285.656223 303.48194 \nL 287.615813 310.656411 \nL 288.922206 314.716271 \nL 290.2286 318.137451 \nL 291.534993 320.924293 \nL 292.841386 323.119927 \nL 294.14778 324.793742 \nL 295.454173 326.028847 \nL 296.760566 326.911258 \nL 298.06696 327.521786 \nL 299.373353 327.930942 \nL 301.332943 328.290107 \nL 302.639336 328.42107 \nL 302.639336 328.42107 \n\" style=\"fill:none;stroke:#d62728;stroke-linecap:square;stroke-width:1.5;\"/>\n   </g>\n   <g id=\"line2d_17\">\n    <path clip-path=\"url(#pb4b6c28377)\" d=\"M 256.035651 328.534035 \nL 256.915891 328.299762 \nL 257.502718 327.897848 \nL 258.089545 327.14963 \nL 258.676371 325.938088 \nL 259.409905 323.721409 \nL 260.583558 319.102366 \nL 261.610505 315.391583 \nL 262.050625 314.387607 \nL 262.344039 314.02833 \nL 262.637452 313.952815 \nL 262.930865 314.168026 \nL 263.370985 314.978638 \nL 264.691346 318.201157 \nL 264.984759 318.304665 \nL 265.278172 317.94302 \nL 265.571586 317.051475 \nL 266.011706 314.669201 \nL 266.598533 309.679793 \nL 267.478773 299.644072 \nL 268.50572 288.221773 \nL 269.092546 283.950368 \nL 269.532666 282.31176 \nL 269.82608 281.925408 \nL 270.119493 281.973764 \nL 270.853027 282.645565 \nL 270.999733 282.607283 \nL 271.14644 282.42333 \nL 271.439853 281.461627 \nL 271.733267 279.454174 \nL 272.173387 273.878409 \nL 272.613507 264.577144 \nL 273.200334 245.724075 \nL 273.933867 212.348112 \nL 275.254227 137.388001 \nL 276.427881 76.584513 \nL 277.308121 42.797396 \nL 277.894948 27.933163 \nL 278.188361 23.781501 \nL 278.481775 22.504228 \nL 278.628481 23.121497 \nL 278.921895 27.199949 \nL 279.215308 35.41458 \nL 279.655428 55.889203 \nL 280.242255 97.139457 \nL 282.442855 275.961033 \nL 283.029682 301.353328 \nL 283.469802 313.223908 \nL 283.909922 320.496292 \nL 284.350042 324.61521 \nL 284.790162 326.773334 \nL 285.230282 327.819903 \nL 285.230282 327.819903 \n\" style=\"fill:none;stroke:#2ca02c;stroke-linecap:square;stroke-width:1.5;\"/>\n   </g>\n   <g id=\"line2d_18\">\n    <path clip-path=\"url(#pb4b6c28377)\" d=\"M 116.300952 328.588294 \nL 125.872382 328.434112 \nL 132.572382 328.06787 \nL 141.186669 327.567038 \nL 145.015241 327.574073 \nL 149.800955 327.816463 \nL 160.329528 328.440363 \nL 167.029528 328.53836 \nL 173.729529 328.409565 \nL 179.472387 328.089484 \nL 190.958102 327.347941 \nL 196.70096 327.033206 \nL 199.572388 326.694201 \nL 202.443817 326.125739 \nL 205.315246 325.291427 \nL 208.186675 324.208395 \nL 212.015247 322.488751 \nL 222.543819 317.541833 \nL 229.24382 314.484528 \nL 232.115249 312.935563 \nL 234.986677 311.146418 \nL 238.815249 308.425861 \nL 244.558107 303.957731 \nL 248.386679 300.737638 \nL 251.258108 298.001471 \nL 253.172393 295.926711 \nL 255.086679 293.600476 \nL 257.000965 291.003087 \nL 259.872394 286.648253 \nL 264.658109 279.066304 \nL 266.572395 276.52505 \nL 267.529538 275.501793 \nL 268.486681 274.695062 \nL 269.443824 274.141799 \nL 270.400966 273.875482 \nL 271.358109 273.924401 \nL 272.315252 274.310062 \nL 273.272395 275.045824 \nL 274.229538 276.135871 \nL 275.186681 277.574607 \nL 276.143824 279.34652 \nL 277.100967 281.42655 \nL 279.015253 286.368471 \nL 280.929539 292.051217 \nL 285.715254 306.824865 \nL 287.629539 312.017172 \nL 289.543825 316.447878 \nL 291.458111 320.036217 \nL 293.372397 322.799613 \nL 294.32954 323.897532 \nL 296.243826 325.601634 \nL 298.158112 326.764656 \nL 300.072398 327.521918 \nL 301.986684 327.992526 \nL 304.858112 328.362502 \nL 306.772398 328.479563 \nL 306.772398 328.479563 \n\" style=\"fill:none;stroke:#ff7f0e;stroke-linecap:square;stroke-width:1.5;\"/>\n   </g>\n   <g id=\"line2d_19\">\n    <path clip-path=\"url(#pb4b6c28377)\" d=\"M 48.192727 328.588796 \nL 65.019383 328.439604 \nL 74.834933 328.139748 \nL 102.879359 327.029678 \nL 126.717122 326.618101 \nL 171.588205 324.88329 \nL 177.19709 324.278537 \nL 182.805975 323.435954 \nL 189.817082 322.114455 \nL 198.23041 320.257636 \nL 203.839295 318.819824 \nL 208.045959 317.556922 \nL 212.252623 316.072161 \nL 216.459287 314.335124 \nL 220.665951 312.365126 \nL 236.090386 304.729847 \nL 240.29705 303.04184 \nL 244.503714 301.65568 \nL 248.710378 300.594442 \nL 251.514821 300.082292 \nL 254.319263 299.74638 \nL 257.123706 299.613719 \nL 259.928149 299.718861 \nL 262.732591 300.099734 \nL 265.537034 300.791281 \nL 268.341477 301.818025 \nL 271.145919 303.187015 \nL 273.950362 304.882651 \nL 276.754805 306.864589 \nL 280.961469 310.230344 \nL 290.777018 318.393784 \nL 293.581461 320.428306 \nL 296.385903 322.22205 \nL 299.190346 323.750167 \nL 301.994789 325.008812 \nL 304.799231 326.01159 \nL 307.603674 326.784675 \nL 310.408117 327.361589 \nL 314.614781 327.937854 \nL 318.821445 328.267791 \nL 324.43033 328.480173 \nL 327.234773 328.53108 \nL 327.234773 328.53108 \n\" style=\"fill:none;stroke:#1f77b4;stroke-linecap:square;stroke-width:1.5;\"/>\n   </g>\n   <g id=\"patch_3\">\n    <path d=\"M 34.240625 328.6 \nL 34.240625 7.2 \n\" style=\"fill:none;stroke:#000000;stroke-linecap:square;stroke-linejoin:miter;stroke-width:0.8;\"/>\n   </g>\n   <g id=\"patch_4\">\n    <path d=\"M 34.240625 328.6 \nL 341.186875 328.6 \n\" style=\"fill:none;stroke:#000000;stroke-linecap:square;stroke-linejoin:miter;stroke-width:0.8;\"/>\n   </g>\n  </g>\n  <g id=\"legend_1\">\n   <g id=\"line2d_20\">\n    <path d=\"M 357.279687 153.48125 \nL 377.279687 153.48125 \n\" style=\"fill:none;stroke:#1f77b4;stroke-linecap:square;stroke-width:1.5;\"/>\n   </g>\n   <g id=\"line2d_21\"/>\n   <g id=\"text_17\">\n    <!-- c0 -->\n    <g transform=\"translate(385.279687 156.98125)scale(0.1 -0.1)\">\n     <defs>\n      <path d=\"M 48.78125 52.59375 \nL 48.78125 44.1875 \nQ 44.96875 46.296875 41.140625 47.34375 \nQ 37.3125 48.390625 33.40625 48.390625 \nQ 24.65625 48.390625 19.8125 42.84375 \nQ 14.984375 37.3125 14.984375 27.296875 \nQ 14.984375 17.28125 19.8125 11.734375 \nQ 24.65625 6.203125 33.40625 6.203125 \nQ 37.3125 6.203125 41.140625 7.25 \nQ 44.96875 8.296875 48.78125 10.40625 \nL 48.78125 2.09375 \nQ 45.015625 0.34375 40.984375 -0.53125 \nQ 36.96875 -1.421875 32.421875 -1.421875 \nQ 20.0625 -1.421875 12.78125 6.34375 \nQ 5.515625 14.109375 5.515625 27.296875 \nQ 5.515625 40.671875 12.859375 48.328125 \nQ 20.21875 56 33.015625 56 \nQ 37.15625 56 41.109375 55.140625 \nQ 45.0625 54.296875 48.78125 52.59375 \nz\n\" id=\"DejaVuSans-99\"/>\n     </defs>\n     <use xlink:href=\"#DejaVuSans-99\"/>\n     <use x=\"54.980469\" xlink:href=\"#DejaVuSans-48\"/>\n    </g>\n   </g>\n   <g id=\"line2d_22\">\n    <path d=\"M 357.279687 168.159375 \nL 377.279687 168.159375 \n\" style=\"fill:none;stroke:#ff7f0e;stroke-linecap:square;stroke-width:1.5;\"/>\n   </g>\n   <g id=\"line2d_23\"/>\n   <g id=\"text_18\">\n    <!-- c1 -->\n    <g transform=\"translate(385.279687 171.659375)scale(0.1 -0.1)\">\n     <use xlink:href=\"#DejaVuSans-99\"/>\n     <use x=\"54.980469\" xlink:href=\"#DejaVuSans-49\"/>\n    </g>\n   </g>\n   <g id=\"line2d_24\">\n    <path d=\"M 357.279687 182.8375 \nL 377.279687 182.8375 \n\" style=\"fill:none;stroke:#2ca02c;stroke-linecap:square;stroke-width:1.5;\"/>\n   </g>\n   <g id=\"line2d_25\"/>\n   <g id=\"text_19\">\n    <!-- c2 -->\n    <g transform=\"translate(385.279687 186.3375)scale(0.1 -0.1)\">\n     <use xlink:href=\"#DejaVuSans-99\"/>\n     <use x=\"54.980469\" xlink:href=\"#DejaVuSans-50\"/>\n    </g>\n   </g>\n   <g id=\"line2d_26\">\n    <path d=\"M 357.279687 197.515625 \nL 377.279687 197.515625 \n\" style=\"fill:none;stroke:#d62728;stroke-linecap:square;stroke-width:1.5;\"/>\n   </g>\n   <g id=\"line2d_27\"/>\n   <g id=\"text_20\">\n    <!-- c3 -->\n    <g transform=\"translate(385.279687 201.015625)scale(0.1 -0.1)\">\n     <use xlink:href=\"#DejaVuSans-99\"/>\n     <use x=\"54.980469\" xlink:href=\"#DejaVuSans-51\"/>\n    </g>\n   </g>\n  </g>\n </g>\n <defs>\n  <clipPath id=\"pb4b6c28377\">\n   <rect height=\"321.4\" width=\"306.94625\" x=\"34.240625\" y=\"7.2\"/>\n  </clipPath>\n </defs>\n</svg>\n",
      "image/png": "[encoded data removed]"
     },
     "metadata": {
      "needs_background": "light"
     }
    }
   ],
   "source": [
    "sns.displot(\n",
    "    {f\"c{i}\" : x for i, x in enumerate(w.T)},\n",
    "    kind='kde',\n",
    "\n",
    ");"
   ]
  },
  {
   "cell_type": "code",
   "execution_count": 49,
   "metadata": {},
   "outputs": [],
   "source": [
    "# Sample from subsphere\n",
    "v = uniform_subsphere_dist.sample( sample_shape + batch_shape )"
   ]
  },
  {
   "source": [
    "z_prime = torch.cat([w.unsqueeze(-1), v * torch.sqrt(1 - w**2).unsqueeze(-1)], -1)"
   ],
   "cell_type": "code",
   "metadata": {},
   "execution_count": 50,
   "outputs": []
  },
  {
   "cell_type": "code",
   "execution_count": 51,
   "metadata": {},
   "outputs": [],
   "source": [
    "z = (U.view(\n",
    "    torch.Size( batch_shape + (m, m) )\n",
    ") @ z_prime.view( \n",
    "    sample_shape + batch_shape + (m, 1) \n",
    ")).squeeze()"
   ]
  },
  {
   "cell_type": "code",
   "execution_count": 52,
   "metadata": {},
   "outputs": [
    {
     "output_type": "display_data",
     "data": {
      "application/vnd.plotly.v1+json": {
       "config": {
        "plotlyServerURL": "https://plot.ly"
       },
       "data": [
        {
         "mode": "markers",
         "type": "scatter3d",
         "x": [
          0.4878154993057251,
          -0.24929238855838776,
          0.34334781765937805,
          0.7948947548866272,
          0.6580554842948914,
          -0.44690006971359253,
          0.2951526939868927,
          -0.8290089964866638,
          0.29769113659858704,
          0.4869364798069,
          -0.36635690927505493,
          0.06392167508602142,
          0.30748414993286133,
          -0.11070017516613007,
          0.32031551003456116,
          -0.33445560932159424,
          0.18970389664173126,
          0.4935609698295593,
          0.4649609923362732,
          -0.26421093940734863,
          0.09105879068374634,
          -0.6299204230308533,
          0.13703323900699615,
          0.5739446878433228,
          -0.8978233337402344,
          -0.290886789560318,
          0.40324631333351135,
          -0.8772581219673157,
          0.02041742019355297,
          -0.6463853716850281,
          0.5403096079826355,
          0.4840276837348938,
          -0.1480754017829895,
          0.638943076133728,
          0.4898207485675812,
          -0.8086444735527039,
          -0.4180780053138733,
          0.3437492251396179,
          -0.5448253750801086,
          -0.030452292412519455,
          0.22010375559329987,
          -0.33923229575157166,
          0.04922981560230255,
          0.38164833188056946,
          0.4293995201587677,
          -0.2394435852766037,
          -0.09144536405801773,
          -0.6727098822593689,
          0.0019402115140110254,
          -0.29440170526504517,
          -0.1974249631166458,
          -0.08931803703308105,
          -0.31162095069885254,
          -0.07424835115671158,
          -0.20832441747188568,
          -0.33365398645401,
          0.4190814197063446,
          0.42415404319763184,
          -0.34003400802612305,
          0.07929495722055435,
          0.5539489984512329,
          0.4402538239955902,
          0.8640166521072388,
          -0.29879218339920044,
          -0.28822803497314453,
          0.04625023901462555,
          -0.11434223502874374,
          0.5700417160987854,
          -0.639650821685791,
          0.0675039142370224,
          -0.6121672987937927,
          0.1541472226381302,
          -0.2208247184753418,
          -0.2264852523803711,
          -0.09407030791044235,
          -0.13118796050548553,
          -0.6831814646720886,
          0.09746969491243362,
          -0.16526085138320923,
          0.44711464643478394,
          -0.09245704114437103,
          0.04479404166340828,
          0.1788197159767151,
          0.3383038640022278,
          -0.49907028675079346,
          0.10719843208789825,
          0.47488293051719666,
          -0.1808703988790512,
          0.014025974087417126,
          -0.1663157194852829,
          -0.29973843693733215,
          -0.4119602143764496,
          0.2654746174812317,
          0.14589205384254456,
          0.27210891246795654,
          0.5162933468818665,
          -0.11298096925020218,
          -0.02478317730128765,
          0.07582594454288483,
          -0.4120579659938812
         ],
         "y": [
          0.868231475353241,
          0.9361478090286255,
          0.9389601945877075,
          0.6018168330192566,
          0.5694214105606079,
          0.35199397802352905,
          0.6176173686981201,
          0.12316802889108658,
          0.9534056782722473,
          0.863121747970581,
          0.6669180989265442,
          0.8012227416038513,
          0.9391911029815674,
          0.9606606364250183,
          0.9109508991241455,
          0.7772349715232849,
          0.9801881909370422,
          0.7728440165519714,
          0.8240253329277039,
          0.8845950365066528,
          0.8584322929382324,
          0.774041473865509,
          0.9840208888053894,
          0.8021365404129028,
          0.4396112859249115,
          0.944600522518158,
          0.914987325668335,
          0.37516260147094727,
          0.9943280220031738,
          0.7452330589294434,
          0.5286489129066467,
          0.8185717463493347,
          0.7646849751472473,
          0.7396695613861084,
          0.844098687171936,
          0.5880944132804871,
          0.652782678604126,
          0.802320122718811,
          0.8178195357322693,
          0.9863450527191162,
          0.9651215672492981,
          0.8836742639541626,
          0.9596368670463562,
          0.8824983239173889,
          0.8993614912033081,
          0.9598276615142822,
          0.9875994324684143,
          0.6329367160797119,
          0.8711386919021606,
          0.7660051584243774,
          0.9803091883659363,
          0.4952041208744049,
          0.8880608081817627,
          0.9801844954490662,
          0.29826948046684265,
          0.663597583770752,
          0.8980526328086853,
          0.8212056756019592,
          0.780390202999115,
          0.9488981366157532,
          0.8246778249740601,
          0.753574550151825,
          0.1314225047826767,
          0.8476839661598206,
          0.9510613679885864,
          0.9488508701324463,
          0.7882083058357239,
          0.7440196871757507,
          0.766049325466156,
          0.8889285326004028,
          0.7443874478340149,
          0.7070181965827942,
          0.9364399313926697,
          0.7646536827087402,
          0.7901951670646667,
          0.673213541507721,
          0.6914716362953186,
          0.8384223580360413,
          0.9192227721214294,
          0.8928433656692505,
          0.592185378074646,
          0.9849919080734253,
          0.899630069732666,
          0.6158909201622009,
          0.4089077413082123,
          0.9884992837905884,
          0.7913812398910522,
          0.8491872549057007,
          0.8144641518592834,
          0.9699354767799377,
          0.9498214721679688,
          0.9109621644020081,
          0.9632757306098938,
          0.869487464427948,
          0.9403015375137329,
          0.8335829377174377,
          0.9918187856674194,
          0.9643933773040771,
          0.7829388976097107,
          0.23352421820163727
         ],
         "z": [
          0.09060920774936676,
          0.24795252084732056,
          -0.021586107090115547,
          0.07719342410564423,
          -0.4926685392856598,
          -0.82242351770401,
          -0.7289949655532837,
          0.5455030202865601,
          -0.04896418750286102,
          -0.13384173810482025,
          0.6488471627235413,
          -0.5949419736862183,
          -0.15288394689559937,
          0.2547086477279663,
          -0.25993528962135315,
          0.5329588651657104,
          0.05695125088095665,
          -0.3988855183124542,
          0.32371821999549866,
          0.38429683446884155,
          0.5047793388366699,
          0.06371542066335678,
          0.11368668079376221,
          -0.16481640934944153,
          0.025593619793653488,
          0.1520346999168396,
          0.013803894631564617,
          0.29945138096809387,
          -0.10437806695699692,
          0.1637476086616516,
          0.654672384262085,
          -0.30928540229797363,
          -0.6271606683731079,
          0.2112835794687271,
          -0.21811223030090332,
          -0.015449099242687225,
          -0.6317321062088013,
          0.4879741668701172,
          0.1853003203868866,
          -0.16185173392295837,
          0.14175556600093842,
          -0.3225539028644562,
          -0.2768996059894562,
          -0.27484750747680664,
          -0.08224916458129883,
          0.14627884328365326,
          0.12761257588863373,
          0.3832131326198578,
          0.4910331070423126,
          -0.5714575052261353,
          -0.004138879012316465,
          -0.8641731142997742,
          -0.33799442648887634,
          0.18364472687244415,
          0.9314699769020081,
          0.6695619225502014,
          -0.13368678092956543,
          0.3817256987094879,
          0.52475506067276,
          0.3054578900337219,
          0.11422380059957504,
          0.4881618022918701,
          0.48600757122039795,
          -0.43835484981536865,
          0.11138543486595154,
          -0.31231847405433655,
          -0.604692816734314,
          -0.3485501706600189,
          -0.06336376816034317,
          -0.4530443549156189,
          0.2667172849178314,
          -0.6901910901069641,
          0.2726105749607086,
          0.6033316254615784,
          -0.6055924892425537,
          0.7277178168296814,
          0.2347971796989441,
          -0.5362345576286316,
          -0.3573767840862274,
          0.05402916297316551,
          -0.8004798889160156,
          0.1666862815618515,
          0.3983580470085144,
          -0.7114975452423096,
          -0.7640178203582764,
          -0.10666564851999283,
          -0.3849700689315796,
          0.49615198373794556,
          0.5800442099571228,
          -0.17766299843788147,
          -0.0894196629524231,
          0.020893622189760208,
          -0.040286339819431305,
          0.47191837430000305,
          0.20442527532577515,
          0.19641967117786407,
          -0.05941934883594513,
          0.26330792903900146,
          0.6174601316452026,
          0.8807239532470703
         ]
        },
        {
         "mode": "markers",
         "type": "scatter3d",
         "x": [
          -0.9237098097801208,
          -0.890702486038208,
          -0.9690729379653931,
          -0.57079017162323,
          -0.906295657157898,
          -0.8833732008934021,
          -0.9806256890296936,
          -0.9555783271789551,
          -0.7056655883789062,
          -0.6834562420845032,
          -0.8934159278869629,
          -0.98652583360672,
          -0.6608222723007202,
          -0.7295451164245605,
          -0.9522923827171326,
          -0.9769450426101685,
          -0.9982828497886658,
          -0.7994075417518616,
          -0.8313453793525696,
          -0.7847170233726501,
          -0.8195353746414185,
          -0.9759982824325562,
          -0.34579694271087646,
          -0.8148505687713623,
          -0.8867436051368713,
          -0.9659916162490845,
          -0.9591002464294434,
          -0.8177103996276855,
          -0.864617109298706,
          -0.7682574391365051,
          -0.9641236662864685,
          -0.9645279049873352,
          -0.7668909430503845,
          -0.854410707950592,
          -0.8961353302001953,
          -0.7209529280662537,
          -0.8209951519966125,
          -0.8295844197273254,
          -0.768465518951416,
          -0.958530068397522,
          -0.9733893871307373,
          -0.9866583347320557,
          -0.9970077276229858,
          -0.9822413325309753,
          -0.8142729997634888,
          -0.9429506659507751,
          -0.9541314244270325,
          -0.9732851386070251,
          -0.9383042454719543,
          -0.988486111164093,
          -0.9381400346755981,
          -0.9708210229873657,
          -0.8801507949829102,
          -0.8725916147232056,
          -0.860630214214325,
          -0.9477232694625854,
          -0.9084169864654541,
          -0.9296388626098633,
          -0.8315586447715759,
          -0.9351716041564941,
          -0.745887815952301,
          -0.9938935041427612,
          -0.9581359028816223,
          -0.9168900847434998,
          -0.831070065498352,
          -0.9364694952964783,
          -0.9000122547149658,
          -0.8436236381530762,
          -0.6921182870864868,
          -0.9768151044845581,
          -0.8876437544822693,
          -0.8069102168083191,
          -0.9982995986938477,
          -0.8974589109420776,
          -0.9252085089683533,
          -0.9678786993026733,
          -0.7336803078651428,
          -0.8671967387199402,
          -0.9465241432189941,
          -0.8923326730728149,
          -0.9708164930343628,
          -0.83812415599823,
          -0.9668566584587097,
          -0.9945127367973328,
          -0.8843421936035156,
          -0.9774264097213745,
          -0.9984116554260254,
          -0.9604172110557556,
          -0.9886070489883423,
          -0.7474098205566406,
          -0.9781123399734497,
          -0.954387366771698,
          -0.9460678100585938,
          -0.9310224652290344,
          -0.9616289734840393,
          -0.9244779944419861,
          -0.971786379814148,
          -0.968375563621521,
          -0.9531667232513428,
          -0.9118683934211731
         ],
         "y": [
          0.33872684836387634,
          -0.18218623101711273,
          -0.2458091378211975,
          0.16645193099975586,
          -0.32697349786758423,
          0.4405187964439392,
          -0.1935717612504959,
          0.22550304234027863,
          -0.6207873821258545,
          -0.28372278809547424,
          0.3947412371635437,
          -0.03944937139749527,
          0.6797789335250854,
          -0.6481813192367554,
          -0.29643258452415466,
          -0.11015249043703079,
          0.012663363479077816,
          -0.5446169972419739,
          0.5542395114898682,
          0.422771155834198,
          -0.06437043100595474,
          0.1343849003314972,
          -0.611004650592804,
          -0.37601372599601746,
          0.3351704478263855,
          0.13245563209056854,
          -0.2723970413208008,
          -0.18825721740722656,
          0.47205865383148193,
          0.6398059725761414,
          0.24701201915740967,
          -0.007844824343919754,
          -0.41885244846343994,
          -0.07277148216962814,
          -0.42522385716438293,
          -0.22192323207855225,
          -0.12367486208677292,
          -0.20889191329479218,
          0.6005607843399048,
          -0.1262313723564148,
          -0.14448808133602142,
          -0.15842391550540924,
          -0.0670289546251297,
          -0.005285068415105343,
          -0.17006267607212067,
          0.2621569335460663,
          -0.299379825592041,
          0.18586045503616333,
          -0.2979021668434143,
          0.13002309203147888,
          0.2866573631763458,
          -0.006910580676048994,
          0.47465768456459045,
          0.40119668841362,
          0.26319149136543274,
          0.15167410671710968,
          0.41213706135749817,
          -0.3574930429458618,
          -0.38870739936828613,
          -0.0061463359743356705,
          0.63775235414505,
          0.10124772042036057,
          0.1879957616329193,
          -0.33219611644744873,
          0.5561094284057617,
          -0.09855353087186813,
          0.34573015570640564,
          -0.48132073879241943,
          0.714106559753418,
          0.20774291455745697,
          -0.4496634900569916,
          -0.26166635751724243,
          0.04938877746462822,
          -0.04105392098426819,
          -0.35624098777770996,
          0.24577641487121582,
          -0.524005651473999,
          0.4690711796283722,
          0.3014579117298126,
          -0.20100274682044983,
          0.16843941807746887,
          0.11628619581460953,
          0.15557235479354858,
          -0.07217591255903244,
          -0.008191022090613842,
          0.19233565032482147,
          -0.05112682282924652,
          0.23832175135612488,
          0.09847326576709747,
          0.2434413731098175,
          -0.036306750029325485,
          0.13356509804725647,
          0.18045906722545624,
          -0.006028368603438139,
          -0.1154560074210167,
          0.2478565275669098,
          -0.21786651015281677,
          -0.24606065452098846,
          -0.19806112349033356,
          0.13570278882980347
         ],
         "z": [
          0.17895321547985077,
          0.41648197174072266,
          0.02180641144514084,
          -0.8040475249290466,
          0.2677994668483734,
          -0.15998418629169464,
          -0.030053425580263138,
          0.18978528678417206,
          0.3415539562702179,
          0.672598659992218,
          0.21444657444953918,
          -0.15877822041511536,
          0.3181423842906952,
          -0.218231201171875,
          -0.07257373631000519,
          0.18287916481494904,
          0.05719282105565071,
          0.2536531090736389,
          0.04102976992726326,
          -0.45330309867858887,
          0.5694016218185425,
          0.17137108743190765,
          0.7121079564094543,
          -0.44117140769958496,
          0.3183496594429016,
          -0.22207139432430267,
          0.07698416709899902,
          -0.5439751148223877,
          0.17204037308692932,
          0.02070845477283001,
          0.09721434116363525,
          0.26386433839797974,
          -0.48625192046165466,
          -0.5144770741462708,
          -0.12698891758918762,
          -0.6564883589744568,
          -0.5573791265487671,
          0.5178357362747192,
          -0.22087904810905457,
          0.25551071763038635,
          0.17786601185798645,
          -0.03751286119222641,
          0.038506150245666504,
          0.18754743039608002,
          -0.5550118684768677,
          0.20522615313529968,
          -0.002224236261099577,
          -0.1348031908273697,
          0.1756116896867752,
          0.07738999277353287,
          0.1942184716463089,
          -0.2397056519985199,
          0.005885797087103128,
          -0.27861276268959045,
          -0.43594253063201904,
          0.2807410657405853,
          -0.07015414535999298,
          -0.08927665650844574,
          -0.3967578113079071,
          -0.3541416525840759,
          -0.19215427339076996,
          0.04387003183364868,
          -0.21594716608524323,
          0.22126519680023193,
          -0.008055837824940681,
          0.3366186022758484,
          -0.2654215395450592,
          0.2379695177078247,
          0.10499533265829086,
          0.05172189697623253,
          0.09945513308048248,
          0.529553234577179,
          -0.030961766839027405,
          -0.43918344378471375,
          0.13069641590118408,
          0.052960287779569626,
          -0.4325866997241974,
          0.16715867817401886,
          -0.11495737731456757,
          0.4041537940502167,
          -0.1707146316766739,
          -0.5329403281211853,
          -0.20244869589805603,
          -0.07573019713163376,
          -0.4667673707008362,
          -0.08743350952863693,
          0.02366926521062851,
          0.14422740042209625,
          -0.11383803933858871,
          -0.6181544065475464,
          -0.2048855721950531,
          -0.26703017950057983,
          0.26905423402786255,
          0.36491209268569946,
          -0.248876690864563,
          -0.2896680533885956,
          0.09036260843276978,
          -0.041266437619924545,
          -0.22857171297073364,
          -0.38740259408950806
         ]
        },
        {
         "mode": "markers",
         "type": "scatter3d",
         "x": [
          -0.13762743771076202,
          -0.18863870203495026,
          -0.027449846267700195,
          -0.009632490575313568,
          -0.027311330661177635,
          0.06981735676527023,
          -0.024013577029109,
          -0.27164745330810547,
          0.11519909650087357,
          -0.0010762384627014399,
          -0.08027377724647522,
          -0.2108890861272812,
          0.16331906616687775,
          -0.1343144029378891,
          0.21305698156356812,
          0.04192322492599487,
          -0.15847145020961761,
          -0.03299834951758385,
          0.05415574833750725,
          0.10139339417219162,
          0.0431685745716095,
          0.1958598643541336,
          0.09788829833269119,
          -0.07495205104351044,
          0.09080389887094498,
          0.003659470472484827,
          0.15937215089797974,
          -0.1838494837284088,
          -0.06192572042346001,
          -0.05513770133256912,
          0.1486929953098297,
          0.011628825217485428,
          -0.11913930624723434,
          0.12628470361232758,
          0.015729228034615517,
          -0.06119496002793312,
          -0.0877145305275917,
          -0.13531813025474548,
          0.07074037939310074,
          -0.06748651713132858,
          0.0737166777253151,
          -0.22032007575035095,
          0.12136152386665344,
          -0.1388687938451767,
          -0.21573840081691742,
          0.05981417000293732,
          0.021231306716799736,
          -0.09919770807027817,
          0.1253749579191208,
          -0.302702397108078,
          -0.22536204755306244,
          -0.0454355888068676,
          0.0851258635520935,
          0.011944391764700413,
          0.062219299376010895,
          -0.20939692854881287,
          -0.06241472810506821,
          -0.1793668419122696,
          -0.143511563539505,
          -0.21585430204868317,
          0.03165604546666145,
          -0.005117555148899555,
          -0.14410530030727386,
          0.07170601934194565,
          -0.03482703119516373,
          -0.09828832745552063,
          0.147884801030159,
          -0.1356029510498047,
          -0.016313528642058372,
          -0.16122208535671234,
          0.06640010327100754,
          -0.06919095665216446,
          -0.20279072225093842,
          -0.06586751341819763,
          0.24214987456798553,
          0.03604815900325775,
          0.31466877460479736,
          0.11959820985794067,
          -0.053748857229948044,
          0.17873287200927734,
          -0.07748959213495255,
          -0.09975136816501617,
          -0.0902935341000557,
          -0.16831795871257782,
          -0.022834017872810364,
          0.16211314499378204,
          -0.14768552780151367,
          -0.07174108922481537,
          -0.07653430849313736,
          0.30105724930763245,
          -0.1469605267047882,
          0.10042566806077957,
          -0.25241830945014954,
          0.18880756199359894,
          -0.11680319160223007,
          -0.032622989267110825,
          -0.09079756587743759,
          -0.016818439587950706,
          0.2227526605129242,
          0.12839165329933167
         ],
         "y": [
          -0.24734266102313995,
          -0.01089008990675211,
          -0.026685602962970734,
          -0.0024083296302706003,
          0.012968604452908039,
          -0.08940120786428452,
          -0.06583216041326523,
          -0.20994652807712555,
          -0.00973085779696703,
          0.20741431415081024,
          0.1349835991859436,
          0.06178981065750122,
          -0.09069442003965378,
          -0.13303574919700623,
          0.12542615830898285,
          0.058763980865478516,
          -0.10666963458061218,
          -0.01973823830485344,
          -0.041196245700120926,
          -0.02926739677786827,
          -0.04483707249164581,
          0.10444457083940506,
          0.18505951762199402,
          0.20402030646800995,
          -0.13758990168571472,
          0.09349417686462402,
          -0.1239137277007103,
          -0.017481287941336632,
          0.3935186266899109,
          -0.086909718811512,
          0.07442468404769897,
          0.1513589769601822,
          -0.0367567241191864,
          -0.1748243123292923,
          -0.023440299555659294,
          -0.2650666832923889,
          -0.03848573565483093,
          0.08781331777572632,
          -0.003103138878941536,
          0.09540282934904099,
          -0.4153898060321808,
          -0.3330126404762268,
          0.18726667761802673,
          0.2961015999317169,
          -0.10374440997838974,
          -0.04353492707014084,
          0.19217362999916077,
          0.005183895584195852,
          -0.09847287833690643,
          -0.09226514399051666,
          0.10280530154705048,
          -0.01649375632405281,
          -0.05445895716547966,
          -0.09294721484184265,
          0.2161373496055603,
          0.13070937991142273,
          0.15880528092384338,
          -0.06662142276763916,
          -0.09919029474258423,
          -0.275420606136322,
          0.04903430491685867,
          -0.32606279850006104,
          0.12186001241207123,
          0.13628533482551575,
          0.12212120741605759,
          -0.20327341556549072,
          0.1568751186132431,
          0.13200300931930542,
          -0.009953108616173267,
          -0.004412976559251547,
          0.11797318607568741,
          0.039061591029167175,
          0.003943611867725849,
          0.09922969341278076,
          0.2119995653629303,
          -0.14043700695037842,
          -0.006234597414731979,
          0.27519428730010986,
          -0.033286068588495255,
          0.07474882155656815,
          0.013433816842734814,
          -0.0715714767575264,
          0.06798142194747925,
          -0.018759766593575478,
          -0.008891682140529156,
          0.13173343241214752,
          -0.11513281613588333,
          0.12273649871349335,
          -0.11795133352279663,
          0.03408338502049446,
          -0.008570898324251175,
          0.0660884901881218,
          -0.039329275488853455,
          0.04458833113312721,
          -0.19007274508476257,
          0.09004408121109009,
          0.06154093146324158,
          0.1364130824804306,
          0.04606485739350319,
          0.0824427679181099
         ],
         "z": [
          0.9591038227081299,
          0.9819861054420471,
          0.9992668628692627,
          0.999950647354126,
          0.999542772769928,
          0.9935455918312073,
          0.9975416660308838,
          0.939217746257782,
          0.9932947158813477,
          0.9782525300979614,
          0.9875907301902771,
          0.9755550622940063,
          0.9823957085609436,
          0.9819679260253906,
          0.9689555764198303,
          0.9973911643028259,
          0.9815845489501953,
          0.999260425567627,
          0.9976822733879089,
          0.9944157600402832,
          0.9980611205101013,
          0.9750539064407349,
          0.9778398275375366,
          0.9760931134223938,
          0.9863181710243225,
          0.9956130385398865,
          0.9794109463691711,
          0.9827988743782043,
          0.9172285199165344,
          0.9946891069412231,
          0.9860787391662598,
          0.9884104132652283,
          0.9921968579292297,
          0.9764673709869385,
          0.999601423740387,
          0.9622861742973328,
          0.9954018592834473,
          0.9869030714035034,
          0.997489869594574,
          0.9931483864784241,
          0.9066515564918518,
          0.9168214201927185,
          0.9747833013534546,
          0.9450075030326843,
          0.9709242582321167,
          0.9972596764564514,
          0.9811311960220337,
          0.9950541853904724,
          0.9872102737426758,
          0.9486085772514343,
          0.9688358306884766,
          0.998831033706665,
          0.994880735874176,
          0.9955993294715881,
          0.9743784070014954,
          0.9690551161766052,
          0.9853350520133972,
          0.9815238118171692,
          0.9846652150154114,
          0.9367765188217163,
          0.998295247554779,
          0.9453341960906982,
          0.9820303916931152,
          0.988071084022522,
          0.9919039011001587,
          0.9741761684417725,
          0.9764835834503174,
          0.9819301962852478,
          0.9998173117637634,
          0.9869081974029541,
          0.9907942414283752,
          0.9968383312225342,
          0.979214072227478,
          0.9928820729255676,
          0.946794331073761,
          0.9894331097602844,
          0.9491810202598572,
          0.9539204835891724,
          0.9979994893074036,
          0.9810540676116943,
          0.996902585029602,
          0.9924349188804626,
          0.9935922026634216,
          0.9855541586875916,
          0.9996996521949768,
          0.9779394268989563,
          0.9823101758956909,
          0.9898428320884705,
          0.9900655746459961,
          0.9529967308044434,
          0.9891051650047302,
          0.9927471280097961,
          0.9668185114860535,
          0.9810012578964233,
          0.9747970104217529,
          0.9954032897949219,
          0.9939659833908081,
          0.9905092120170593,
          0.9737859964370728,
          0.9882907867431641
         ]
        },
        {
         "mode": "markers",
         "type": "scatter3d",
         "x": [
          -0.21046918630599976,
          -0.3409728407859802,
          0.23865117132663727,
          0.5180079936981201,
          0.3820539116859436,
          0.3490951657295227,
          -0.38021254539489746,
          0.14563825726509094,
          -0.4668310880661011,
          -0.2246340811252594,
          0.10986843705177307,
          -0.05578508600592613,
          0.3209865987300873,
          -0.3020200729370117,
          0.011357039213180542,
          -0.17706042528152466,
          0.3636322319507599,
          0.31653252243995667,
          -0.14401286840438843,
          -0.10428495705127716,
          -0.33197304606437683,
          0.2605642080307007,
          0.14933070540428162,
          -0.10758177936077118,
          -0.26515936851501465,
          0.5254439115524292,
          -0.19060461223125458,
          0.15633809566497803,
          0.2077704519033432,
          -0.042578719556331635,
          0.12598426640033722,
          -0.6018546223640442,
          0.3083951771259308,
          0.0505683571100235,
          -0.032829005271196365,
          0.04009876400232315,
          0.016210611909627914,
          -0.08631900697946548,
          -0.11206352710723877,
          0.2277509570121765,
          -0.5612804293632507,
          0.5125443935394287,
          0.45517995953559875,
          0.052387334406375885,
          0.5736011862754822,
          0.056869134306907654,
          -0.2353038191795349,
          0.37641286849975586,
          -0.0850948691368103,
          -0.15398789942264557,
          -0.06161170452833176,
          -0.2921242415904999,
          -0.19496947526931763,
          0.08332337439060211,
          -0.0007612109184265137,
          0.32208144664764404,
          0.10233330726623535,
          0.3422474265098572,
          -0.3619472086429596,
          0.41036301851272583,
          0.11748603731393814,
          0.09710066765546799,
          0.5913901329040527,
          -0.0079670250415802,
          0.5110629200935364,
          0.4721072018146515,
          -0.21831375360488892,
          -0.4481765627861023,
          0.15651726722717285,
          0.30386683344841003,
          0.23472456634044647,
          0.08240073174238205,
          0.02594299614429474,
          0.25486764311790466,
          0.16490185260772705,
          -0.022421594709157944,
          -0.06203668564558029,
          -0.270476371049881,
          0.07218492031097412,
          0.2423456907272339,
          -0.15745581686496735,
          0.1438370794057846,
          -0.2544291913509369,
          -0.5285019278526306,
          0.30312398076057434,
          0.01695442944765091,
          0.24152909219264984,
          0.13342459499835968,
          0.20968866348266602,
          -0.007387474179267883,
          -0.07380117475986481,
          0.05741862952709198,
          -0.08916658163070679,
          -0.24063025414943695,
          0.0702269971370697,
          -0.3095267415046692,
          0.03323064744472504,
          -0.4181917607784271,
          0.02426135540008545,
          -0.3539557456970215
         ],
         "y": [
          -0.6920885443687439,
          -0.9388299584388733,
          -0.6393347978591919,
          -0.5609363913536072,
          -0.8945650458335876,
          0.016403615474700928,
          -0.887103796005249,
          -0.6667461395263672,
          -0.6996245980262756,
          -0.7439785599708557,
          -0.3789156377315521,
          -0.7563022971153259,
          -0.5472844839096069,
          -0.8619384169578552,
          -0.4846718907356262,
          -0.6732385158538818,
          0.051248520612716675,
          -0.9462830424308777,
          -0.45141011476516724,
          -0.38479262590408325,
          -0.4838906526565552,
          -0.9253388047218323,
          -0.6788696050643921,
          -0.9487355947494507,
          -0.8931490778923035,
          -0.24198976159095764,
          -0.4506208598613739,
          -0.4530477523803711,
          -0.770182728767395,
          -0.5684741139411926,
          -0.5909068584442139,
          -0.3292177617549896,
          -0.7391671538352966,
          -0.5391390323638916,
          -0.7138291001319885,
          -0.524078905582428,
          -0.6554110646247864,
          -0.6342384815216064,
          -0.33030766248703003,
          -0.9619767665863037,
          -0.41665709018707275,
          -0.681795597076416,
          -0.8889955282211304,
          -0.7617669701576233,
          -0.7132024168968201,
          -0.5288269519805908,
          -0.5798020958900452,
          -0.8186309337615967,
          -0.7155114412307739,
          -0.8714043498039246,
          -0.6942318081855774,
          -0.8264522552490234,
          -0.21619147062301636,
          -0.9677355885505676,
          -0.9018286466598511,
          -0.7809247374534607,
          -0.9700514674186707,
          -0.6244540214538574,
          -0.42037761211395264,
          -0.25725167989730835,
          -0.6293155550956726,
          -0.5891762971878052,
          -0.7832275629043579,
          -0.3893059492111206,
          -0.437845915555954,
          -0.7546509504318237,
          -0.7879716753959656,
          -0.7651745080947876,
          -0.814700722694397,
          -0.4851962625980377,
          -0.8180863261222839,
          -0.8895034193992615,
          -0.7851105332374573,
          -0.709583044052124,
          -0.7041501998901367,
          -0.7410776019096375,
          -0.6971500515937805,
          -0.866097629070282,
          -0.20420844852924347,
          -0.6575455665588379,
          -0.6260929107666016,
          -0.9362900257110596,
          -0.4267328083515167,
          -0.6696510314941406,
          -0.6422922611236572,
          -0.5474311113357544,
          -0.5225507616996765,
          -0.4205986559391022,
          -0.848086416721344,
          -0.5357052683830261,
          -0.7042348384857178,
          -0.34621137380599976,
          -0.8469477295875549,
          -0.6836072206497192,
          -0.9558711051940918,
          -0.7183877229690552,
          -0.9359696507453918,
          -0.5971167683601379,
          -0.8004605174064636,
          -0.6280025243759155
         ],
         "z": [
          0.6904463171958923,
          0.04832965135574341,
          0.730955958366394,
          0.645769476890564,
          0.2319226711988449,
          0.9369436502456665,
          0.26169657707214355,
          0.7309166193008423,
          0.5409196019172668,
          0.6293134093284607,
          0.9188861846923828,
          0.651839554309845,
          0.7729471921920776,
          0.4072418808937073,
          0.8746222853660583,
          0.7179132699966431,
          0.9301317930221558,
          0.065996453166008,
          0.8806186318397522,
          0.9170929193496704,
          0.8097182512283325,
          0.27541691064834595,
          0.7189133167266846,
          0.29719850420951843,
          0.3632839322090149,
          0.8156896829605103,
          0.8721299767494202,
          0.8776708841323853,
          0.6030340194702148,
          0.8215985894203186,
          0.7968418598175049,
          0.7275896668434143,
          0.5987690091133118,
          0.8406972885131836,
          0.6995499730110168,
          0.8507252335548401,
          0.7550984025001526,
          0.768303632736206,
          0.9371971487998962,
          0.1507653295993805,
          0.7150951027870178,
          0.5219703912734985,
          -0.04998186230659485,
          0.6457294821739197,
          0.40289464592933655,
          0.8468222618103027,
          0.7800394892692566,
          0.43377047777175903,
          0.6933989524841309,
          0.465770423412323,
          0.7171096205711365,
          0.48128998279571533,
          0.9566860198974609,
          0.23779207468032837,
          0.4320931136608124,
          0.5351822972297668,
          0.22029057145118713,
          0.7020853757858276,
          0.8320317268371582,
          0.8748850226402283,
          0.7682179808616638,
          0.8021488189697266,
          0.19186538457870483,
          0.9210740327835083,
          0.7396658658981323,
          0.45564985275268555,
          0.5757079720497131,
          0.46221816539764404,
          0.5583592653274536,
          0.8199082612991333,
          0.5250133872032166,
          0.44943708181381226,
          0.6188121438026428,
          0.6569128036499023,
          0.6906372308731079,
          0.6710448861122131,
          0.7142360806465149,
          0.42037755250930786,
          0.9762623906135559,
          0.7133740186691284,
          0.7636853456497192,
          0.3204247057437897,
          0.8678507804870605,
          0.5217787027359009,
          0.7039719820022583,
          0.8366789817810059,
          0.8176823258399963,
          0.8973821401596069,
          0.48660042881965637,
          0.8443726897239685,
          0.7061208486557007,
          0.9363977313041687,
          0.524145781993866,
          0.6890414953231812,
          0.285269558429718,
          0.6229865550994873,
          0.35050898790359497,
          0.6845195889472961,
          0.5988941788673401,
          0.6930570602416992
         ]
        }
       ],
       "layout": {
        "template": {
         "data": {
          "bar": [
           {
            "error_x": {
             "color": "#2a3f5f"
            },
            "error_y": {
             "color": "#2a3f5f"
            },
            "marker": {
             "line": {
              "color": "#E5ECF6",
              "width": 0.5
             }
            },
            "type": "bar"
           }
          ],
          "barpolar": [
           {
            "marker": {
             "line": {
              "color": "#E5ECF6",
              "width": 0.5
             }
            },
            "type": "barpolar"
           }
          ],
          "carpet": [
           {
            "aaxis": {
             "endlinecolor": "#2a3f5f",
             "gridcolor": "white",
             "linecolor": "white",
             "minorgridcolor": "white",
             "startlinecolor": "#2a3f5f"
            },
            "baxis": {
             "endlinecolor": "#2a3f5f",
             "gridcolor": "white",
             "linecolor": "white",
             "minorgridcolor": "white",
             "startlinecolor": "#2a3f5f"
            },
            "type": "carpet"
           }
          ],
          "choropleth": [
           {
            "colorbar": {
             "outlinewidth": 0,
             "ticks": ""
            },
            "type": "choropleth"
           }
          ],
          "contour": [
           {
            "colorbar": {
             "outlinewidth": 0,
             "ticks": ""
            },
            "colorscale": [
             [
              0,
              "#0d0887"
             ],
             [
              0.1111111111111111,
              "#46039f"
             ],
             [
              0.2222222222222222,
              "#7201a8"
             ],
             [
              0.3333333333333333,
              "#9c179e"
             ],
             [
              0.4444444444444444,
              "#bd3786"
             ],
             [
              0.5555555555555556,
              "#d8576b"
             ],
             [
              0.6666666666666666,
              "#ed7953"
             ],
             [
              0.7777777777777778,
              "#fb9f3a"
             ],
             [
              0.8888888888888888,
              "#fdca26"
             ],
             [
              1,
              "#f0f921"
             ]
            ],
            "type": "contour"
           }
          ],
          "contourcarpet": [
           {
            "colorbar": {
             "outlinewidth": 0,
             "ticks": ""
            },
            "type": "contourcarpet"
           }
          ],
          "heatmap": [
           {
            "colorbar": {
             "outlinewidth": 0,
             "ticks": ""
            },
            "colorscale": [
             [
              0,
              "#0d0887"
             ],
             [
              0.1111111111111111,
              "#46039f"
             ],
             [
              0.2222222222222222,
              "#7201a8"
             ],
             [
              0.3333333333333333,
              "#9c179e"
             ],
             [
              0.4444444444444444,
              "#bd3786"
             ],
             [
              0.5555555555555556,
              "#d8576b"
             ],
             [
              0.6666666666666666,
              "#ed7953"
             ],
             [
              0.7777777777777778,
              "#fb9f3a"
             ],
             [
              0.8888888888888888,
              "#fdca26"
             ],
             [
              1,
              "#f0f921"
             ]
            ],
            "type": "heatmap"
           }
          ],
          "heatmapgl": [
           {
            "colorbar": {
             "outlinewidth": 0,
             "ticks": ""
            },
            "colorscale": [
             [
              0,
              "#0d0887"
             ],
             [
              0.1111111111111111,
              "#46039f"
             ],
             [
              0.2222222222222222,
              "#7201a8"
             ],
             [
              0.3333333333333333,
              "#9c179e"
             ],
             [
              0.4444444444444444,
              "#bd3786"
             ],
             [
              0.5555555555555556,
              "#d8576b"
             ],
             [
              0.6666666666666666,
              "#ed7953"
             ],
             [
              0.7777777777777778,
              "#fb9f3a"
             ],
             [
              0.8888888888888888,
              "#fdca26"
             ],
             [
              1,
              "#f0f921"
             ]
            ],
            "type": "heatmapgl"
           }
          ],
          "histogram": [
           {
            "marker": {
             "colorbar": {
              "outlinewidth": 0,
              "ticks": ""
             }
            },
            "type": "histogram"
           }
          ],
          "histogram2d": [
           {
            "colorbar": {
             "outlinewidth": 0,
             "ticks": ""
            },
            "colorscale": [
             [
              0,
              "#0d0887"
             ],
             [
              0.1111111111111111,
              "#46039f"
             ],
             [
              0.2222222222222222,
              "#7201a8"
             ],
             [
              0.3333333333333333,
              "#9c179e"
             ],
             [
              0.4444444444444444,
              "#bd3786"
             ],
             [
              0.5555555555555556,
              "#d8576b"
             ],
             [
              0.6666666666666666,
              "#ed7953"
             ],
             [
              0.7777777777777778,
              "#fb9f3a"
             ],
             [
              0.8888888888888888,
              "#fdca26"
             ],
             [
              1,
              "#f0f921"
             ]
            ],
            "type": "histogram2d"
           }
          ],
          "histogram2dcontour": [
           {
            "colorbar": {
             "outlinewidth": 0,
             "ticks": ""
            },
            "colorscale": [
             [
              0,
              "#0d0887"
             ],
             [
              0.1111111111111111,
              "#46039f"
             ],
             [
              0.2222222222222222,
              "#7201a8"
             ],
             [
              0.3333333333333333,
              "#9c179e"
             ],
             [
              0.4444444444444444,
              "#bd3786"
             ],
             [
              0.5555555555555556,
              "#d8576b"
             ],
             [
              0.6666666666666666,
              "#ed7953"
             ],
             [
              0.7777777777777778,
              "#fb9f3a"
             ],
             [
              0.8888888888888888,
              "#fdca26"
             ],
             [
              1,
              "#f0f921"
             ]
            ],
            "type": "histogram2dcontour"
           }
          ],
          "mesh3d": [
           {
            "colorbar": {
             "outlinewidth": 0,
             "ticks": ""
            },
            "type": "mesh3d"
           }
          ],
          "parcoords": [
           {
            "line": {
             "colorbar": {
              "outlinewidth": 0,
              "ticks": ""
             }
            },
            "type": "parcoords"
           }
          ],
          "pie": [
           {
            "automargin": true,
            "type": "pie"
           }
          ],
          "scatter": [
           {
            "marker": {
             "colorbar": {
              "outlinewidth": 0,
              "ticks": ""
             }
            },
            "type": "scatter"
           }
          ],
          "scatter3d": [
           {
            "line": {
             "colorbar": {
              "outlinewidth": 0,
              "ticks": ""
             }
            },
            "marker": {
             "colorbar": {
              "outlinewidth": 0,
              "ticks": ""
             }
            },
            "type": "scatter3d"
           }
          ],
          "scattercarpet": [
           {
            "marker": {
             "colorbar": {
              "outlinewidth": 0,
              "ticks": ""
             }
            },
            "type": "scattercarpet"
           }
          ],
          "scattergeo": [
           {
            "marker": {
             "colorbar": {
              "outlinewidth": 0,
              "ticks": ""
             }
            },
            "type": "scattergeo"
           }
          ],
          "scattergl": [
           {
            "marker": {
             "colorbar": {
              "outlinewidth": 0,
              "ticks": ""
             }
            },
            "type": "scattergl"
           }
          ],
          "scattermapbox": [
           {
            "marker": {
             "colorbar": {
              "outlinewidth": 0,
              "ticks": ""
             }
            },
            "type": "scattermapbox"
           }
          ],
          "scatterpolar": [
           {
            "marker": {
             "colorbar": {
              "outlinewidth": 0,
              "ticks": ""
             }
            },
            "type": "scatterpolar"
           }
          ],
          "scatterpolargl": [
           {
            "marker": {
             "colorbar": {
              "outlinewidth": 0,
              "ticks": ""
             }
            },
            "type": "scatterpolargl"
           }
          ],
          "scatterternary": [
           {
            "marker": {
             "colorbar": {
              "outlinewidth": 0,
              "ticks": ""
             }
            },
            "type": "scatterternary"
           }
          ],
          "surface": [
           {
            "colorbar": {
             "outlinewidth": 0,
             "ticks": ""
            },
            "colorscale": [
             [
              0,
              "#0d0887"
             ],
             [
              0.1111111111111111,
              "#46039f"
             ],
             [
              0.2222222222222222,
              "#7201a8"
             ],
             [
              0.3333333333333333,
              "#9c179e"
             ],
             [
              0.4444444444444444,
              "#bd3786"
             ],
             [
              0.5555555555555556,
              "#d8576b"
             ],
             [
              0.6666666666666666,
              "#ed7953"
             ],
             [
              0.7777777777777778,
              "#fb9f3a"
             ],
             [
              0.8888888888888888,
              "#fdca26"
             ],
             [
              1,
              "#f0f921"
             ]
            ],
            "type": "surface"
           }
          ],
          "table": [
           {
            "cells": {
             "fill": {
              "color": "#EBF0F8"
             },
             "line": {
              "color": "white"
             }
            },
            "header": {
             "fill": {
              "color": "#C8D4E3"
             },
             "line": {
              "color": "white"
             }
            },
            "type": "table"
           }
          ]
         },
         "layout": {
          "annotationdefaults": {
           "arrowcolor": "#2a3f5f",
           "arrowhead": 0,
           "arrowwidth": 1
          },
          "autotypenumbers": "strict",
          "coloraxis": {
           "colorbar": {
            "outlinewidth": 0,
            "ticks": ""
           }
          },
          "colorscale": {
           "diverging": [
            [
             0,
             "#8e0152"
            ],
            [
             0.1,
             "#c51b7d"
            ],
            [
             0.2,
             "#de77ae"
            ],
            [
             0.3,
             "#f1b6da"
            ],
            [
             0.4,
             "#fde0ef"
            ],
            [
             0.5,
             "#f7f7f7"
            ],
            [
             0.6,
             "#e6f5d0"
            ],
            [
             0.7,
             "#b8e186"
            ],
            [
             0.8,
             "#7fbc41"
            ],
            [
             0.9,
             "#4d9221"
            ],
            [
             1,
             "#276419"
            ]
           ],
           "sequential": [
            [
             0,
             "#0d0887"
            ],
            [
             0.1111111111111111,
             "#46039f"
            ],
            [
             0.2222222222222222,
             "#7201a8"
            ],
            [
             0.3333333333333333,
             "#9c179e"
            ],
            [
             0.4444444444444444,
             "#bd3786"
            ],
            [
             0.5555555555555556,
             "#d8576b"
            ],
            [
             0.6666666666666666,
             "#ed7953"
            ],
            [
             0.7777777777777778,
             "#fb9f3a"
            ],
            [
             0.8888888888888888,
             "#fdca26"
            ],
            [
             1,
             "#f0f921"
            ]
           ],
           "sequentialminus": [
            [
             0,
             "#0d0887"
            ],
            [
             0.1111111111111111,
             "#46039f"
            ],
            [
             0.2222222222222222,
             "#7201a8"
            ],
            [
             0.3333333333333333,
             "#9c179e"
            ],
            [
             0.4444444444444444,
             "#bd3786"
            ],
            [
             0.5555555555555556,
             "#d8576b"
            ],
            [
             0.6666666666666666,
             "#ed7953"
            ],
            [
             0.7777777777777778,
             "#fb9f3a"
            ],
            [
             0.8888888888888888,
             "#fdca26"
            ],
            [
             1,
             "#f0f921"
            ]
           ]
          },
          "colorway": [
           "#636efa",
           "#EF553B",
           "#00cc96",
           "#ab63fa",
           "#FFA15A",
           "#19d3f3",
           "#FF6692",
           "#B6E880",
           "#FF97FF",
           "#FECB52"
          ],
          "font": {
           "color": "#2a3f5f"
          },
          "geo": {
           "bgcolor": "white",
           "lakecolor": "white",
           "landcolor": "#E5ECF6",
           "showlakes": true,
           "showland": true,
           "subunitcolor": "white"
          },
          "hoverlabel": {
           "align": "left"
          },
          "hovermode": "closest",
          "mapbox": {
           "style": "light"
          },
          "paper_bgcolor": "white",
          "plot_bgcolor": "#E5ECF6",
          "polar": {
           "angularaxis": {
            "gridcolor": "white",
            "linecolor": "white",
            "ticks": ""
           },
           "bgcolor": "#E5ECF6",
           "radialaxis": {
            "gridcolor": "white",
            "linecolor": "white",
            "ticks": ""
           }
          },
          "scene": {
           "xaxis": {
            "backgroundcolor": "#E5ECF6",
            "gridcolor": "white",
            "gridwidth": 2,
            "linecolor": "white",
            "showbackground": true,
            "ticks": "",
            "zerolinecolor": "white"
           },
           "yaxis": {
            "backgroundcolor": "#E5ECF6",
            "gridcolor": "white",
            "gridwidth": 2,
            "linecolor": "white",
            "showbackground": true,
            "ticks": "",
            "zerolinecolor": "white"
           },
           "zaxis": {
            "backgroundcolor": "#E5ECF6",
            "gridcolor": "white",
            "gridwidth": 2,
            "linecolor": "white",
            "showbackground": true,
            "ticks": "",
            "zerolinecolor": "white"
           }
          },
          "shapedefaults": {
           "line": {
            "color": "#2a3f5f"
           }
          },
          "ternary": {
           "aaxis": {
            "gridcolor": "white",
            "linecolor": "white",
            "ticks": ""
           },
           "baxis": {
            "gridcolor": "white",
            "linecolor": "white",
            "ticks": ""
           },
           "bgcolor": "#E5ECF6",
           "caxis": {
            "gridcolor": "white",
            "linecolor": "white",
            "ticks": ""
           }
          },
          "title": {
           "x": 0.05
          },
          "xaxis": {
           "automargin": true,
           "gridcolor": "white",
           "linecolor": "white",
           "ticks": "",
           "title": {
            "standoff": 15
           },
           "zerolinecolor": "white",
           "zerolinewidth": 2
          },
          "yaxis": {
           "automargin": true,
           "gridcolor": "white",
           "linecolor": "white",
           "ticks": "",
           "title": {
            "standoff": 15
           },
           "zerolinecolor": "white",
           "zerolinewidth": 2
          }
         }
        }
       }
      }
     },
     "metadata": {}
    }
   ],
   "source": [
    "from plotly import graph_objects as go\n",
    "\n",
    "fig = go.Figure()\n",
    "for i in range(4):\n",
    "    x, y, z_ = z[:, i, :].T\n",
    "    fig.add_trace((go.Scatter3d(\n",
    "        x=x, \n",
    "        y=y, \n",
    "        z=z_, \n",
    "        mode=\"markers\"\n",
    "    )))\n",
    "fig"
   ]
  },
  {
   "cell_type": "code",
   "execution_count": null,
   "metadata": {},
   "outputs": [],
   "source": []
  }
 ]
}