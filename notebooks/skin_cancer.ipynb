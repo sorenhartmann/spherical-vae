{
 "metadata": {
  "language_info": {
   "codemirror_mode": {
    "name": "ipython",
    "version": 3
   },
   "file_extension": ".py",
   "mimetype": "text/x-python",
   "name": "python",
   "nbconvert_exporter": "python",
   "pygments_lexer": "ipython3",
   "version": "3.7.7"
  },
  "orig_nbformat": 2,
  "kernelspec": {
   "name": "python377jvsc74a57bd0e32810c40703c4b752f6b8506b0344fdc51a89786e7912e7c8d083b94121ab6d",
   "display_name": "Python 3.7.7 64-bit ('spherical-vae': conda)"
  }
 },
 "nbformat": 4,
 "nbformat_minor": 2,
 "cells": [
  {
   "cell_type": "code",
   "execution_count": 10,
   "metadata": {},
   "outputs": [
    {
     "output_type": "stream",
     "name": "stdout",
     "text": [
      "The autoreload extension is already loaded. To reload it, use:\n  %reload_ext autoreload\n"
     ]
    }
   ],
   "source": [
    "%load_ext autoreload\n",
    "%autoreload 2\n",
    "\n",
    "from src.data.skin_cancer import SkinCancerDataset\n",
    "from src.models.convolutional import ConvVariationalAutoencoder, ConvSphericalVAE\n",
    "from sklearn.decomposition import PCA\n",
    "from src.utils import plot_3d\n",
    "import optuna\n",
    "import torch\n",
    "\n",
    "from plotly.subplots import make_subplots"
   ]
  },
  {
   "cell_type": "code",
   "execution_count": 11,
   "metadata": {},
   "outputs": [],
   "source": [
    "vae_study = optuna.load_study(\n",
    "    study_name=\"skin-cancer-vae\",\n",
    "    storage=\"sqlite:///../runs/skin-cancer-vae/optuna-storage.db\"\n",
    ")\n",
    "best_vae_trial = vae_study.best_trial\n",
    "\n",
    "svae_study = optuna.load_study(\n",
    "    study_name=\"skin-cancer-svae\",\n",
    "    storage=\"sqlite:///../runs/skin-cancer-svae/optuna-storage.db\"\n",
    ")\n",
    "best_svae_trial = svae_study.best_trial"
   ]
  },
  {
   "cell_type": "code",
   "execution_count": 34,
   "metadata": {},
   "outputs": [],
   "source": [
    "dataset = SkinCancerDataset(image_size=[225, 300])\n",
    "X = dataset.X\n",
    "image_size = X.shape[1:]"
   ]
  },
  {
   "cell_type": "code",
   "execution_count": 52,
   "metadata": {},
   "outputs": [],
   "source": [
    "vae_params = vae_study.best_trial.params\n",
    "vae_ffnn_layer_sizes = [vae_params[f\"ffnn_layers_size_{i+1}\"] for i in range(vae_params[\"n_ffnn_layers\"])]\n",
    "vae_kernel_sizes = [vae_params[f\"kernel_size_{i+1}\"] for i in range(vae_params[\"n_conv_layers\"])]\n",
    "vae_maxpool_kernel = vae_params[\"maxpool_kernel\"]\n",
    "vae_maxpool_stride = vae_params[\"maxpool_stride\"]\n",
    "vae_out_channels = [vae_params[f\"out_channels_{i+1}\"] for i in range (vae_params[\"n_conv_layers\"])]\n",
    "vae_padding_sizes = [vae_params[f\"padding_size_{i+1}\"] for i in range (vae_params[\"n_conv_layers\"])]\n",
    "vae_stride = [vae_params[f\"stride_{i+1}\"] for i in range (vae_params[\"n_conv_layers\"])]\n",
    "vae_dropout = vae_study.best_trial.params[\"dropout\"]\n",
    "vae_number = vae_study.best_trial.number\n",
    "\n",
    "svae_params = svae_study.best_trial.params\n",
    "svae_ffnn_layer_sizes = [svae_params[f\"ffnn_layers_size_{i+1}\"] for i in range(svae_params[\"n_ffnn_layers\"])]\n",
    "svae_kernel_sizes = [svae_params[f\"kernel_size_{i+1}\"] for i in range(svae_params[\"n_conv_layers\"])]\n",
    "svae_maxpool_kernel = svae_params[\"maxpool_kernel\"]\n",
    "svae_maxpool_stride = svae_params[\"maxpool_stride\"]\n",
    "svae_out_channels = [svae_params[f\"out_channels_{i+1}\"] for i in range (svae_params[\"n_conv_layers\"])]\n",
    "svae_padding_sizes = [svae_params[f\"padding_size_{i+1}\"] for i in range (svae_params[\"n_conv_layers\"])]\n",
    "svae_stride = [svae_params[f\"stride_{i+1}\"] for i in range (svae_params[\"n_conv_layers\"])]\n",
    "svae_dropout = svae_study.best_trial.params[\"dropout\"]\n",
    "svae_number = svae_study.best_trial.number\n"
   ]
  },
  {
   "cell_type": "code",
   "execution_count": 54,
   "metadata": {},
   "outputs": [
    {
     "output_type": "execute_result",
     "data": {
      "text/plain": [
       "torch.Size([3, 225, 300])"
      ]
     },
     "metadata": {},
     "execution_count": 54
    }
   ],
   "source": [
    "image_size"
   ]
  },
  {
   "cell_type": "code",
   "execution_count": 55,
   "metadata": {},
   "outputs": [
    {
     "output_type": "execute_result",
     "data": {
      "text/plain": [
       "<All keys matched successfully>"
      ]
     },
     "metadata": {},
     "execution_count": 55
    }
   ],
   "source": [
    "vae = ConvVariationalAutoencoder(\n",
    "    image_size = image_size,\n",
    "    latent_dim = 2,\n",
    "    encoder_params={\n",
    "        \"kernel_size\": vae_kernel_sizes,\n",
    "        \"stride\" : vae_stride,\n",
    "        \"out_channel_size\" : vae_out_channels,\n",
    "        \"padding_size\" : vae_padding_sizes,\n",
    "        \"activation_function\" : \"Tanh\",\n",
    "        \"ffnn_layer_size\" : vae_ffnn_layer_sizes,\n",
    "        \"dropout\" : vae_dropout,\n",
    "        \"dropout2d\" : vae_dropout,\n",
    "        \"maxpool_kernel\" : vae_maxpool_kernel,\n",
    "        \"maxpool_stride\" : vae_maxpool_stride\n",
    "     },\n",
    "    decoder_params={\n",
    "        \"kernel_size\" : vae_kernel_sizes[::-1],\n",
    "        \"stride\" : vae_stride[::-1],\n",
    "        \"in_channel_size\" : vae_out_channels[::-1],\n",
    "        \"activation_function\" : \"Tanh\",\n",
    "        \"ffnn_layer_size\" : vae_ffnn_layer_sizes[::-1],\n",
    "        \"dropout\" : vae_dropout,\n",
    "        \"dropout2d\" : vae_dropout\n",
    "    },\n",
    ")\n",
    "vae_state_dict = torch.load(f\"../runs/skin-cancer-vae/checkpoints/{vae_number:03}.pt\", map_location=torch.device('cpu'))\n",
    "vae.load_state_dict(vae_state_dict)"
   ]
  },
  {
   "cell_type": "code",
   "execution_count": 59,
   "metadata": {},
   "outputs": [
    {
     "output_type": "execute_result",
     "data": {
      "text/plain": [
       "<All keys matched successfully>"
      ]
     },
     "metadata": {},
     "execution_count": 59
    }
   ],
   "source": [
    "svae = ConvSphericalVAE(\n",
    "    image_size = image_size,\n",
    "    latent_dim = 3,\n",
    "    encoder_params={\n",
    "        \"kernel_size\" : svae_kernel_sizes,\n",
    "        \"stride\" : svae_stride,\n",
    "        \"out_channel_size\" : svae_out_channels,\n",
    "        \"padding_size\" : svae_padding_sizes,\n",
    "        \"activation_function\" : \"Tanh\",\n",
    "        \"ffnn_layer_size\" : svae_ffnn_layer_sizes,\n",
    "        \"dropout\" : svae_dropout,\n",
    "        \"dropout2d\" : svae_dropout,\n",
    "        \"maxpool_kernel\" : svae_maxpool_kernel,\n",
    "        \"maxpool_stride\" : svae_maxpool_stride\n",
    "     },\n",
    "    decoder_params={\n",
    "        \"kernel_size\" : svae_kernel_sizes[::-1],\n",
    "        \"stride\" : svae_stride[::-1],\n",
    "        \"in_channel_size\" : svae_out_channels[::-1],\n",
    "        \"activation_function\" : \"Tanh\",\n",
    "        \"ffnn_layer_size\" : svae_ffnn_layer_sizes[::-1],\n",
    "        \"dropout\" : svae_dropout,\n",
    "        \"dropout2d\" : svae_dropout\n",
    "    },\n",
    ")\n",
    "svae_state_dict = torch.load(f\"../runs/skin-cancer-svae/checkpoints/{svae_number:03}.pt\", map_location=torch.device('cpu'))\n",
    "svae.load_state_dict(svae_state_dict)"
   ]
  },
  {
   "cell_type": "code",
   "execution_count": 60,
   "metadata": {},
   "outputs": [
    {
     "output_type": "error",
     "ename": "AttributeError",
     "evalue": "'SkinCancerDataset' object has no attribute 'labels'",
     "traceback": [
      "\u001b[0;31m---------------------------------------------------------------------------\u001b[0m",
      "\u001b[0;31mAttributeError\u001b[0m                            Traceback (most recent call last)",
      "\u001b[0;32m<ipython-input-60-c05a3e540104>\u001b[0m in \u001b[0;36m<module>\u001b[0;34m\u001b[0m\n\u001b[1;32m      1\u001b[0m \u001b[0;32mimport\u001b[0m \u001b[0mre\u001b[0m\u001b[0;34m\u001b[0m\u001b[0;34m\u001b[0m\u001b[0m\n\u001b[1;32m      2\u001b[0m \u001b[0mpattern\u001b[0m \u001b[0;34m=\u001b[0m \u001b[0mre\u001b[0m\u001b[0;34m.\u001b[0m\u001b[0mcompile\u001b[0m\u001b[0;34m(\u001b[0m\u001b[0;34m\"_(\\d+):\"\u001b[0m\u001b[0;34m)\u001b[0m\u001b[0;34m\u001b[0m\u001b[0;34m\u001b[0m\u001b[0m\n\u001b[0;32m----> 3\u001b[0;31m \u001b[0mclasses\u001b[0m \u001b[0;34m=\u001b[0m \u001b[0;34m[\u001b[0m\u001b[0mint\u001b[0m\u001b[0;34m(\u001b[0m\u001b[0mpattern\u001b[0m\u001b[0;34m.\u001b[0m\u001b[0msearch\u001b[0m\u001b[0;34m(\u001b[0m\u001b[0ms\u001b[0m\u001b[0;34m)\u001b[0m\u001b[0;34m.\u001b[0m\u001b[0mgroup\u001b[0m\u001b[0;34m(\u001b[0m\u001b[0;36m1\u001b[0m\u001b[0;34m)\u001b[0m\u001b[0;34m)\u001b[0m \u001b[0;32mfor\u001b[0m \u001b[0ms\u001b[0m \u001b[0;32min\u001b[0m \u001b[0mdataset\u001b[0m\u001b[0;34m.\u001b[0m\u001b[0mlabels\u001b[0m\u001b[0;34m]\u001b[0m\u001b[0;34m\u001b[0m\u001b[0;34m\u001b[0m\u001b[0m\n\u001b[0m",
      "\u001b[0;31mAttributeError\u001b[0m: 'SkinCancerDataset' object has no attribute 'labels'"
     ]
    }
   ],
   "source": [
    "import re\n",
    "pattern = re.compile(\"_(\\d+):\")\n",
    "classes = [int(pattern.search(s).group(1)) for s in dataset.labels]"
   ]
  },
  {
   "cell_type": "code",
   "execution_count": null,
   "metadata": {},
   "outputs": [],
   "source": []
  }
 ]
}